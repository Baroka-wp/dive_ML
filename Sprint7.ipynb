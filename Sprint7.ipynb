{
  "nbformat": 4,
  "nbformat_minor": 0,
  "metadata": {
    "colab": {
      "name": "Sprint7.ipynb",
      "provenance": [],
      "collapsed_sections": [],
      "authorship_tag": "ABX9TyNVAhqhzEcsamBleseLvYAQ",
      "include_colab_link": true
    },
    "kernelspec": {
      "name": "python3",
      "display_name": "Python 3"
    },
    "language_info": {
      "name": "python"
    }
  },
  "cells": [
    {
      "cell_type": "markdown",
      "metadata": {
        "id": "view-in-github",
        "colab_type": "text"
      },
      "source": [
        "<a href=\"https://colab.research.google.com/github/Baroka-wp/dive_ML/blob/master/Sprint7.ipynb\" target=\"_parent\"><img src=\"https://colab.research.google.com/assets/colab-badge.svg\" alt=\"Open In Colab\"/></a>"
      ]
    },
    {
      "cell_type": "code",
      "source": [
        "import numpy as np\n",
        "import random\n",
        "from sklearn.datasets import make_blobs\n",
        "import matplotlib.pyplot as plt\n",
        "import pandas as pd\n",
        "from sklearn.decomposition import PCA\n",
        "import seaborn as sns\n",
        "from sklearn.manifold import TSNE\n",
        "from sklearn.cluster import DBSCAN"
      ],
      "metadata": {
        "id": "IDzmerF5DFIF"
      },
      "execution_count": 46,
      "outputs": []
    },
    {
      "cell_type": "code",
      "source": [
        "#sample data\n",
        "np.random.seed(30)\n",
        "X,_ = make_blobs(n_samples=100, n_features=2, centers=4, cluster_std=0.5, shuffle=True, random_state=0)\n",
        "X.shape"
      ],
      "metadata": {
        "colab": {
          "base_uri": "https://localhost:8080/"
        },
        "id": "9P2FzA7PDF9f",
        "outputId": "65ece968-6764-4982-88dc-b8148ffa8e63"
      },
      "execution_count": 81,
      "outputs": [
        {
          "output_type": "execute_result",
          "data": {
            "text/plain": [
              "(100, 2)"
            ]
          },
          "metadata": {},
          "execution_count": 81
        }
      ]
    },
    {
      "cell_type": "code",
      "source": [
        "# visualiser les donnees\n",
        "plt.rcParams.update({'figure.figsize':(10,7.5), 'figure.dpi':100})\n",
        "plt.scatter(X[:, 0], X[:, 1]);"
      ],
      "metadata": {
        "colab": {
          "base_uri": "https://localhost:8080/",
          "height": 598
        },
        "id": "0YWpRO49DLdd",
        "outputId": "5f92ed64-1731-4ab0-9311-2e10d7202c5f"
      },
      "execution_count": 82,
      "outputs": [
        {
          "output_type": "display_data",
          "data": {
            "image/png": "[encoded data removed]",
            "text/plain": [
              "<Figure size 1000x750 with 1 Axes>"
            ]
          },
          "metadata": {
            "needs_background": "light"
          }
        }
      ]
    },
    {
      "cell_type": "markdown",
      "source": [
        "## [Problem 1] Determine the initial value of the center point"
      ],
      "metadata": {
        "id": "tbfP5HK5Kzyi"
      }
    },
    {
      "cell_type": "code",
      "source": [
        "#initialise random centroid\n",
        "K = 4\n",
        "n_samples, n_features = X.shape\n",
        "def initialize_random_centroid(X):\n",
        "  centroids = np.zeros((K,n_features))\n",
        "\n",
        "  for k in range(K):\n",
        "    centroid = X[np.random.choice(range(n_samples))]\n",
        "    centroids[k] = centroid\n",
        "\n",
        "  return centroids"
      ],
      "metadata": {
        "id": "R8OffpY3DQwI"
      },
      "execution_count": 83,
      "outputs": []
    },
    {
      "cell_type": "code",
      "source": [
        "centroids = initialize_random_centroid(X)\n",
        "centroids"
      ],
      "metadata": {
        "colab": {
          "base_uri": "https://localhost:8080/"
        },
        "id": "_YTsQ45EELOn",
        "outputId": "40003173-230a-423a-efc9-607ab23d1353"
      },
      "execution_count": 84,
      "outputs": [
        {
          "output_type": "execute_result",
          "data": {
            "text/plain": [
              "array([[ 1.85367905,  1.5088862 ],\n",
              "       [ 1.85367905,  1.5088862 ],\n",
              "       [-1.86097353,  8.2576415 ],\n",
              "       [-1.86097353,  8.2576415 ]])"
            ]
          },
          "metadata": {},
          "execution_count": 84
        }
      ]
    },
    {
      "cell_type": "markdown",
      "source": [
        "## [Problem 2] Creation of a function to obtain SSE\n",
        "\n",
        "## [Problem 3] Allocation to cluster\n"
      ],
      "metadata": {
        "id": "dvZSJ7YhJRTT"
      }
    },
    {
      "cell_type": "code",
      "source": [
        "#create clusters\n",
        "\n",
        "def create_clusters(X, centroids):\n",
        "  clusters = [[] for _ in range(K)]\n",
        "  for point_idx,point in enumerate(X):\n",
        "    #calculates the sum of squared errors (SSE)\n",
        "    sse = np.sqrt(np.sum((point-centroids)**2, axis=1))\n",
        "    # determinate closet centroids\n",
        "    closet_centroid = np.argmin(sse)\n",
        "    #append  closet_centroid in clusters\n",
        "    clusters[closet_centroid].append(point_idx)\n",
        "\n",
        "  return clusters"
      ],
      "metadata": {
        "id": "UW_DYdhBEXwz"
      },
      "execution_count": 51,
      "outputs": []
    },
    {
      "cell_type": "markdown",
      "source": [
        "## [Problem 4] Movement of the center point\n"
      ],
      "metadata": {
        "id": "ejjWVlc9JaDe"
      }
    },
    {
      "cell_type": "code",
      "source": [
        "# calculate new centroid\n",
        "\n",
        "def calculate_new_centroid(clusters, X):\n",
        "  centroids = np.zeros((K,n_features))\n",
        "  for idx,cluster in enumerate(clusters):\n",
        "    new_centroid = np.mean(X[cluster], axis=0)\n",
        "    centroids[idx] = new_centroid\n",
        "\n",
        "  return centroids"
      ],
      "metadata": {
        "id": "CXkJdSb4GEWO"
      },
      "execution_count": 52,
      "outputs": []
    },
    {
      "cell_type": "code",
      "source": [
        "# predict cluster\n",
        "\n",
        "def predict_cluster(clusters, X):\n",
        "  y_pred = np.zeros(n_samples)\n",
        "\n",
        "  for cluster_idx, cluster in enumerate(clusters):\n",
        "    for sample_idx in cluster:\n",
        "      y_pred[sample_idx] = cluster_idx\n",
        "\n",
        "  return y_pred\n"
      ],
      "metadata": {
        "id": "_7359jooGzff"
      },
      "execution_count": 53,
      "outputs": []
    },
    {
      "cell_type": "code",
      "source": [
        "## ploting\n",
        "def plot_fig(X,y):\n",
        "  plt.scatter(X[:,0], X[:,1], c=y, s=40, cmap=plt.cm.Spectral)\n",
        "  plt.show()\n"
      ],
      "metadata": {
        "id": "4EET8QU0HWTJ"
      },
      "execution_count": 54,
      "outputs": []
    },
    {
      "cell_type": "markdown",
      "source": [
        "## [Problem 5] Repeat"
      ],
      "metadata": {
        "id": "V8V5jB09JhzU"
      }
    },
    {
      "cell_type": "markdown",
      "source": [
        "## K-means scratch\n"
      ],
      "metadata": {
        "id": "gKoVOOswKsuh"
      }
    },
    {
      "cell_type": "code",
      "source": [
        "class ScratchKMeans():\n",
        "    \"\"\"\n",
        "    K-means scratch implementation\n",
        "\n",
        "    Parameters\n",
        "    ----------\n",
        "    n_clusters : int\n",
        "      Number of clusters\n",
        "    n_init : int\n",
        "      How many times to change the initial value of the center point for calculation\n",
        "    max_iter : int\n",
        "      Maximum number of iterations in one calculation\n",
        "    tol : float\n",
        "      Margin of error between the center point and the center of gravity, which is the reference for ending the iteration\n",
        "    verbose : bool\n",
        "      True to output the learning process\n",
        "    \"\"\"\n",
        "    def __init__(self, n_clusters, n_iter, verbose=True):\n",
        "        # Record hyperparameters as attributes\n",
        "        self.K = n_clusters\n",
        "        self.n_iter = n_iter\n",
        "        self.verbose = verbose\n",
        "        self.n_samples, self.n_features = X.shape\n",
        "\n",
        "    def fit(self,X):\n",
        "      centroids = self._initialize_random_centroid(X)\n",
        "\n",
        "      for it in range(self.n_iter):\n",
        "        clusters = self._create_clusters(X, centroids)\n",
        "\n",
        "        prev_centroids = centroids\n",
        "        centroids = self._calculate_new_centroid(clusters,X)\n",
        "\n",
        "        diff = centroids - prev_centroids\n",
        "\n",
        "      y_pred = self.predict_cluster(clusters, X)\n",
        "\n",
        "      if self.verbose:\n",
        "        self._plot_fig(X,y_pred,centroids)\n",
        "\n",
        "      return y_pred\n",
        "\n",
        "\n",
        "    def _initialize_random_centroid(self, X):\n",
        "      centroids = np.zeros((self.K,self.n_features))\n",
        "\n",
        "      for k in range(self.K):\n",
        "        centroid = X[np.random.choice(range(self.n_samples))]\n",
        "        centroids[k] = centroid\n",
        "\n",
        "      return centroids\n",
        "\n",
        "    def _create_clusters(self, X, centroids):\n",
        "      clusters = [[] for _ in range(self.K)]\n",
        "\n",
        "      for point_idx,point in enumerate(X):\n",
        "        #calculates the sum of squared errors (SSE)\n",
        "        closet_centroid = np.argmin(np.sqrt(np.sum((point-centroids)**2, axis=1)))\n",
        "        # determinate closet centroids\n",
        "  \n",
        "        clusters[closet_centroid].append(point_idx)\n",
        "\n",
        "      return clusters\n",
        "\n",
        "\n",
        "    def _calculate_new_centroid(self,clusters, X):\n",
        "      centroids = np.zeros((K,n_features))\n",
        "      for idx,cluster in enumerate(clusters):\n",
        "        new_centroid = np.mean(X[cluster], axis=0)\n",
        "        centroids[idx] = new_centroid\n",
        "\n",
        "      return centroids\n",
        "\n",
        "    \n",
        "    def predict_cluster(self,clusters, X):\n",
        "      y_pred = np.zeros(n_samples)\n",
        "\n",
        "      for cluster_idx, cluster in enumerate(clusters):\n",
        "        for sample_idx in cluster:\n",
        "          y_pred[sample_idx] = cluster_idx\n",
        "\n",
        "      return y_pred\n",
        "\n",
        "    def _plot_fig(self,X,y,centroids):\n",
        "      plt.scatter(X[:,0], X[:,1], c=y, s=40, cmap=plt.cm.Spectral)\n",
        "\n",
        "      for point in centroids:\n",
        "            plt.scatter(*point, marker=\"x\", color='black', linewidth=2)\n",
        "      plt.show()"
      ],
      "metadata": {
        "id": "l6VyivKGLC27"
      },
      "execution_count": 85,
      "outputs": []
    },
    {
      "cell_type": "markdown",
      "source": [
        "## [Problem 7] Estimate"
      ],
      "metadata": {
        "id": "jDkAPpx8P3hv"
      }
    },
    {
      "cell_type": "code",
      "source": [
        "# cumputing \n",
        "K_means = ScratchKMeans(n_clusters=4, n_iter=1000)\n",
        "y_pred = K_means.fit(X)"
      ],
      "metadata": {
        "colab": {
          "base_uri": "https://localhost:8080/",
          "height": 598
        },
        "id": "cRo3sWL1Nb-D",
        "outputId": "f73af014-6c1c-44ca-9bc9-d1cb13922dee"
      },
      "execution_count": 86,
      "outputs": [
        {
          "output_type": "display_data",
          "data": {
            "image/png": "[encoded data removed]",
            "text/plain": [
              "<Figure size 1000x750 with 1 Axes>"
            ]
          },
          "metadata": {
            "needs_background": "light"
          }
        }
      ]
    },
    {
      "cell_type": "markdown",
      "source": [
        "## [Problem 8] Implementation of elbow method\n"
      ],
      "metadata": {
        "id": "QmHmNpB2TWeX"
      }
    },
    {
      "cell_type": "code",
      "source": [
        "def eucledian_distance(x1,x2):\n",
        "  distance = np.sqrt(np.sum((x1-x2)**2))\n",
        "  return np.sqrt(np.sum((x1-x2)**2))\n",
        "\n",
        "# class of K-means cluster\n",
        "class ScratchKMeans2():\n",
        "    def __init__(self, k=5, max_iters=100, verbose=False):\n",
        "        self.k = k\n",
        "        self.max_iters = max_iters\n",
        "        self.verbose = verbose\n",
        "        self.sse = []\n",
        "        \n",
        "        # initializing an empty list of sample indeces for each cluster\n",
        "        self.clusters = [[] for _ in range(self.k)]\n",
        "        \n",
        "        # a list to store the mean of feature vector \n",
        "        self.centroids = []\n",
        "        \n",
        "    def fit(self, X):\n",
        "        if self.verbose:\n",
        "            print()\n",
        "        return\n",
        "    \n",
        "    def fit_predict(self,X):\n",
        "        self.X = X\n",
        "        self.n_samples, self.n_features = X.shape\n",
        "        \n",
        "        # initialize the centroids\n",
        "        random_samples_idxs = np.random.choice(self.n_samples, self.k, replace=False)\n",
        "        self.centroids = [self.X[idx] for idx in random_samples_idxs]\n",
        "        \n",
        "        # optimization\n",
        "        for _ in range(self.max_iters):\n",
        "            # update cluster\n",
        "            self.clusters = self._create_clusters(self.centroids)\n",
        "            \n",
        "            # update centroids\n",
        "            # store old centroids\n",
        "            centroids_old = self.centroids\n",
        "            self.centroids = self._get_centroids(self.clusters)\n",
        "            # check for if the centroids are not changing anymore(and stop)\n",
        "            if self._is_converged(centroids_old, self.centroids):\n",
        "              # calculating the sse\n",
        "              for i,cluster in enumerate(self.clusters):\n",
        "                for sample_idx in cluster:\n",
        "                  self.sse.append(eucledian_distance(X[sample_idx],self.centroids[i]))\n",
        "              break\n",
        "        return self._get_cluster_labels(self.clusters)\n",
        "    \n",
        "    def _create_clusters(self, centroids):\n",
        "        clusters = [[] for _ in range(self.k)]\n",
        "        for idx, sample in enumerate(self.X):\n",
        "            # getting closest centroids index\n",
        "            centroids_idx = self._closest_centroid(sample, centroids)\n",
        "            clusters[centroids_idx].append(idx)\n",
        "        return clusters\n",
        "    \n",
        "    def _closest_centroid(self, sample, centroids):\n",
        "        # calc distance of all samples to the centroids\n",
        "        distances = [eucledian_distance(sample,point) for point in centroids]\n",
        "        closest_idx = np.argmin(distances)\n",
        "        return closest_idx\n",
        "    \n",
        "    def _get_centroids(self,clusters):\n",
        "        centroids = np.zeros((self.k, self.n_features))\n",
        "        for cluster_idx, cluster in enumerate(clusters):\n",
        "            cluster_mean = np.mean(self.X[cluster], axis=0)\n",
        "            centroids[cluster_idx] = cluster_mean\n",
        "        return centroids\n",
        "    \n",
        "    def _is_converged(self, centroids_old, centroids):\n",
        "        distances = [eucledian_distance(centroids_old[i], centroids[i]) for i in range(self.k)]\n",
        "        return sum(distances) == 0\n",
        "    \n",
        "    def _get_cluster_labels(self,clusters):\n",
        "        labels = np.empty(self.n_samples)\n",
        "        for cluster_idx,cluster in enumerate(clusters):\n",
        "            for sample_idx in cluster:\n",
        "                labels[sample_idx] = cluster_idx\n",
        "        return labels\n",
        "    \n",
        "    def plot(self):\n",
        "        fig, ax = plt.subplots(figsize=(12, 8))\n",
        "\n",
        "        for i, index in enumerate(self.clusters):\n",
        "            point = self.X[index].T\n",
        "            ax.scatter(*point)\n",
        "\n",
        "        for point in self.centroids:\n",
        "            ax.scatter(*point, marker=\"x\", color='black', linewidth=2)\n",
        "\n",
        "        plt.show()"
      ],
      "metadata": {
        "id": "GjZ_ScvIUnVD"
      },
      "execution_count": 94,
      "outputs": []
    },
    {
      "cell_type": "markdown",
      "source": [
        "## Wholesaler data analysis\n"
      ],
      "metadata": {
        "id": "7mZK_KEVWpRY"
      }
    },
    {
      "cell_type": "code",
      "source": [
        "data = pd.read_csv(\"/content/sample_data/Wholesale customers data.csv\")\n",
        "pca = PCA(n_components = 2)\n",
        "pca = pca.fit(data)\n",
        "data_pca = pca.transform(data)"
      ],
      "metadata": {
        "id": "PaqhQIf2TXgr"
      },
      "execution_count": 95,
      "outputs": []
    },
    {
      "cell_type": "code",
      "source": [
        "data.head()"
      ],
      "metadata": {
        "colab": {
          "base_uri": "https://localhost:8080/",
          "height": 206
        },
        "id": "GJyQvC36UOqk",
        "outputId": "e24d9eb7-0c5c-4793-ec73-53b4b7cf2ab1"
      },
      "execution_count": 89,
      "outputs": [
        {
          "output_type": "execute_result",
          "data": {
            "text/html": [
              "\n",
              "  <div id=\"df-d715e028-bd42-45af-9924-b407ca6cae8f\">\n",
              "    <div class=\"colab-df-container\">\n",
              "      <div>\n",
              "<style scoped>\n",
              "    .dataframe tbody tr th:only-of-type {\n",
              "        vertical-align: middle;\n",
              "    }\n",
              "\n",
              "    .dataframe tbody tr th {\n",
              "        vertical-align: top;\n",
              "    }\n",
              "\n",
              "    .dataframe thead th {\n",
              "        text-align: right;\n",
              "    }\n",
              "</style>\n",
              "<table border=\"1\" class=\"dataframe\">\n",
              "  <thead>\n",
              "    <tr style=\"text-align: right;\">\n",
              "      <th></th>\n",
              "      <th>Channel</th>\n",
              "      <th>Region</th>\n",
              "      <th>Fresh</th>\n",
              "      <th>Milk</th>\n",
              "      <th>Grocery</th>\n",
              "      <th>Frozen</th>\n",
              "      <th>Detergents_Paper</th>\n",
              "      <th>Delicassen</th>\n",
              "    </tr>\n",
              "  </thead>\n",
              "  <tbody>\n",
              "    <tr>\n",
              "      <th>0</th>\n",
              "      <td>2</td>\n",
              "      <td>3</td>\n",
              "      <td>12669</td>\n",
              "      <td>9656</td>\n",
              "      <td>7561</td>\n",
              "      <td>214</td>\n",
              "      <td>2674</td>\n",
              "      <td>1338</td>\n",
              "    </tr>\n",
              "    <tr>\n",
              "      <th>1</th>\n",
              "      <td>2</td>\n",
              "      <td>3</td>\n",
              "      <td>7057</td>\n",
              "      <td>9810</td>\n",
              "      <td>9568</td>\n",
              "      <td>1762</td>\n",
              "      <td>3293</td>\n",
              "      <td>1776</td>\n",
              "    </tr>\n",
              "    <tr>\n",
              "      <th>2</th>\n",
              "      <td>2</td>\n",
              "      <td>3</td>\n",
              "      <td>6353</td>\n",
              "      <td>8808</td>\n",
              "      <td>7684</td>\n",
              "      <td>2405</td>\n",
              "      <td>3516</td>\n",
              "      <td>7844</td>\n",
              "    </tr>\n",
              "    <tr>\n",
              "      <th>3</th>\n",
              "      <td>1</td>\n",
              "      <td>3</td>\n",
              "      <td>13265</td>\n",
              "      <td>1196</td>\n",
              "      <td>4221</td>\n",
              "      <td>6404</td>\n",
              "      <td>507</td>\n",
              "      <td>1788</td>\n",
              "    </tr>\n",
              "    <tr>\n",
              "      <th>4</th>\n",
              "      <td>2</td>\n",
              "      <td>3</td>\n",
              "      <td>22615</td>\n",
              "      <td>5410</td>\n",
              "      <td>7198</td>\n",
              "      <td>3915</td>\n",
              "      <td>1777</td>\n",
              "      <td>5185</td>\n",
              "    </tr>\n",
              "  </tbody>\n",
              "</table>\n",
              "</div>\n",
              "      <button class=\"colab-df-convert\" onclick=\"convertToInteractive('df-d715e028-bd42-45af-9924-b407ca6cae8f')\"\n",
              "              title=\"Convert this dataframe to an interactive table.\"\n",
              "              style=\"display:none;\">\n",
              "        \n",
              "  <svg xmlns=\"http://www.w3.org/2000/svg\" height=\"24px\"viewBox=\"0 0 24 24\"\n",
              "       width=\"24px\">\n",
              "    <path d=\"M0 0h24v24H0V0z\" fill=\"none\"/>\n",
              "    <path d=\"M18.56 5.44l.94 2.06.94-2.06 2.06-.94-2.06-.94-.94-2.06-.94 2.06-2.06.94zm-11 1L8.5 8.5l.94-2.06 2.06-.94-2.06-.94L8.5 2.5l-.94 2.06-2.06.94zm10 10l.94 2.06.94-2.06 2.06-.94-2.06-.94-.94-2.06-.94 2.06-2.06.94z\"/><path d=\"M17.41 7.96l-1.37-1.37c-.4-.4-.92-.59-1.43-.59-.52 0-1.04.2-1.43.59L10.3 9.45l-7.72 7.72c-.78.78-.78 2.05 0 2.83L4 21.41c.39.39.9.59 1.41.59.51 0 1.02-.2 1.41-.59l7.78-7.78 2.81-2.81c.8-.78.8-2.07 0-2.86zM5.41 20L4 18.59l7.72-7.72 1.47 1.35L5.41 20z\"/>\n",
              "  </svg>\n",
              "      </button>\n",
              "      \n",
              "  <style>\n",
              "    .colab-df-container {\n",
              "      display:flex;\n",
              "      flex-wrap:wrap;\n",
              "      gap: 12px;\n",
              "    }\n",
              "\n",
              "    .colab-df-convert {\n",
              "      background-color: #E8F0FE;\n",
              "      border: none;\n",
              "      border-radius: 50%;\n",
              "      cursor: pointer;\n",
              "      display: none;\n",
              "      fill: #1967D2;\n",
              "      height: 32px;\n",
              "      padding: 0 0 0 0;\n",
              "      width: 32px;\n",
              "    }\n",
              "\n",
              "    .colab-df-convert:hover {\n",
              "      background-color: #E2EBFA;\n",
              "      box-shadow: 0px 1px 2px rgba(60, 64, 67, 0.3), 0px 1px 3px 1px rgba(60, 64, 67, 0.15);\n",
              "      fill: #174EA6;\n",
              "    }\n",
              "\n",
              "    [theme=dark] .colab-df-convert {\n",
              "      background-color: #3B4455;\n",
              "      fill: #D2E3FC;\n",
              "    }\n",
              "\n",
              "    [theme=dark] .colab-df-convert:hover {\n",
              "      background-color: #434B5C;\n",
              "      box-shadow: 0px 1px 3px 1px rgba(0, 0, 0, 0.15);\n",
              "      filter: drop-shadow(0px 1px 2px rgba(0, 0, 0, 0.3));\n",
              "      fill: #FFFFFF;\n",
              "    }\n",
              "  </style>\n",
              "\n",
              "      <script>\n",
              "        const buttonEl =\n",
              "          document.querySelector('#df-d715e028-bd42-45af-9924-b407ca6cae8f button.colab-df-convert');\n",
              "        buttonEl.style.display =\n",
              "          google.colab.kernel.accessAllowed ? 'block' : 'none';\n",
              "\n",
              "        async function convertToInteractive(key) {\n",
              "          const element = document.querySelector('#df-d715e028-bd42-45af-9924-b407ca6cae8f');\n",
              "          const dataTable =\n",
              "            await google.colab.kernel.invokeFunction('convertToInteractive',\n",
              "                                                     [key], {});\n",
              "          if (!dataTable) return;\n",
              "\n",
              "          const docLinkHtml = 'Like what you see? Visit the ' +\n",
              "            '<a target=\"_blank\" href=https://colab.research.google.com/notebooks/data_table.ipynb>data table notebook</a>'\n",
              "            + ' to learn more about interactive tables.';\n",
              "          element.innerHTML = '';\n",
              "          dataTable['output_type'] = 'display_data';\n",
              "          await google.colab.output.renderOutput(dataTable, element);\n",
              "          const docLink = document.createElement('div');\n",
              "          docLink.innerHTML = docLinkHtml;\n",
              "          element.appendChild(docLink);\n",
              "        }\n",
              "      </script>\n",
              "    </div>\n",
              "  </div>\n",
              "  "
            ],
            "text/plain": [
              "   Channel  Region  Fresh  Milk  Grocery  Frozen  Detergents_Paper  Delicassen\n",
              "0        2       3  12669  9656     7561     214              2674        1338\n",
              "1        2       3   7057  9810     9568    1762              3293        1776\n",
              "2        2       3   6353  8808     7684    2405              3516        7844\n",
              "3        1       3  13265  1196     4221    6404               507        1788\n",
              "4        2       3  22615  5410     7198    3915              1777        5185"
            ]
          },
          "metadata": {},
          "execution_count": 89
        }
      ]
    },
    {
      "cell_type": "code",
      "source": [
        "fig = plt.subplots(figsize=(12,8))\n",
        "plt.rcParams[\"font.size\"] = 20\n",
        "plt.scatter(data_pca[:,0],data_pca[:,1],s=80);"
      ],
      "metadata": {
        "colab": {
          "base_uri": "https://localhost:8080/",
          "height": 486
        },
        "id": "9pUptNm6UQWk",
        "outputId": "2c39ff46-e652-4287-8cfc-8e52ef99b37b"
      },
      "execution_count": 104,
      "outputs": [
        {
          "output_type": "display_data",
          "data": {
            "image/png": "[encoded data removed]",
            "text/plain": [
              "<Figure size 1200x800 with 1 Axes>"
            ]
          },
          "metadata": {}
        }
      ]
    },
    {
      "cell_type": "code",
      "source": [
        "SSE = []\n",
        "for k in range(1, 8):\n",
        "  kmeans = ScratchKMeans2(k, max_iters=150, verbose=True)\n",
        "  y_pred3 = kmeans.fit_predict(data_pca)\n",
        "  SSE.append(sum(kmeans.sse))\n",
        "plt.style.use(\"fivethirtyeight\")\n",
        "plt.plot(range(1, 8), SSE)\n",
        "plt.xticks(range(1, 11))\n",
        "plt.xlabel(\"Number of Clusters\")\n",
        "plt.ylabel(\"SSE\")\n",
        "plt.show()\n"
      ],
      "metadata": {
        "colab": {
          "base_uri": "https://localhost:8080/",
          "height": 578
        },
        "id": "FIAEZ2dZUW8M",
        "outputId": "0b230340-7e5f-4847-fb38-a45314488d19"
      },
      "execution_count": 98,
      "outputs": [
        {
          "output_type": "display_data",
          "data": {
            "image/png": "[encoded data removed]",
            "text/plain": [
              "<Figure size 1000x750 with 1 Axes>"
            ]
          },
          "metadata": {}
        }
      ]
    },
    {
      "cell_type": "code",
      "source": [
        "kmean_6 = ScratchKMeans(k=6, max_iters=150, verbose=True)\n",
        "y_predict = kmean_6.fit_predict(data_pca)\n",
        "kmean_6.plot()"
      ],
      "metadata": {
        "colab": {
          "base_uri": "https://localhost:8080/",
          "height": 486
        },
        "id": "jhErZR0pVKLT",
        "outputId": "2d9900b9-a497-48e1-ae00-05dcd4b9f6c1"
      },
      "execution_count": 100,
      "outputs": [
        {
          "output_type": "display_data",
          "data": {
            "image/png": "[encoded data removed]",
            "text/plain": [
              "<Figure size 1200x800 with 1 Axes>"
            ]
          },
          "metadata": {}
        }
      ]
    },
    {
      "cell_type": "markdown",
      "source": [
        "## [Problem 11] Comparison with known groups\n"
      ],
      "metadata": {
        "id": "MjoBFovQW0AW"
      }
    },
    {
      "cell_type": "code",
      "source": [
        "# add clusters to the dataset\n",
        "data['clusters'] = y_predict[:,]\n",
        "data.head()"
      ],
      "metadata": {
        "colab": {
          "base_uri": "https://localhost:8080/",
          "height": 206
        },
        "id": "7VpO8xYXWDEt",
        "outputId": "9f03d423-7288-4396-876f-85499d69a173"
      },
      "execution_count": 106,
      "outputs": [
        {
          "output_type": "execute_result",
          "data": {
            "text/html": [
              "\n",
              "  <div id=\"df-38f2fd2d-b9e3-4940-b577-9d9943b52568\">\n",
              "    <div class=\"colab-df-container\">\n",
              "      <div>\n",
              "<style scoped>\n",
              "    .dataframe tbody tr th:only-of-type {\n",
              "        vertical-align: middle;\n",
              "    }\n",
              "\n",
              "    .dataframe tbody tr th {\n",
              "        vertical-align: top;\n",
              "    }\n",
              "\n",
              "    .dataframe thead th {\n",
              "        text-align: right;\n",
              "    }\n",
              "</style>\n",
              "<table border=\"1\" class=\"dataframe\">\n",
              "  <thead>\n",
              "    <tr style=\"text-align: right;\">\n",
              "      <th></th>\n",
              "      <th>Channel</th>\n",
              "      <th>Region</th>\n",
              "      <th>Fresh</th>\n",
              "      <th>Milk</th>\n",
              "      <th>Grocery</th>\n",
              "      <th>Frozen</th>\n",
              "      <th>Detergents_Paper</th>\n",
              "      <th>Delicassen</th>\n",
              "      <th>clusters</th>\n",
              "    </tr>\n",
              "  </thead>\n",
              "  <tbody>\n",
              "    <tr>\n",
              "      <th>0</th>\n",
              "      <td>2</td>\n",
              "      <td>3</td>\n",
              "      <td>12669</td>\n",
              "      <td>9656</td>\n",
              "      <td>7561</td>\n",
              "      <td>214</td>\n",
              "      <td>2674</td>\n",
              "      <td>1338</td>\n",
              "      <td>3.0</td>\n",
              "    </tr>\n",
              "    <tr>\n",
              "      <th>1</th>\n",
              "      <td>2</td>\n",
              "      <td>3</td>\n",
              "      <td>7057</td>\n",
              "      <td>9810</td>\n",
              "      <td>9568</td>\n",
              "      <td>1762</td>\n",
              "      <td>3293</td>\n",
              "      <td>1776</td>\n",
              "      <td>3.0</td>\n",
              "    </tr>\n",
              "    <tr>\n",
              "      <th>2</th>\n",
              "      <td>2</td>\n",
              "      <td>3</td>\n",
              "      <td>6353</td>\n",
              "      <td>8808</td>\n",
              "      <td>7684</td>\n",
              "      <td>2405</td>\n",
              "      <td>3516</td>\n",
              "      <td>7844</td>\n",
              "      <td>3.0</td>\n",
              "    </tr>\n",
              "    <tr>\n",
              "      <th>3</th>\n",
              "      <td>1</td>\n",
              "      <td>3</td>\n",
              "      <td>13265</td>\n",
              "      <td>1196</td>\n",
              "      <td>4221</td>\n",
              "      <td>6404</td>\n",
              "      <td>507</td>\n",
              "      <td>1788</td>\n",
              "      <td>2.0</td>\n",
              "    </tr>\n",
              "    <tr>\n",
              "      <th>4</th>\n",
              "      <td>2</td>\n",
              "      <td>3</td>\n",
              "      <td>22615</td>\n",
              "      <td>5410</td>\n",
              "      <td>7198</td>\n",
              "      <td>3915</td>\n",
              "      <td>1777</td>\n",
              "      <td>5185</td>\n",
              "      <td>4.0</td>\n",
              "    </tr>\n",
              "  </tbody>\n",
              "</table>\n",
              "</div>\n",
              "      <button class=\"colab-df-convert\" onclick=\"convertToInteractive('df-38f2fd2d-b9e3-4940-b577-9d9943b52568')\"\n",
              "              title=\"Convert this dataframe to an interactive table.\"\n",
              "              style=\"display:none;\">\n",
              "        \n",
              "  <svg xmlns=\"http://www.w3.org/2000/svg\" height=\"24px\"viewBox=\"0 0 24 24\"\n",
              "       width=\"24px\">\n",
              "    <path d=\"M0 0h24v24H0V0z\" fill=\"none\"/>\n",
              "    <path d=\"M18.56 5.44l.94 2.06.94-2.06 2.06-.94-2.06-.94-.94-2.06-.94 2.06-2.06.94zm-11 1L8.5 8.5l.94-2.06 2.06-.94-2.06-.94L8.5 2.5l-.94 2.06-2.06.94zm10 10l.94 2.06.94-2.06 2.06-.94-2.06-.94-.94-2.06-.94 2.06-2.06.94z\"/><path d=\"M17.41 7.96l-1.37-1.37c-.4-.4-.92-.59-1.43-.59-.52 0-1.04.2-1.43.59L10.3 9.45l-7.72 7.72c-.78.78-.78 2.05 0 2.83L4 21.41c.39.39.9.59 1.41.59.51 0 1.02-.2 1.41-.59l7.78-7.78 2.81-2.81c.8-.78.8-2.07 0-2.86zM5.41 20L4 18.59l7.72-7.72 1.47 1.35L5.41 20z\"/>\n",
              "  </svg>\n",
              "      </button>\n",
              "      \n",
              "  <style>\n",
              "    .colab-df-container {\n",
              "      display:flex;\n",
              "      flex-wrap:wrap;\n",
              "      gap: 12px;\n",
              "    }\n",
              "\n",
              "    .colab-df-convert {\n",
              "      background-color: #E8F0FE;\n",
              "      border: none;\n",
              "      border-radius: 50%;\n",
              "      cursor: pointer;\n",
              "      display: none;\n",
              "      fill: #1967D2;\n",
              "      height: 32px;\n",
              "      padding: 0 0 0 0;\n",
              "      width: 32px;\n",
              "    }\n",
              "\n",
              "    .colab-df-convert:hover {\n",
              "      background-color: #E2EBFA;\n",
              "      box-shadow: 0px 1px 2px rgba(60, 64, 67, 0.3), 0px 1px 3px 1px rgba(60, 64, 67, 0.15);\n",
              "      fill: #174EA6;\n",
              "    }\n",
              "\n",
              "    [theme=dark] .colab-df-convert {\n",
              "      background-color: #3B4455;\n",
              "      fill: #D2E3FC;\n",
              "    }\n",
              "\n",
              "    [theme=dark] .colab-df-convert:hover {\n",
              "      background-color: #434B5C;\n",
              "      box-shadow: 0px 1px 3px 1px rgba(0, 0, 0, 0.15);\n",
              "      filter: drop-shadow(0px 1px 2px rgba(0, 0, 0, 0.3));\n",
              "      fill: #FFFFFF;\n",
              "    }\n",
              "  </style>\n",
              "\n",
              "      <script>\n",
              "        const buttonEl =\n",
              "          document.querySelector('#df-38f2fd2d-b9e3-4940-b577-9d9943b52568 button.colab-df-convert');\n",
              "        buttonEl.style.display =\n",
              "          google.colab.kernel.accessAllowed ? 'block' : 'none';\n",
              "\n",
              "        async function convertToInteractive(key) {\n",
              "          const element = document.querySelector('#df-38f2fd2d-b9e3-4940-b577-9d9943b52568');\n",
              "          const dataTable =\n",
              "            await google.colab.kernel.invokeFunction('convertToInteractive',\n",
              "                                                     [key], {});\n",
              "          if (!dataTable) return;\n",
              "\n",
              "          const docLinkHtml = 'Like what you see? Visit the ' +\n",
              "            '<a target=\"_blank\" href=https://colab.research.google.com/notebooks/data_table.ipynb>data table notebook</a>'\n",
              "            + ' to learn more about interactive tables.';\n",
              "          element.innerHTML = '';\n",
              "          dataTable['output_type'] = 'display_data';\n",
              "          await google.colab.output.renderOutput(dataTable, element);\n",
              "          const docLink = document.createElement('div');\n",
              "          docLink.innerHTML = docLinkHtml;\n",
              "          element.appendChild(docLink);\n",
              "        }\n",
              "      </script>\n",
              "    </div>\n",
              "  </div>\n",
              "  "
            ],
            "text/plain": [
              "   Channel  Region  Fresh  Milk  Grocery  Frozen  Detergents_Paper  \\\n",
              "0        2       3  12669  9656     7561     214              2674   \n",
              "1        2       3   7057  9810     9568    1762              3293   \n",
              "2        2       3   6353  8808     7684    2405              3516   \n",
              "3        1       3  13265  1196     4221    6404               507   \n",
              "4        2       3  22615  5410     7198    3915              1777   \n",
              "\n",
              "   Delicassen  clusters  \n",
              "0        1338       3.0  \n",
              "1        1776       3.0  \n",
              "2        7844       3.0  \n",
              "3        1788       2.0  \n",
              "4        5185       4.0  "
            ]
          },
          "metadata": {},
          "execution_count": 106
        }
      ]
    },
    {
      "cell_type": "code",
      "source": [
        "data.groupby(['Channel','Region']).count()\n"
      ],
      "metadata": {
        "colab": {
          "base_uri": "https://localhost:8080/",
          "height": 269
        },
        "id": "6qw_8KnkW1_k",
        "outputId": "44b3c3ad-8bce-4597-8dc2-ce9511249df9"
      },
      "execution_count": 108,
      "outputs": [
        {
          "output_type": "execute_result",
          "data": {
            "text/html": [
              "\n",
              "  <div id=\"df-d67fef0d-df2a-4831-be5e-b11a08f078bc\">\n",
              "    <div class=\"colab-df-container\">\n",
              "      <div>\n",
              "<style scoped>\n",
              "    .dataframe tbody tr th:only-of-type {\n",
              "        vertical-align: middle;\n",
              "    }\n",
              "\n",
              "    .dataframe tbody tr th {\n",
              "        vertical-align: top;\n",
              "    }\n",
              "\n",
              "    .dataframe thead th {\n",
              "        text-align: right;\n",
              "    }\n",
              "</style>\n",
              "<table border=\"1\" class=\"dataframe\">\n",
              "  <thead>\n",
              "    <tr style=\"text-align: right;\">\n",
              "      <th></th>\n",
              "      <th></th>\n",
              "      <th>Fresh</th>\n",
              "      <th>Milk</th>\n",
              "      <th>Grocery</th>\n",
              "      <th>Frozen</th>\n",
              "      <th>Detergents_Paper</th>\n",
              "      <th>Delicassen</th>\n",
              "      <th>clusters</th>\n",
              "    </tr>\n",
              "    <tr>\n",
              "      <th>Channel</th>\n",
              "      <th>Region</th>\n",
              "      <th></th>\n",
              "      <th></th>\n",
              "      <th></th>\n",
              "      <th></th>\n",
              "      <th></th>\n",
              "      <th></th>\n",
              "      <th></th>\n",
              "    </tr>\n",
              "  </thead>\n",
              "  <tbody>\n",
              "    <tr>\n",
              "      <th rowspan=\"3\" valign=\"top\">1</th>\n",
              "      <th>1</th>\n",
              "      <td>59</td>\n",
              "      <td>59</td>\n",
              "      <td>59</td>\n",
              "      <td>59</td>\n",
              "      <td>59</td>\n",
              "      <td>59</td>\n",
              "      <td>59</td>\n",
              "    </tr>\n",
              "    <tr>\n",
              "      <th>2</th>\n",
              "      <td>28</td>\n",
              "      <td>28</td>\n",
              "      <td>28</td>\n",
              "      <td>28</td>\n",
              "      <td>28</td>\n",
              "      <td>28</td>\n",
              "      <td>28</td>\n",
              "    </tr>\n",
              "    <tr>\n",
              "      <th>3</th>\n",
              "      <td>211</td>\n",
              "      <td>211</td>\n",
              "      <td>211</td>\n",
              "      <td>211</td>\n",
              "      <td>211</td>\n",
              "      <td>211</td>\n",
              "      <td>211</td>\n",
              "    </tr>\n",
              "    <tr>\n",
              "      <th rowspan=\"3\" valign=\"top\">2</th>\n",
              "      <th>1</th>\n",
              "      <td>18</td>\n",
              "      <td>18</td>\n",
              "      <td>18</td>\n",
              "      <td>18</td>\n",
              "      <td>18</td>\n",
              "      <td>18</td>\n",
              "      <td>18</td>\n",
              "    </tr>\n",
              "    <tr>\n",
              "      <th>2</th>\n",
              "      <td>19</td>\n",
              "      <td>19</td>\n",
              "      <td>19</td>\n",
              "      <td>19</td>\n",
              "      <td>19</td>\n",
              "      <td>19</td>\n",
              "      <td>19</td>\n",
              "    </tr>\n",
              "    <tr>\n",
              "      <th>3</th>\n",
              "      <td>105</td>\n",
              "      <td>105</td>\n",
              "      <td>105</td>\n",
              "      <td>105</td>\n",
              "      <td>105</td>\n",
              "      <td>105</td>\n",
              "      <td>105</td>\n",
              "    </tr>\n",
              "  </tbody>\n",
              "</table>\n",
              "</div>\n",
              "      <button class=\"colab-df-convert\" onclick=\"convertToInteractive('df-d67fef0d-df2a-4831-be5e-b11a08f078bc')\"\n",
              "              title=\"Convert this dataframe to an interactive table.\"\n",
              "              style=\"display:none;\">\n",
              "        \n",
              "  <svg xmlns=\"http://www.w3.org/2000/svg\" height=\"24px\"viewBox=\"0 0 24 24\"\n",
              "       width=\"24px\">\n",
              "    <path d=\"M0 0h24v24H0V0z\" fill=\"none\"/>\n",
              "    <path d=\"M18.56 5.44l.94 2.06.94-2.06 2.06-.94-2.06-.94-.94-2.06-.94 2.06-2.06.94zm-11 1L8.5 8.5l.94-2.06 2.06-.94-2.06-.94L8.5 2.5l-.94 2.06-2.06.94zm10 10l.94 2.06.94-2.06 2.06-.94-2.06-.94-.94-2.06-.94 2.06-2.06.94z\"/><path d=\"M17.41 7.96l-1.37-1.37c-.4-.4-.92-.59-1.43-.59-.52 0-1.04.2-1.43.59L10.3 9.45l-7.72 7.72c-.78.78-.78 2.05 0 2.83L4 21.41c.39.39.9.59 1.41.59.51 0 1.02-.2 1.41-.59l7.78-7.78 2.81-2.81c.8-.78.8-2.07 0-2.86zM5.41 20L4 18.59l7.72-7.72 1.47 1.35L5.41 20z\"/>\n",
              "  </svg>\n",
              "      </button>\n",
              "      \n",
              "  <style>\n",
              "    .colab-df-container {\n",
              "      display:flex;\n",
              "      flex-wrap:wrap;\n",
              "      gap: 12px;\n",
              "    }\n",
              "\n",
              "    .colab-df-convert {\n",
              "      background-color: #E8F0FE;\n",
              "      border: none;\n",
              "      border-radius: 50%;\n",
              "      cursor: pointer;\n",
              "      display: none;\n",
              "      fill: #1967D2;\n",
              "      height: 32px;\n",
              "      padding: 0 0 0 0;\n",
              "      width: 32px;\n",
              "    }\n",
              "\n",
              "    .colab-df-convert:hover {\n",
              "      background-color: #E2EBFA;\n",
              "      box-shadow: 0px 1px 2px rgba(60, 64, 67, 0.3), 0px 1px 3px 1px rgba(60, 64, 67, 0.15);\n",
              "      fill: #174EA6;\n",
              "    }\n",
              "\n",
              "    [theme=dark] .colab-df-convert {\n",
              "      background-color: #3B4455;\n",
              "      fill: #D2E3FC;\n",
              "    }\n",
              "\n",
              "    [theme=dark] .colab-df-convert:hover {\n",
              "      background-color: #434B5C;\n",
              "      box-shadow: 0px 1px 3px 1px rgba(0, 0, 0, 0.15);\n",
              "      filter: drop-shadow(0px 1px 2px rgba(0, 0, 0, 0.3));\n",
              "      fill: #FFFFFF;\n",
              "    }\n",
              "  </style>\n",
              "\n",
              "      <script>\n",
              "        const buttonEl =\n",
              "          document.querySelector('#df-d67fef0d-df2a-4831-be5e-b11a08f078bc button.colab-df-convert');\n",
              "        buttonEl.style.display =\n",
              "          google.colab.kernel.accessAllowed ? 'block' : 'none';\n",
              "\n",
              "        async function convertToInteractive(key) {\n",
              "          const element = document.querySelector('#df-d67fef0d-df2a-4831-be5e-b11a08f078bc');\n",
              "          const dataTable =\n",
              "            await google.colab.kernel.invokeFunction('convertToInteractive',\n",
              "                                                     [key], {});\n",
              "          if (!dataTable) return;\n",
              "\n",
              "          const docLinkHtml = 'Like what you see? Visit the ' +\n",
              "            '<a target=\"_blank\" href=https://colab.research.google.com/notebooks/data_table.ipynb>data table notebook</a>'\n",
              "            + ' to learn more about interactive tables.';\n",
              "          element.innerHTML = '';\n",
              "          dataTable['output_type'] = 'display_data';\n",
              "          await google.colab.output.renderOutput(dataTable, element);\n",
              "          const docLink = document.createElement('div');\n",
              "          docLink.innerHTML = docLinkHtml;\n",
              "          element.appendChild(docLink);\n",
              "        }\n",
              "      </script>\n",
              "    </div>\n",
              "  </div>\n",
              "  "
            ],
            "text/plain": [
              "                Fresh  Milk  Grocery  Frozen  Detergents_Paper  Delicassen  \\\n",
              "Channel Region                                                               \n",
              "1       1          59    59       59      59                59          59   \n",
              "        2          28    28       28      28                28          28   \n",
              "        3         211   211      211     211               211         211   \n",
              "2       1          18    18       18      18                18          18   \n",
              "        2          19    19       19      19                19          19   \n",
              "        3         105   105      105     105               105         105   \n",
              "\n",
              "                clusters  \n",
              "Channel Region            \n",
              "1       1             59  \n",
              "        2             28  \n",
              "        3            211  \n",
              "2       1             18  \n",
              "        2             19  \n",
              "        3            105  "
            ]
          },
          "metadata": {},
          "execution_count": 108
        }
      ]
    },
    {
      "cell_type": "markdown",
      "source": [
        "Les résultats obtenus en utilisant la méthode de clustering peuvent différer des résultats obtenus en utilisant la catégorisation évidente."
      ],
      "metadata": {
        "id": "S3sjNeQaYBf-"
      }
    },
    {
      "cell_type": "markdown",
      "source": [
        "## [Problem 12] Useful information for wholesalers\n"
      ],
      "metadata": {
        "id": "0VIjlqAjYOVk"
      }
    },
    {
      "cell_type": "code",
      "source": [
        "data.groupby(['clusters']).count()"
      ],
      "metadata": {
        "colab": {
          "base_uri": "https://localhost:8080/",
          "height": 269
        },
        "id": "cvGaSpyuYJ1Z",
        "outputId": "7b72fd55-b573-44b7-c4ae-37af3e7d2515"
      },
      "execution_count": 109,
      "outputs": [
        {
          "output_type": "execute_result",
          "data": {
            "text/html": [
              "\n",
              "  <div id=\"df-34c78483-72ce-4d3c-b5bb-4ca611c2b713\">\n",
              "    <div class=\"colab-df-container\">\n",
              "      <div>\n",
              "<style scoped>\n",
              "    .dataframe tbody tr th:only-of-type {\n",
              "        vertical-align: middle;\n",
              "    }\n",
              "\n",
              "    .dataframe tbody tr th {\n",
              "        vertical-align: top;\n",
              "    }\n",
              "\n",
              "    .dataframe thead th {\n",
              "        text-align: right;\n",
              "    }\n",
              "</style>\n",
              "<table border=\"1\" class=\"dataframe\">\n",
              "  <thead>\n",
              "    <tr style=\"text-align: right;\">\n",
              "      <th></th>\n",
              "      <th>Channel</th>\n",
              "      <th>Region</th>\n",
              "      <th>Fresh</th>\n",
              "      <th>Milk</th>\n",
              "      <th>Grocery</th>\n",
              "      <th>Frozen</th>\n",
              "      <th>Detergents_Paper</th>\n",
              "      <th>Delicassen</th>\n",
              "    </tr>\n",
              "    <tr>\n",
              "      <th>clusters</th>\n",
              "      <th></th>\n",
              "      <th></th>\n",
              "      <th></th>\n",
              "      <th></th>\n",
              "      <th></th>\n",
              "      <th></th>\n",
              "      <th></th>\n",
              "      <th></th>\n",
              "    </tr>\n",
              "  </thead>\n",
              "  <tbody>\n",
              "    <tr>\n",
              "      <th>0.0</th>\n",
              "      <td>23</td>\n",
              "      <td>23</td>\n",
              "      <td>23</td>\n",
              "      <td>23</td>\n",
              "      <td>23</td>\n",
              "      <td>23</td>\n",
              "      <td>23</td>\n",
              "      <td>23</td>\n",
              "    </tr>\n",
              "    <tr>\n",
              "      <th>1.0</th>\n",
              "      <td>30</td>\n",
              "      <td>30</td>\n",
              "      <td>30</td>\n",
              "      <td>30</td>\n",
              "      <td>30</td>\n",
              "      <td>30</td>\n",
              "      <td>30</td>\n",
              "      <td>30</td>\n",
              "    </tr>\n",
              "    <tr>\n",
              "      <th>2.0</th>\n",
              "      <td>190</td>\n",
              "      <td>190</td>\n",
              "      <td>190</td>\n",
              "      <td>190</td>\n",
              "      <td>190</td>\n",
              "      <td>190</td>\n",
              "      <td>190</td>\n",
              "      <td>190</td>\n",
              "    </tr>\n",
              "    <tr>\n",
              "      <th>3.0</th>\n",
              "      <td>93</td>\n",
              "      <td>93</td>\n",
              "      <td>93</td>\n",
              "      <td>93</td>\n",
              "      <td>93</td>\n",
              "      <td>93</td>\n",
              "      <td>93</td>\n",
              "      <td>93</td>\n",
              "    </tr>\n",
              "    <tr>\n",
              "      <th>4.0</th>\n",
              "      <td>99</td>\n",
              "      <td>99</td>\n",
              "      <td>99</td>\n",
              "      <td>99</td>\n",
              "      <td>99</td>\n",
              "      <td>99</td>\n",
              "      <td>99</td>\n",
              "      <td>99</td>\n",
              "    </tr>\n",
              "    <tr>\n",
              "      <th>5.0</th>\n",
              "      <td>5</td>\n",
              "      <td>5</td>\n",
              "      <td>5</td>\n",
              "      <td>5</td>\n",
              "      <td>5</td>\n",
              "      <td>5</td>\n",
              "      <td>5</td>\n",
              "      <td>5</td>\n",
              "    </tr>\n",
              "  </tbody>\n",
              "</table>\n",
              "</div>\n",
              "      <button class=\"colab-df-convert\" onclick=\"convertToInteractive('df-34c78483-72ce-4d3c-b5bb-4ca611c2b713')\"\n",
              "              title=\"Convert this dataframe to an interactive table.\"\n",
              "              style=\"display:none;\">\n",
              "        \n",
              "  <svg xmlns=\"http://www.w3.org/2000/svg\" height=\"24px\"viewBox=\"0 0 24 24\"\n",
              "       width=\"24px\">\n",
              "    <path d=\"M0 0h24v24H0V0z\" fill=\"none\"/>\n",
              "    <path d=\"M18.56 5.44l.94 2.06.94-2.06 2.06-.94-2.06-.94-.94-2.06-.94 2.06-2.06.94zm-11 1L8.5 8.5l.94-2.06 2.06-.94-2.06-.94L8.5 2.5l-.94 2.06-2.06.94zm10 10l.94 2.06.94-2.06 2.06-.94-2.06-.94-.94-2.06-.94 2.06-2.06.94z\"/><path d=\"M17.41 7.96l-1.37-1.37c-.4-.4-.92-.59-1.43-.59-.52 0-1.04.2-1.43.59L10.3 9.45l-7.72 7.72c-.78.78-.78 2.05 0 2.83L4 21.41c.39.39.9.59 1.41.59.51 0 1.02-.2 1.41-.59l7.78-7.78 2.81-2.81c.8-.78.8-2.07 0-2.86zM5.41 20L4 18.59l7.72-7.72 1.47 1.35L5.41 20z\"/>\n",
              "  </svg>\n",
              "      </button>\n",
              "      \n",
              "  <style>\n",
              "    .colab-df-container {\n",
              "      display:flex;\n",
              "      flex-wrap:wrap;\n",
              "      gap: 12px;\n",
              "    }\n",
              "\n",
              "    .colab-df-convert {\n",
              "      background-color: #E8F0FE;\n",
              "      border: none;\n",
              "      border-radius: 50%;\n",
              "      cursor: pointer;\n",
              "      display: none;\n",
              "      fill: #1967D2;\n",
              "      height: 32px;\n",
              "      padding: 0 0 0 0;\n",
              "      width: 32px;\n",
              "    }\n",
              "\n",
              "    .colab-df-convert:hover {\n",
              "      background-color: #E2EBFA;\n",
              "      box-shadow: 0px 1px 2px rgba(60, 64, 67, 0.3), 0px 1px 3px 1px rgba(60, 64, 67, 0.15);\n",
              "      fill: #174EA6;\n",
              "    }\n",
              "\n",
              "    [theme=dark] .colab-df-convert {\n",
              "      background-color: #3B4455;\n",
              "      fill: #D2E3FC;\n",
              "    }\n",
              "\n",
              "    [theme=dark] .colab-df-convert:hover {\n",
              "      background-color: #434B5C;\n",
              "      box-shadow: 0px 1px 3px 1px rgba(0, 0, 0, 0.15);\n",
              "      filter: drop-shadow(0px 1px 2px rgba(0, 0, 0, 0.3));\n",
              "      fill: #FFFFFF;\n",
              "    }\n",
              "  </style>\n",
              "\n",
              "      <script>\n",
              "        const buttonEl =\n",
              "          document.querySelector('#df-34c78483-72ce-4d3c-b5bb-4ca611c2b713 button.colab-df-convert');\n",
              "        buttonEl.style.display =\n",
              "          google.colab.kernel.accessAllowed ? 'block' : 'none';\n",
              "\n",
              "        async function convertToInteractive(key) {\n",
              "          const element = document.querySelector('#df-34c78483-72ce-4d3c-b5bb-4ca611c2b713');\n",
              "          const dataTable =\n",
              "            await google.colab.kernel.invokeFunction('convertToInteractive',\n",
              "                                                     [key], {});\n",
              "          if (!dataTable) return;\n",
              "\n",
              "          const docLinkHtml = 'Like what you see? Visit the ' +\n",
              "            '<a target=\"_blank\" href=https://colab.research.google.com/notebooks/data_table.ipynb>data table notebook</a>'\n",
              "            + ' to learn more about interactive tables.';\n",
              "          element.innerHTML = '';\n",
              "          dataTable['output_type'] = 'display_data';\n",
              "          await google.colab.output.renderOutput(dataTable, element);\n",
              "          const docLink = document.createElement('div');\n",
              "          docLink.innerHTML = docLinkHtml;\n",
              "          element.appendChild(docLink);\n",
              "        }\n",
              "      </script>\n",
              "    </div>\n",
              "  </div>\n",
              "  "
            ],
            "text/plain": [
              "          Channel  Region  Fresh  Milk  Grocery  Frozen  Detergents_Paper  \\\n",
              "clusters                                                                    \n",
              "0.0            23      23     23    23       23      23                23   \n",
              "1.0            30      30     30    30       30      30                30   \n",
              "2.0           190     190    190   190      190     190               190   \n",
              "3.0            93      93     93    93       93      93                93   \n",
              "4.0            99      99     99    99       99      99                99   \n",
              "5.0             5       5      5     5        5       5                 5   \n",
              "\n",
              "          Delicassen  \n",
              "clusters              \n",
              "0.0               23  \n",
              "1.0               30  \n",
              "2.0              190  \n",
              "3.0               93  \n",
              "4.0               99  \n",
              "5.0                5  "
            ]
          },
          "metadata": {},
          "execution_count": 109
        }
      ]
    },
    {
      "cell_type": "markdown",
      "source": [
        "## [Problem 13] (Advance assignment) Investigation of other methods\n"
      ],
      "metadata": {
        "id": "7gTr2AlsYWN5"
      }
    },
    {
      "cell_type": "markdown",
      "source": [
        "### **Avantages de DBSCAN**\n",
        "\n",
        "DBSCAN ne nécessite pas de spécifier le nombre de clusters dans les données a priori, contrairement à k-means. DBSCAN peut trouver des clusters de forme arbitraire. Il peut même trouver un cluster complètement entouré d'un autre cluster.\n",
        "\n",
        "\n",
        "**Inconvénients de DBSCAN**\n",
        "les points limites atteignables à partir de plus d'un cluster peuvent faire partie de l'un ou l'autre cluster, selon l'ordre de traitement des données.\n",
        "\n",
        "**Avantages de t-SNE**\n",
        "\n",
        "maintien des distances locales des données\n",
        "\n",
        "**Inconvénients de t-SNE**\n",
        "\n",
        "L'algorithme t-SNE est lent en raison des requêtes de recherche du plus proche voisin.\n"
      ],
      "metadata": {
        "id": "08lGFmVmYYgO"
      }
    },
    {
      "cell_type": "markdown",
      "source": [
        "## [Problem 14] (Advance assignment) Use of t-SNE and DBSCAN\n"
      ],
      "metadata": {
        "id": "1da9rDOmYx-r"
      }
    },
    {
      "cell_type": "code",
      "source": [
        "X_embedded = TSNE(n_components=2).fit_transform(X)\n",
        "clustering = DBSCAN(eps=3, min_samples=2).fit_predict(X_embedded)\n",
        "clustering"
      ],
      "metadata": {
        "colab": {
          "base_uri": "https://localhost:8080/"
        },
        "id": "9bkB4UlIYXVb",
        "outputId": "65a2b079-c72d-421d-c6ce-f97b97c4a5d0"
      },
      "execution_count": 110,
      "outputs": [
        {
          "output_type": "stream",
          "name": "stderr",
          "text": [
            "/usr/local/lib/python3.7/dist-packages/sklearn/manifold/_t_sne.py:783: FutureWarning: The default initialization in TSNE will change from 'random' to 'pca' in 1.2.\n",
            "  FutureWarning,\n",
            "/usr/local/lib/python3.7/dist-packages/sklearn/manifold/_t_sne.py:793: FutureWarning: The default learning rate in TSNE will change from 200.0 to 'auto' in 1.2.\n",
            "  FutureWarning,\n"
          ]
        },
        {
          "output_type": "execute_result",
          "data": {
            "text/plain": [
              "array([0, 1, 0, 0, 0, 0, 0, 1, 0, 1, 1, 1, 1, 1, 1, 2, 2, 0, 0, 2, 0, 1,\n",
              "       0, 2, 0, 0, 0, 0, 2, 2, 2, 1, 2, 2, 0, 0, 1, 2, 1, 0, 0, 0, 1, 0,\n",
              "       0, 1, 2, 0, 0, 0, 0, 2, 0, 0, 0, 1, 1, 2, 2, 1, 1, 2, 2, 0, 2, 1,\n",
              "       0, 0, 2, 0, 1, 2, 0, 1, 0, 0, 0, 0, 2, 2, 2, 1, 0, 0, 2, 0, 2, 2,\n",
              "       0, 0, 0, 0, 0, 0, 0, 1, 1, 0, 1, 0])"
            ]
          },
          "metadata": {},
          "execution_count": 110
        }
      ]
    },
    {
      "cell_type": "code",
      "source": [
        ""
      ],
      "metadata": {
        "id": "H_jk2468YwfX"
      },
      "execution_count": null,
      "outputs": []
    }
  ]
}
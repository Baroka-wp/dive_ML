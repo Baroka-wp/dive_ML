{
 "cells": [
  {
   "cell_type": "code",
   "execution_count": 1,
   "id": "0642c357",
   "metadata": {},
   "outputs": [
    {
     "name": "stdout",
     "output_type": "stream",
     "text": [
      "Hello, wordl\n"
     ]
    }
   ],
   "source": [
    "print(\"Hello, wordl\")"
   ]
  },
  {
   "cell_type": "code",
   "execution_count": 6,
   "id": "4220f01e",
   "metadata": {},
   "outputs": [
    {
     "data": {
      "text/plain": [
       "8"
      ]
     },
     "execution_count": 6,
     "metadata": {},
     "output_type": "execute_result"
    }
   ],
   "source": [
    "num"
   ]
  },
  {
   "cell_type": "code",
   "execution_count": 5,
   "id": "a76bbb92",
   "metadata": {},
   "outputs": [
    {
     "name": "stdout",
     "output_type": "stream",
     "text": [
      "num:8\n"
     ]
    }
   ],
   "source": [
    "num = 3+5\n",
    "print(\"num:{}\".format(num))"
   ]
  },
  {
   "cell_type": "markdown",
   "id": "9f532e92",
   "metadata": {},
   "source": [
    "# Prise en main de jupyter notebook\n",
    "un utilitaire de prise de note et d'execusion de code python\n",
    "\n",
    "##Par exemple \n",
    "Je peux saisir du code python et des note markdown\n",
    "$$\n",
    "y=2+1\n",
    "$$\n",
    "```py\n",
    "#Ceci est du code python\n",
    "print(\"hello, Wordl\")\n",
    "```\n",
    "- list 1\n",
    "- list 2\n",
    "    - lis 2.1\n",
    "> A retenir\n"
   ]
  }
 ],
 "metadata": {
  "kernelspec": {
   "display_name": "Python 3",
   "language": "python",
   "name": "python3"
  },
  "language_info": {
   "codemirror_mode": {
    "name": "ipython",
    "version": 3
   },
   "file_extension": ".py",
   "mimetype": "text/x-python",
   "name": "python",
   "nbconvert_exporter": "python",
   "pygments_lexer": "ipython3",
   "version": "3.8.8"
  }
 },
 "nbformat": 4,
 "nbformat_minor": 5
}

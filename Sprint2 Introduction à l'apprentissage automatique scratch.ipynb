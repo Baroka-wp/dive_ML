{
 "cells": [
  {
   "cell_type": "markdown",
   "id": "9d6fa75d",
   "metadata": {},
   "source": [
    "## [Problem 1] Scratch of train_test_split​\n"
   ]
  },
  {
   "cell_type": "code",
   "execution_count": 117,
   "id": "881740ed",
   "metadata": {},
   "outputs": [],
   "source": [
    "import numpy as np\n",
    "import pandas as pd\n",
    "import matplotlib.pyplot as plt\n",
    "from sklearn.svm import SVC\n",
    "from sklearn.pipeline import make_pipeline\n",
    "from sklearn.preprocessing import StandardScaler\n",
    "from sklearn.linear_model import SGDRegressor\n",
    "from sklearn.linear_model import SGDClassifier\n",
    "from sklearn.tree import DecisionTreeClassifier\n",
    "from sklearn.linear_model import LogisticRegression\n",
    "from sklearn.metrics import accuracy_score, plot_confusion_matrix,precision_score, recall_score,f1_score, confusion_matrix"
   ]
  },
  {
   "cell_type": "code",
   "execution_count": 78,
   "id": "626f3be4",
   "metadata": {},
   "outputs": [],
   "source": [
    "def scratch_train_test_split(X, y, train_size=0.8):\n",
    "    \"\"\"Divide the validation data.\n",
    "\n",
    "    Parameters\n",
    "    ----------\n",
    "    X : ndarray\n",
    "      Training data (n_samples, n_features)\n",
    "    y : ndarray\n",
    "      Correct answer value (n_samples,)\n",
    "    train_size : float\n",
    "      Specify what percentage to use as a train (0 < train_size < 1)\n",
    "\n",
    "    Returns\n",
    "    -------\n",
    "    X_train : ndarray\n",
    "      Training data (n_samples, n_features)\n",
    "    X_test : ndarray\n",
    "      Validation data (n_samples, n_features)\n",
    "    y_train : ndarray\n",
    "      Correct answer value of training data (n_samples,)\n",
    "    y_test : ndarray\n",
    "      Correct value of verification data (n_samples,)\n",
    "    \"\"\"\n",
    "    #melanger X et y array \n",
    "    np.random.seed(seed=0)\n",
    "    np.random.shuffle(X)\n",
    "    \n",
    "    np.random.seed(seed=0)\n",
    "    np.random.shuffle(y)\n",
    "    \n",
    "    #trouver le split\n",
    "    split = int(train_size*len(X))\n",
    "\n",
    "    X_train = X[:split]\n",
    "    y_train = y[:split]\n",
    "    X_test =  X[split:]\n",
    "    y_test = y[split:]\n",
    "\n",
    "    return X_train, X_test, y_train, y_test"
   ]
  },
  {
   "cell_type": "markdown",
   "id": "196f12e9",
   "metadata": {},
   "source": [
    "## [Problem 2] Creating a code to solve the classification problem"
   ]
  },
  {
   "cell_type": "markdown",
   "id": "75262e99",
   "metadata": {},
   "source": [
    "#### Donnee iris"
   ]
  },
  {
   "cell_type": "code",
   "execution_count": 87,
   "id": "7330728b",
   "metadata": {},
   "outputs": [
    {
     "name": "stdout",
     "output_type": "stream",
     "text": [
      "(80, 4)\n",
      "(80,)\n",
      "(20, 4)\n",
      "(20,)\n"
     ]
    }
   ],
   "source": [
    "from sklearn.datasets import load_iris\n",
    "iris_data = load_iris()\n",
    "iris = pd.DataFrame(iris_data.data, columns= iris_data.feature_names)\n",
    "iris[\"species\"] = iris_data.target\n",
    "\n",
    "iris = iris.loc[iris[\"species\"] !=0]\n",
    "\n",
    "X1 = iris.drop([\"species\"], axis=1)\n",
    "y1 = iris[\"species\"]\n",
    "\n",
    "X1_train, X1_test, y1_train, y1_test = scratch_train_test_split(X1.to_numpy(), y1.to_numpy(), train_size=0.8)\n",
    "\n",
    "print(X1_train.shape)\n",
    "print(y1_train.shape)\n",
    "print(X1_test.shape)\n",
    "print(y1_test.shape)"
   ]
  },
  {
   "cell_type": "markdown",
   "id": "4dc2e340",
   "metadata": {},
   "source": [
    "####  jeu de données simple 1"
   ]
  },
  {
   "cell_type": "code",
   "execution_count": 88,
   "id": "5b5ea09b",
   "metadata": {},
   "outputs": [
    {
     "name": "stdout",
     "output_type": "stream",
     "text": [
      "(400, 2)\n",
      "(400,)\n",
      "(100, 2)\n",
      "(100,)\n"
     ]
    }
   ],
   "source": [
    "np.random.seed(seed=0)\n",
    "n_samples = 500\n",
    "f0 = [-1, 2]\n",
    "f1 = [2, -1]\n",
    "cov = [[1.0,0.8], [0.8, 1.0]]\n",
    "f0 = np.random.multivariate_normal(f0, cov, n_samples // 2)\n",
    "f1 = np.random.multivariate_normal(f1, cov, n_samples // 2)\n",
    "X2 = np.concatenate([f0, f1])\n",
    "y2 = np.concatenate([\n",
    "    np.full(n_samples // 2, 1),\n",
    "    np.full(n_samples // 2, -1)\n",
    "])\n",
    "\n",
    "\n",
    "X2_train, X2_test, y2_train, y2_test = scratch_train_test_split(X2, y2, train_size=0.8)\n",
    "\n",
    "print(X2_train.shape)\n",
    "print(y2_train.shape)\n",
    "print(X2_test.shape)\n",
    "print(y2_test.shape)"
   ]
  },
  {
   "cell_type": "markdown",
   "id": "d2969e86",
   "metadata": {},
   "source": [
    "####  jeu de données simple 2"
   ]
  },
  {
   "cell_type": "code",
   "execution_count": 89,
   "id": "fdfb2746",
   "metadata": {},
   "outputs": [
    {
     "name": "stdout",
     "output_type": "stream",
     "text": [
      "(32, 2)\n",
      "(32,)\n",
      "(8, 2)\n",
      "(8,)\n"
     ]
    }
   ],
   "source": [
    "X3 = np.array([\n",
    "    [-0.44699 , -2.8073  ],[-1.4621  , -2.4586  ],\n",
    "    [ 0.10645 ,  1.9242  ],[-3.5944  , -4.0112  ],\n",
    "    [-0.9888  ,  4.5718  ],[-3.1625  , -3.9606  ],\n",
    "    [ 0.56421 ,  0.72888 ],[-0.60216 ,  8.4636  ],\n",
    "    [-0.61251 , -0.75345 ],[-0.73535 , -2.2718  ],\n",
    "    [-0.80647 , -2.2135  ],[ 0.86291 ,  2.3946  ],\n",
    "    [-3.1108  ,  0.15394 ],[-2.9362  ,  2.5462  ],\n",
    "    [-0.57242 , -2.9915  ],[ 1.4771  ,  3.4896  ],\n",
    "    [ 0.58619 ,  0.37158 ],[ 0.6017  ,  4.3439  ],\n",
    "    [-2.1086  ,  8.3428  ],[-4.1013  , -4.353   ],\n",
    "    [-1.9948  , -1.3927  ],[ 0.35084 , -0.031994],\n",
    "    [ 0.96765 ,  7.8929  ],[-1.281   , 15.6824  ],\n",
    "    [ 0.96765 , 10.083   ],[ 1.3763  ,  1.3347  ],\n",
    "    [-2.234   , -2.5323  ],[-2.9452  , -1.8219  ],\n",
    "    [ 0.14654 , -0.28733 ],[ 0.5461  ,  5.8245  ],\n",
    "    [-0.65259 ,  9.3444  ],[ 0.59912 ,  5.3524  ],\n",
    "    [ 0.50214 , -0.31818 ],[-3.0603  , -3.6461  ],\n",
    "    [-6.6797  ,  0.67661 ],[-2.353   , -0.72261 ],\n",
    "    [ 1.1319  ,  2.4023  ],[-0.12243 ,  9.0162  ],\n",
    "    [-2.5677  , 13.1779  ],[ 0.057313,  5.4681  ],\n",
    "])\n",
    "y3 = np.array([0, 0, 0, 0, 0, 0, 0, 0, 0, 0, 0, 0, 0, 0, 0, 0, 0, 0, 0, 0, 1, 1,\n",
    "       1, 1, 1, 1, 1, 1, 1, 1, 1, 1, 1, 1, 1, 1, 1, 1, 1, 1])\n",
    "\n",
    "X3_train, X3_test, y3_train, y3_test = scratch_train_test_split(X3, y3, train_size=0.8)\n",
    "\n",
    "print(X3_train.shape)\n",
    "print(y3_train.shape)\n",
    "print(X3_test.shape)\n",
    "print(y3_test.shape)\n"
   ]
  },
  {
   "cell_type": "markdown",
   "id": "82229dcc",
   "metadata": {},
   "source": [
    "### Régression logistique"
   ]
  },
  {
   "cell_type": "code",
   "execution_count": 82,
   "id": "c462204a",
   "metadata": {},
   "outputs": [
    {
     "name": "stdout",
     "output_type": "stream",
     "text": [
      "Score de precision: 0.9545454545454546\n"
     ]
    },
    {
     "data": {
      "image/png": "[encoded data removed]",
      "text/plain": [
       "<Figure size 432x288 with 2 Axes>"
      ]
     },
     "metadata": {
      "needs_background": "light"
     },
     "output_type": "display_data"
    }
   ],
   "source": [
    "#iris data 1\n",
    "clf = LogisticRegression(random_state=0)\n",
    "clf.fit(X1_train,y1_train)\n",
    "clf_pred = clf.predict(X1_test)\n",
    "print(\"Score de precision: {}\".format(precision_score(y1_test,clf_pred, average='macro')))\n",
    "plot_confusion_matrix(clf, X1_test, y1_test, cmap=plt.cm.Blues);"
   ]
  },
  {
   "cell_type": "code",
   "execution_count": 90,
   "id": "18037176",
   "metadata": {},
   "outputs": [
    {
     "name": "stdout",
     "output_type": "stream",
     "text": [
      "Score de precision: 1.0\n"
     ]
    },
    {
     "data": {
      "image/png": "[encoded data removed]",
      "text/plain": [
       "<Figure size 432x288 with 2 Axes>"
      ]
     },
     "metadata": {
      "needs_background": "light"
     },
     "output_type": "display_data"
    }
   ],
   "source": [
    "#sample data 1\n",
    "clf2 = LogisticRegression(random_state=0)\n",
    "clf2.fit(X2_train,y2_train)\n",
    "clf2_pred = clf2.predict(X2_test)\n",
    "print(\"Score de precision: {}\".format(precision_score(y2_test,clf2_pred, average='macro')))\n",
    "plot_confusion_matrix(clf2, X2_test, y2_test, cmap=plt.cm.Blues);"
   ]
  },
  {
   "cell_type": "code",
   "execution_count": 91,
   "id": "5444d955",
   "metadata": {},
   "outputs": [
    {
     "name": "stdout",
     "output_type": "stream",
     "text": [
      "Score de precision: 0.9166666666666667\n"
     ]
    },
    {
     "data": {
      "image/png": "[encoded data removed]",
      "text/plain": [
       "<Figure size 432x288 with 2 Axes>"
      ]
     },
     "metadata": {
      "needs_background": "light"
     },
     "output_type": "display_data"
    }
   ],
   "source": [
    "#sample data 2\n",
    "clf3 = LogisticRegression(random_state=0)\n",
    "clf3.fit(X3_train,y3_train)\n",
    "clf3_pred = clf3.predict(X3_test)\n",
    "print(\"Score de precision: {}\".format(precision_score(y3_test,clf3_pred, average='macro')))\n",
    "plot_confusion_matrix(clf3, X3_test, y3_test, cmap=plt.cm.Blues);"
   ]
  },
  {
   "cell_type": "markdown",
   "id": "cef08b95",
   "metadata": {},
   "source": [
    "### SGC model"
   ]
  },
  {
   "cell_type": "code",
   "execution_count": 92,
   "id": "85a0c713",
   "metadata": {},
   "outputs": [
    {
     "name": "stdout",
     "output_type": "stream",
     "text": [
      "Score de precision: 0.7941176470588236\n"
     ]
    },
    {
     "data": {
      "image/png": "[encoded data removed]",
      "text/plain": [
       "<Figure size 432x288 with 2 Axes>"
      ]
     },
     "metadata": {
      "needs_background": "light"
     },
     "output_type": "display_data"
    }
   ],
   "source": [
    "#iris data\n",
    "sgd1 = SGDClassifier(loss='log')\n",
    "sgd1.fit(X1_train,y1_train)\n",
    "sgd1_pred = sgd1.predict(X1_test)\n",
    "print(\"Score de precision: {}\".format(precision_score(y1_test,sgd1_pred, average='macro')))\n",
    "plot_confusion_matrix(sgd1, X1_test, y1_test, cmap=plt.cm.Blues);"
   ]
  },
  {
   "cell_type": "code",
   "execution_count": 94,
   "id": "b1e1a76d",
   "metadata": {},
   "outputs": [
    {
     "name": "stdout",
     "output_type": "stream",
     "text": [
      "Score de precision: 1.0\n"
     ]
    },
    {
     "data": {
      "image/png": "[encoded data removed]",
      "text/plain": [
       "<Figure size 432x288 with 2 Axes>"
      ]
     },
     "metadata": {
      "needs_background": "light"
     },
     "output_type": "display_data"
    }
   ],
   "source": [
    "# data sample 1\n",
    "sgd2 = SGDClassifier(loss='log')\n",
    "sgd2.fit(X2_train,y2_train)\n",
    "sgd2_pred = sgd2.predict(X2_test)\n",
    "print(\"Score de precision: {}\".format(precision_score(y2_test,sgd2_pred, average='macro')))\n",
    "plot_confusion_matrix(sgd2, X2_test, y2_test, cmap=plt.cm.Blues);"
   ]
  },
  {
   "cell_type": "code",
   "execution_count": 95,
   "id": "6de3b8e6",
   "metadata": {},
   "outputs": [
    {
     "name": "stdout",
     "output_type": "stream",
     "text": [
      "Score de precision: 0.41666666666666663\n"
     ]
    },
    {
     "data": {
      "image/png": "[encoded data removed]",
      "text/plain": [
       "<Figure size 432x288 with 2 Axes>"
      ]
     },
     "metadata": {
      "needs_background": "light"
     },
     "output_type": "display_data"
    }
   ],
   "source": [
    "# data sample 2\n",
    "sgd3 = SGDClassifier(loss='log')\n",
    "sgd3.fit(X3_train,y3_train)\n",
    "sgd3_pred = sgd3.predict(X3_test)\n",
    "print(\"Score de precision: {}\".format(precision_score(y3_test,sgd3_pred, average='macro')))\n",
    "plot_confusion_matrix(sgd3, X3_test, y3_test, cmap=plt.cm.Blues);"
   ]
  },
  {
   "cell_type": "markdown",
   "id": "a704cba7",
   "metadata": {},
   "source": [
    "### SVC"
   ]
  },
  {
   "cell_type": "code",
   "execution_count": 96,
   "id": "549ebd2c",
   "metadata": {},
   "outputs": [
    {
     "name": "stdout",
     "output_type": "stream",
     "text": [
      "Score de precision: 0.9545454545454546\n"
     ]
    },
    {
     "data": {
      "image/png": "[encoded data removed]",
      "text/plain": [
       "<Figure size 432x288 with 2 Axes>"
      ]
     },
     "metadata": {
      "needs_background": "light"
     },
     "output_type": "display_data"
    }
   ],
   "source": [
    "# data iris\n",
    "svc1 = make_pipeline(StandardScaler(), SVC(gamma='auto'))\n",
    "svc1.fit(X1_train,y1_train)\n",
    "svc1_pred = svc1.predict(X1_test)\n",
    "print(\"Score de precision: {}\".format(precision_score(y1_test,svc1_pred, average='macro')))\n",
    "plot_confusion_matrix(svc1, X1_test, y1_test, cmap=plt.cm.Blues);"
   ]
  },
  {
   "cell_type": "code",
   "execution_count": 100,
   "id": "5fa40c59",
   "metadata": {},
   "outputs": [
    {
     "name": "stdout",
     "output_type": "stream",
     "text": [
      "Score de precision: 1.0\n"
     ]
    },
    {
     "data": {
      "image/png": "[encoded data removed]",
      "text/plain": [
       "<Figure size 432x288 with 2 Axes>"
      ]
     },
     "metadata": {
      "needs_background": "light"
     },
     "output_type": "display_data"
    }
   ],
   "source": [
    "#data sample 1\n",
    "svc2 = make_pipeline(StandardScaler(), SVC(gamma='auto'))\n",
    "svc2.fit(X2_train,y2_train)\n",
    "svc2_pred = svc2.predict(X2_test)\n",
    "print(\"Score de precision: {}\".format(precision_score(y2_test,svc2_pred, average='macro')))\n",
    "plot_confusion_matrix(svc2, X2_test, y2_test, cmap=plt.cm.Blues);"
   ]
  },
  {
   "cell_type": "code",
   "execution_count": 101,
   "id": "f129c85b",
   "metadata": {},
   "outputs": [
    {
     "name": "stdout",
     "output_type": "stream",
     "text": [
      "Score de precision: 0.4666666666666667\n"
     ]
    },
    {
     "data": {
      "image/png": "[encoded data removed]",
      "text/plain": [
       "<Figure size 432x288 with 2 Axes>"
      ]
     },
     "metadata": {
      "needs_background": "light"
     },
     "output_type": "display_data"
    }
   ],
   "source": [
    "#data sample 2\n",
    "svc3 = make_pipeline(StandardScaler(), SVC(gamma='auto'))\n",
    "svc3.fit(X3_train,y3_train)\n",
    "svc3_pred = svc3.predict(X3_test)\n",
    "print(\"Score de precision: {}\".format(precision_score(y3_test,svc3_pred, average='macro')))\n",
    "plot_confusion_matrix(svc3, X3_test, y3_test, cmap=plt.cm.Blues);"
   ]
  },
  {
   "cell_type": "markdown",
   "id": "e92cbedf",
   "metadata": {},
   "source": [
    "### Tree of decision"
   ]
  },
  {
   "cell_type": "code",
   "execution_count": 102,
   "id": "c3b8d00f",
   "metadata": {},
   "outputs": [
    {
     "name": "stdout",
     "output_type": "stream",
     "text": [
      "Score de precision: 0.9166666666666667\n"
     ]
    },
    {
     "data": {
      "image/png": "[encoded data removed]",
      "text/plain": [
       "<Figure size 432x288 with 2 Axes>"
      ]
     },
     "metadata": {
      "needs_background": "light"
     },
     "output_type": "display_data"
    }
   ],
   "source": [
    "#data iris\n",
    "tdc1 = DecisionTreeClassifier(random_state=0)\n",
    "tdc1.fit(X1_train,y1_train)\n",
    "tdc1_pred = tdc1.predict(X1_test)\n",
    "print(\"Score de precision: {}\".format(precision_score(y1_test,tdc1_pred, average='macro')))\n",
    "plot_confusion_matrix(tdc1, X1_test, y1_test, cmap=plt.cm.Blues);"
   ]
  },
  {
   "cell_type": "code",
   "execution_count": 104,
   "id": "659d3364",
   "metadata": {},
   "outputs": [
    {
     "name": "stdout",
     "output_type": "stream",
     "text": [
      "Score de precision: 1.0\n"
     ]
    },
    {
     "data": {
      "image/png": "[encoded data removed]",
      "text/plain": [
       "<Figure size 432x288 with 2 Axes>"
      ]
     },
     "metadata": {
      "needs_background": "light"
     },
     "output_type": "display_data"
    }
   ],
   "source": [
    "#data sample 1\n",
    "tdc2 = DecisionTreeClassifier(random_state=0)\n",
    "tdc2.fit(X2_train,y2_train)\n",
    "tdc2_pred = tdc2.predict(X2_test)\n",
    "print(\"Score de precision: {}\".format(precision_score(y2_test,tdc2_pred, average='macro')))\n",
    "plot_confusion_matrix(tdc2, X2_test, y2_test, cmap=plt.cm.Blues);"
   ]
  },
  {
   "cell_type": "code",
   "execution_count": 105,
   "id": "018bbb52",
   "metadata": {},
   "outputs": [
    {
     "name": "stdout",
     "output_type": "stream",
     "text": [
      "Score de precision: 1.0\n"
     ]
    },
    {
     "data": {
      "image/png": "[encoded data removed]",
      "text/plain": [
       "<Figure size 432x288 with 2 Axes>"
      ]
     },
     "metadata": {
      "needs_background": "light"
     },
     "output_type": "display_data"
    }
   ],
   "source": [
    "#data sample 2\n",
    "tdc3 = DecisionTreeClassifier(random_state=0)\n",
    "tdc3.fit(X3_train,y3_train)\n",
    "tdc3_pred = tdc3.predict(X3_test)\n",
    "print(\"Score de precision: {}\".format(precision_score(y3_test,tdc3_pred, average='macro')))\n",
    "plot_confusion_matrix(tdc3, X3_test, y3_test, cmap=plt.cm.Blues);"
   ]
  },
  {
   "cell_type": "markdown",
   "id": "dcd2dc43",
   "metadata": {},
   "source": [
    "## [Problem 3] Creating a code to solve the regression problem"
   ]
  },
  {
   "cell_type": "code",
   "execution_count": 132,
   "id": "ffb7b5aa",
   "metadata": {},
   "outputs": [
    {
     "data": {
      "text/html": [
       "<div>\n",
       "<style scoped>\n",
       "    .dataframe tbody tr th:only-of-type {\n",
       "        vertical-align: middle;\n",
       "    }\n",
       "\n",
       "    .dataframe tbody tr th {\n",
       "        vertical-align: top;\n",
       "    }\n",
       "\n",
       "    .dataframe thead th {\n",
       "        text-align: right;\n",
       "    }\n",
       "</style>\n",
       "<table border=\"1\" class=\"dataframe\">\n",
       "  <thead>\n",
       "    <tr style=\"text-align: right;\">\n",
       "      <th></th>\n",
       "      <th>GrLivArea</th>\n",
       "      <th>YearBuilt</th>\n",
       "      <th>SalePrice</th>\n",
       "    </tr>\n",
       "  </thead>\n",
       "  <tbody>\n",
       "    <tr>\n",
       "      <th>0</th>\n",
       "      <td>1710</td>\n",
       "      <td>2003</td>\n",
       "      <td>208500</td>\n",
       "    </tr>\n",
       "    <tr>\n",
       "      <th>1</th>\n",
       "      <td>1262</td>\n",
       "      <td>1976</td>\n",
       "      <td>181500</td>\n",
       "    </tr>\n",
       "    <tr>\n",
       "      <th>2</th>\n",
       "      <td>1786</td>\n",
       "      <td>2001</td>\n",
       "      <td>223500</td>\n",
       "    </tr>\n",
       "    <tr>\n",
       "      <th>3</th>\n",
       "      <td>1717</td>\n",
       "      <td>1915</td>\n",
       "      <td>140000</td>\n",
       "    </tr>\n",
       "    <tr>\n",
       "      <th>4</th>\n",
       "      <td>2198</td>\n",
       "      <td>2000</td>\n",
       "      <td>250000</td>\n",
       "    </tr>\n",
       "  </tbody>\n",
       "</table>\n",
       "</div>"
      ],
      "text/plain": [
       "   GrLivArea  YearBuilt  SalePrice\n",
       "0       1710       2003     208500\n",
       "1       1262       1976     181500\n",
       "2       1786       2001     223500\n",
       "3       1717       1915     140000\n",
       "4       2198       2000     250000"
      ]
     },
     "execution_count": 132,
     "metadata": {},
     "output_type": "execute_result"
    }
   ],
   "source": [
    "import pandas as pd\n",
    "data = pd.read_csv('train.csv')\n",
    "test = pd.read_csv('test.csv')\n",
    "df = data[[\"GrLivArea\",\"YearBuilt\",\"SalePrice\"]]\n",
    "df.head()"
   ]
  },
  {
   "cell_type": "code",
   "execution_count": 133,
   "id": "06c1c983",
   "metadata": {},
   "outputs": [
    {
     "data": {
      "text/plain": [
       "GrLivArea    0\n",
       "YearBuilt    0\n",
       "SalePrice    0\n",
       "dtype: int64"
      ]
     },
     "execution_count": 133,
     "metadata": {},
     "output_type": "execute_result"
    }
   ],
   "source": [
    "df.isnull().sum()"
   ]
  },
  {
   "cell_type": "markdown",
   "id": "d4e93531",
   "metadata": {},
   "source": [
    "Nous voyons que les données sont propres."
   ]
  },
  {
   "cell_type": "code",
   "execution_count": 134,
   "id": "38c9fd57",
   "metadata": {},
   "outputs": [],
   "source": [
    "X = df.loc[:,[\"GrLivArea\", \"YearBuilt\"]]\n",
    "y = df.loc[:,[\"SalePrice\"]]"
   ]
  },
  {
   "cell_type": "code",
   "execution_count": 135,
   "id": "9f3ae543",
   "metadata": {},
   "outputs": [
    {
     "name": "stdout",
     "output_type": "stream",
     "text": [
      "(1168, 2)\n",
      "(1168, 1)\n",
      "(292, 2)\n",
      "(292, 1)\n"
     ]
    }
   ],
   "source": [
    "# split train and test\n",
    "X_train, X_test, y_train, y_test = scratch_train_test_split(X.to_numpy(), y.to_numpy(), train_size=0.8)\n",
    "\n",
    "print(X_train.shape)\n",
    "print(y_train.shape)\n",
    "print(X_test.shape)\n",
    "print(y_test.shape)"
   ]
  },
  {
   "cell_type": "code",
   "execution_count": 136,
   "id": "4a169d25",
   "metadata": {},
   "outputs": [
    {
     "name": "stdout",
     "output_type": "stream",
     "text": [
      "Score : 1.0\n"
     ]
    },
    {
     "name": "stderr",
     "output_type": "stream",
     "text": [
      "/Users/apple/.pyenv/versions/anaconda3-2021.05/lib/python3.8/site-packages/sklearn/utils/validation.py:63: DataConversionWarning: A column-vector y was passed when a 1d array was expected. Please change the shape of y to (n_samples, ), for example using ravel().\n",
      "  return f(*args, **kwargs)\n"
     ]
    }
   ],
   "source": [
    "#model and train\n",
    "rng = SGDRegressor()\n",
    "rng.fit(X_train,y_train)\n",
    "rng_pred = rng.predict(X_test)\n",
    "print(\"Score : {}\".format(rng.score(X_test,rng_pred)))"
   ]
  },
  {
   "cell_type": "code",
   "execution_count": 139,
   "id": "06de2b82",
   "metadata": {},
   "outputs": [],
   "source": [
    "data_test = test.loc[:,[\"GrLivArea\", \"YearBuilt\"]]\n",
    "ids = test['Id']\n",
    "\n",
    "saleprice_predicted = rng.predict(data_test)\n",
    "\n",
    "submission = pd.DataFrame({'Id': ids, 'SalePrice': saleprice_predicted})\n",
    "submission.to_csv(\"./submission.csv\", index=False)"
   ]
  },
  {
   "cell_type": "code",
   "execution_count": null,
   "id": "088424f2",
   "metadata": {},
   "outputs": [],
   "source": []
  }
 ],
 "metadata": {
  "kernelspec": {
   "display_name": "Python 3",
   "language": "python",
   "name": "python3"
  },
  "language_info": {
   "codemirror_mode": {
    "name": "ipython",
    "version": 3
   },
   "file_extension": ".py",
   "mimetype": "text/x-python",
   "name": "python",
   "nbconvert_exporter": "python",
   "pygments_lexer": "ipython3",
   "version": "3.8.8"
  }
 },
 "nbformat": 4,
 "nbformat_minor": 5
}

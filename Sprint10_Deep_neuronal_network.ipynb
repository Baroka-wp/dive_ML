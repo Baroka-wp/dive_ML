{
  "nbformat": 4,
  "nbformat_minor": 0,
  "metadata": {
    "colab": {
      "name": "Sprint10 Deep neuronal network.ipynb",
      "provenance": [],
      "collapsed_sections": [],
      "authorship_tag": "ABX9TyOLhM6nmBh3SXp28PXaJ0qA",
      "include_colab_link": true
    },
    "kernelspec": {
      "name": "python3",
      "display_name": "Python 3"
    },
    "language_info": {
      "name": "python"
    }
  },
  "cells": [
    {
      "cell_type": "markdown",
      "metadata": {
        "id": "view-in-github",
        "colab_type": "text"
      },
      "source": [
        "<a href=\"https://colab.research.google.com/github/Baroka-wp/dive_ML/blob/master/Sprint10_Deep_neuronal_network.ipynb\" target=\"_parent\"><img src=\"https://colab.research.google.com/assets/colab-badge.svg\" alt=\"Open In Colab\"/></a>"
      ]
    },
    {
      "cell_type": "code",
      "execution_count": 2,
      "metadata": {
        "id": "eZCpRz_pZn8t"
      },
      "outputs": [],
      "source": [
        "#importer les bibliotheques\n",
        "\n",
        "import numpy as np\n",
        "from keras.datasets import mnist\n",
        "from sklearn.model_selection import train_test_split\n",
        "import matplotlib.pyplot as plt\n",
        "from sklearn.metrics import accuracy_score\n",
        "from sklearn.preprocessing import OneHotEncoder\n",
        "from tqdm import tqdm"
      ]
    },
    {
      "cell_type": "code",
      "source": [
        "(X_train, y_train), (X_test, y_test) = mnist.load_data()"
      ],
      "metadata": {
        "id": "exGwdV5baF5K"
      },
      "execution_count": 9,
      "outputs": []
    },
    {
      "cell_type": "code",
      "source": [
        "#lissage les image\n",
        "X_train = X_train.reshape(-1, 784)\n",
        "X_test = X_test.reshape(-1, 784)"
      ],
      "metadata": {
        "id": "LYdQ_06C3bfJ"
      },
      "execution_count": 10,
      "outputs": []
    },
    {
      "cell_type": "code",
      "source": [
        "%matplotlib inline\n",
        "index = 0\n",
        "image = X_train[index].reshape(28,28)\n",
        "# X_train[index]: (784,)\n",
        "# image: (28, 28)\n",
        "plt.imshow(image, 'gray')\n",
        "plt.title('label : {}'.format(y_train[index]))\n",
        "plt.show()"
      ],
      "metadata": {
        "colab": {
          "base_uri": "https://localhost:8080/",
          "height": 281
        },
        "id": "TWbhCBtzKZwC",
        "outputId": "09c86fc5-7977-4192-92d8-c99f41448ad3"
      },
      "execution_count": 11,
      "outputs": [
        {
          "output_type": "display_data",
          "data": {
            "text/plain": [
              "<Figure size 432x288 with 1 Axes>"
            ],
            "image/png": "[encoded data removed]"
          },
          "metadata": {
            "needs_background": "light"
          }
        }
      ]
    },
    {
      "cell_type": "code",
      "source": [
        "#spliting\n",
        "X_train, X_val, y_train, y_val = train_test_split(X_train, y_train, test_size=0.2)\n"
      ],
      "metadata": {
        "id": "7gvy5ydPaj9Z"
      },
      "execution_count": 5,
      "outputs": []
    },
    {
      "cell_type": "code",
      "source": [
        "#normalisation Min Max\n",
        "X_train = X_train.astype(np.float)\n",
        "X_test = X_test.astype(np.float)\n",
        "X_train /= 255\n",
        "X_test /= 255"
      ],
      "metadata": {
        "colab": {
          "base_uri": "https://localhost:8080/"
        },
        "id": "qI65qqrfsGUc",
        "outputId": "b9db2167-4d35-4ad5-ef18-86fa19d848dc"
      },
      "execution_count": 6,
      "outputs": [
        {
          "output_type": "stream",
          "name": "stderr",
          "text": [
            "/usr/local/lib/python3.7/dist-packages/ipykernel_launcher.py:2: DeprecationWarning: `np.float` is a deprecated alias for the builtin `float`. To silence this warning, use `float` by itself. Doing this will not modify any behavior and is safe. If you specifically wanted the numpy scalar type, use `np.float64` here.\n",
            "Deprecated in NumPy 1.20; for more details and guidance: https://numpy.org/devdocs/release/1.20.0-notes.html#deprecations\n",
            "  \n",
            "/usr/local/lib/python3.7/dist-packages/ipykernel_launcher.py:3: DeprecationWarning: `np.float` is a deprecated alias for the builtin `float`. To silence this warning, use `float` by itself. Doing this will not modify any behavior and is safe. If you specifically wanted the numpy scalar type, use `np.float64` here.\n",
            "Deprecated in NumPy 1.20; for more details and guidance: https://numpy.org/devdocs/release/1.20.0-notes.html#deprecations\n",
            "  This is separate from the ipykernel package so we can avoid doing imports until\n"
          ]
        }
      ]
    },
    {
      "cell_type": "code",
      "source": [
        "#encodage\n",
        "enc = OneHotEncoder(handle_unknown='ignore', sparse=False)\n",
        "y_train_one_hot = enc.fit_transform(y_train[:, np.newaxis])\n",
        "y_test_one_hot = enc.transform(y_test[:, np.newaxis])\n",
        "print(y_train.shape) # (60000,)\n",
        "print(y_train_one_hot.shape) # (60000, 10)\n",
        "print(y_train_one_hot.dtype) # float64"
      ],
      "metadata": {
        "colab": {
          "base_uri": "https://localhost:8080/"
        },
        "id": "VCloksptsKGP",
        "outputId": "a6fa4661-c51d-4b23-cf83-8910d2c57e4a"
      },
      "execution_count": 7,
      "outputs": [
        {
          "output_type": "stream",
          "name": "stdout",
          "text": [
            "(48000,)\n",
            "(48000, 10)\n",
            "float64\n"
          ]
        }
      ]
    },
    {
      "cell_type": "markdown",
      "source": [
        "## [Problème 1] Classification des couches entièrement connectées"
      ],
      "metadata": {
        "id": "vxor9tOg3sh-"
      }
    },
    {
      "cell_type": "code",
      "source": [
        "class FC:\n",
        "    \n",
        "     \"\"\"\n",
        "    Nombre de noeuds Couche entièrement connectée de n_nodes1 à n_nodes2\n",
        "    Paramètres\n",
        "    ----------\n",
        "    n_nodes1 : int\n",
        "      Nombre de noeuds dans la couche précédente\n",
        "    n_nodes2 : int\n",
        "      Nombre de noeuds dans la couche suivante\n",
        "    initializer : instance de la méthode d'initialisation\n",
        "    optimizer : instance de la méthode d'optimisation\n",
        "    \"\"\"\n",
        "    \n",
        "     def __init__(self, n_nodes1, n_nodes2, initializer, optimizer):\n",
        "        \n",
        "        self.optimizer = optimizer\n",
        "        self.W = initializer.W(n_nodes1, n_nodes2)\n",
        "        self.B = initializer.B(n_nodes2)\n",
        "       \n",
        "        self.X = None\n",
        "        self.dZ = None\n",
        "        \n",
        "    \n",
        "     def forward(self, X):\n",
        "        \"\"\"\n",
        "        forward\n",
        "        Paramètres\n",
        "        ----------\n",
        "        X : Les formes suivantes de ndarray, shape (batch_size, n_nodes1)\n",
        "            入力\n",
        "        Retourne\n",
        "        ----------\n",
        "        A : Les formes suivantes de ndarray, shape (batch_size, n_nodes2)\n",
        "            sortie\n",
        "        \"\"\"        \n",
        "        self.X = X\n",
        "        A = X.dot(self.W) + self.B\n",
        "\n",
        "        return A\n",
        "    \n",
        "    \n",
        "     def backward(self, dA):\n",
        "        \n",
        "       \"\"\"\n",
        "        Backward\n",
        "        Parameters\n",
        "        ----------\n",
        "        dA : The following forms of ndarray, shape (batch_size, n_nodes2)\n",
        "            Gradient flowing from behind\n",
        "        Returns\n",
        "        ----------\n",
        "        dZ : The following forms of ndarray, shape (batch_size, n_nodes1)\n",
        "            Gradient to flow forward\n",
        "        \"\"\"\n",
        "       self.dZ = np.dot(dA, self.W.T)\n",
        "       self.dB = np.sum(dA, axis=0)\n",
        "       self.dW = np.dot(self.X.T, dA)\n",
        "       self.optimizer.update(self)\n",
        "          \n",
        "       return self.dZ"
      ],
      "metadata": {
        "id": "RXD-ci413uVD"
      },
      "execution_count": null,
      "outputs": []
    },
    {
      "cell_type": "markdown",
      "source": [
        "## [Problème 2] Classification de la méthode d'initialisation"
      ],
      "metadata": {
        "id": "lXc2IYAu4PUE"
      }
    },
    {
      "cell_type": "code",
      "source": [
        "class SimpleInitializer():\n",
        "    \n",
        "    \"\"\"\n",
        "    Initialisation simple avec une distribution gaussienne\n",
        "    Paramètres\n",
        "    ----------\n",
        "    sigma : float\n",
        "      Ecart-type de la distribution gaussienne\n",
        "    \"\"\"\n",
        "    \n",
        "    def __init__(self, sigma=0.01):\n",
        "        \n",
        "        self.sigma = sigma\n",
        "        \n",
        "        \n",
        "    def W(self, n_nodes1, n_nodes2):\n",
        "        \n",
        "        \"\"\"\n",
        "        Initialisation du poids\n",
        "        Paramètres\n",
        "        ----------\n",
        "        n_nodes1 : int\n",
        "          Nombre de noeuds dans la couche précédente\n",
        "        n_nodes2 : int\n",
        "          Nombre de noeuds dans la couche suivante\n",
        "        Retourne\n",
        "        ----------\n",
        "        W :\n",
        "        \"\"\"\n",
        "        \n",
        "        W = self.sigma * np.random.randn(n_nodes1, n_nodes2)\n",
        "        \n",
        "        return W\n",
        "    \n",
        "    \n",
        "    def B(self, n_nodes2):\n",
        "        \n",
        "        \"\"\"\n",
        "        Initialisation du biais\n",
        "        \n",
        "        Paramètres.\n",
        "        ----------\n",
        "        n_nodes2 : int\n",
        "          Nombre de noeuds dans la couche suivante\n",
        "          \n",
        "        Renvoie à\n",
        "        ----------\n",
        "        B :float\n",
        "            Valeur initiale du biais\n",
        "            \n",
        "        \"\"\"\n",
        "        \n",
        "        B = self.sigma * np.random.randn(n_nodes2)\n",
        "        \n",
        "        return B\n"
      ],
      "metadata": {
        "id": "jcM9DYQy4UFc"
      },
      "execution_count": null,
      "outputs": []
    },
    {
      "cell_type": "markdown",
      "source": [
        "## [Problème 3] Classification des méthodes d'optimisation\n"
      ],
      "metadata": {
        "id": "4Z9vQqRx55kU"
      }
    },
    {
      "cell_type": "code",
      "source": [
        "class SGD:\n",
        "    \"\"\"\n",
        "     Descente de gradient stochastique\n",
        "    Paramètres\n",
        "    ----------\n",
        "    lr : Taux d'apprentissage\n",
        "    \"\"\"\n",
        "    def __init__(self, lr):\n",
        "        self.lr = lr\n",
        "    def update(self, layer):\n",
        "        \"\"\"\n",
        "        Mise à jour des poids et des biais pour une couche\n",
        "        Paramètres\n",
        "        ----------\n",
        "        layer : Instance de la couche avant la mise à jour\n",
        "        \"\"\"\n",
        "        layer.W -= self.lr * layer.dW\n",
        "        layer.B -= self.lr * layer.dB\n"
      ],
      "metadata": {
        "id": "iHEMVx5P5-bB"
      },
      "execution_count": null,
      "outputs": []
    },
    {
      "cell_type": "markdown",
      "source": [
        "## [Problem 4] Classifier les fonctions d'activation\n",
        "\n",
        "\n"
      ],
      "metadata": {
        "id": "oj9d5iBY6VVw"
      }
    },
    {
      "cell_type": "code",
      "source": [
        "class Tanh:      \n",
        "  def forward(self, A):\n",
        "     self.Z = (np.exp(A) - np.exp(-A)) / (np.exp(A) + np.exp(-A))\n",
        "     \n",
        "     return self.Z\n",
        "\n",
        "  def backward(self, dZ):\n",
        "    dA = dZ*(1 - self.Z)**2\n",
        "    \n",
        "    return dA"
      ],
      "metadata": {
        "id": "zjWnd_qg6fS_"
      },
      "execution_count": null,
      "outputs": []
    },
    {
      "cell_type": "code",
      "source": [
        "class Softmax:\n",
        "    \n",
        "    def forward(self, A):\n",
        "        \n",
        "        A = A - np.max(A, axis=1, keepdims=True)\n",
        "        Z = np.exp(A) / np.sum(np.exp(A), axis=1, keepdims=True)\n",
        "        return Z\n",
        "        \n",
        "        \n",
        "    def backward(self, dZ, Y):\n",
        "        \n",
        "        batch_size = dZ.shape[0]\n",
        "        dA = (dZ - Y) / batch_size\n",
        "        \n",
        "        loss = (-1)*np.sum(Y * np.log(dZ + 1e-7))  / batch_size\n",
        "        \n",
        "        \n",
        "        return dA, loss"
      ],
      "metadata": {
        "id": "nBE52Wk46k3N"
      },
      "execution_count": null,
      "outputs": []
    },
    {
      "cell_type": "markdown",
      "source": [
        "## [Problem 5] ReLU class creation\n"
      ],
      "metadata": {
        "id": "K6JFkIa56nLs"
      }
    },
    {
      "cell_type": "code",
      "source": [
        "class ReLU:\n",
        "  def __init__(self):\n",
        "    self.mask = None\n",
        "      \n",
        "  def forward(self, A):\n",
        "    self.mask = (A <= 0)\n",
        "    Z = np.maximum(0, A)\n",
        "    return Z\n",
        "          \n",
        "  def backward(self, dA):\n",
        "    dA[self.mask] = 0\n",
        "    return dA"
      ],
      "metadata": {
        "id": "Pc-Imjye6p1m"
      },
      "execution_count": null,
      "outputs": []
    },
    {
      "cell_type": "markdown",
      "source": [
        "## [Problem 6] Initial value of weight"
      ],
      "metadata": {
        "id": "xrRT9uGu7AvH"
      }
    },
    {
      "cell_type": "code",
      "source": [
        "class XavierInitializer:\n",
        "    \n",
        "    def __init__(self, sigma):\n",
        "        \n",
        "        self.sigma = sigma\n",
        "        \n",
        "            \n",
        "    def W(self, n_nodes1, n_nodes2):\n",
        "        self.n_nodes1 = n_nodes1\n",
        "        self.sigma = 1 / np.sqrt(n_nodes1)\n",
        "        W = self.sigma * np.random.randn(n_nodes1, n_nodes2)\n",
        "        \n",
        "        return W\n",
        "    \n",
        "    \n",
        "    def B(self, n_nodes2):\n",
        "        self.sigma = 1 / np.sqrt(self.n_nodes1)\n",
        "        B = self.sigma * np.random.randn(n_nodes2)\n",
        "        \n",
        "        return B"
      ],
      "metadata": {
        "id": "_9oqWKFK7BrJ"
      },
      "execution_count": null,
      "outputs": []
    },
    {
      "cell_type": "code",
      "source": [
        "class HeInitializer:\n",
        "    def __init__(self, sigma):\n",
        "        \n",
        "        self.sigma = sigma\n",
        "        \n",
        "    def W(self, n_nodes1, n_nodes2):\n",
        "        self.n_nodes1 = n_nodes1\n",
        "        sigma = np.sqrt(2 / n_nodes1)\n",
        "        W = sigma * np.random.randn(n_nodes1, n_nodes2)\n",
        "        \n",
        "        return W\n",
        "    \n",
        "    \n",
        "    def B(self, n_nodes2):\n",
        "        \n",
        "        sigma = np.sqrt(2 / self.n_nodes1)\n",
        "        B = sigma * np.random.randn(n_nodes2)\n",
        "        \n",
        "        return B"
      ],
      "metadata": {
        "id": "k5cLJELF7Gd3"
      },
      "execution_count": null,
      "outputs": []
    },
    {
      "cell_type": "markdown",
      "source": [
        "## [Problem 7]  Méthode d'optimisation\n"
      ],
      "metadata": {
        "id": "VcvdwLV97KJo"
      }
    },
    {
      "cell_type": "code",
      "source": [
        "class AdaGrad():\n",
        "    def __init__(self, lr):\n",
        "        \n",
        "        self.lr = lr\n",
        "        self.hW = 1.\n",
        "        self.hB = 1.\n",
        "        \n",
        "    def update(self, layer):\n",
        "        self.hW += np.mean(layer.dW, axis=0)**2\n",
        "        self.hB += ((np.mean(layer.dB, axis=0))**2).sum(axis=0)\n",
        "        \n",
        "        layer.W -= (self.lr / np.sqrt(self.hW)) * layer.dW\n",
        "        layer.B -= (self.lr / np.sqrt(self.hB)) * layer.dB"
      ],
      "metadata": {
        "id": "1hYbrKwq7QTT"
      },
      "execution_count": null,
      "outputs": []
    },
    {
      "cell_type": "code",
      "source": [
        "class GetMiniBatch:\n",
        "    \n",
        "    def __init__(self, X, y, batch_size = 20, seed=0):\n",
        "        \n",
        "        self.batch_size = batch_size\n",
        "        np.random.seed(seed)\n",
        "        shuffle_index = np.random.permutation(np.arange(X.shape[0]))\n",
        "        self._X = X[shuffle_index]\n",
        "        self._y = y[shuffle_index]\n",
        "        self._stop = np.ceil(X.shape[0]/self.batch_size).astype(np.int)\n",
        "        \n",
        "        \n",
        "    def __len__(self):\n",
        "        return self._stop\n",
        "    \n",
        "    \n",
        "    def __getitem__(self,item):\n",
        "        p0 = item*self.batch_size\n",
        "        p1 = item*self.batch_size + self.batch_size\n",
        "        return self._X[p0:p1], self._y[p0:p1]\n",
        "    \n",
        "    \n",
        "    def __iter__(self):\n",
        "        self._counter = 0\n",
        "        return self\n",
        "    \n",
        "    \n",
        "    def __next__(self):\n",
        "        \n",
        "        if self._counter >= self._stop:\n",
        "            raise StopIteration()\n",
        "            \n",
        "        p0 = self._counter*self.batch_size\n",
        "        p1 = self._counter*self.batch_size + self.batch_size\n",
        "        self._counter += 1\n",
        "        return self._X[p0:p1], self._y[p0:p1]"
      ],
      "metadata": {
        "id": "Mg8BbtPs7Ubs"
      },
      "execution_count": null,
      "outputs": []
    },
    {
      "cell_type": "markdown",
      "source": [
        "## [Problème 8] Achèvement de la classe"
      ],
      "metadata": {
        "id": "kyd35fJP7Xrg"
      }
    },
    {
      "cell_type": "code",
      "source": [
        "class ScratchDeepNeuralNetrowkClassifier():\n",
        "   \n",
        "    def __init__(self, initializer, optimizer, activator1, activator2, lr = 0.001,  batch_size = 20, n_features = 784, n_nodes1 = 400, n_nodes2 = 200, n_output = 10, sigma=0.01, n_epochs=20, verbose = True):\n",
        "        \n",
        "        self.verbose = verbose\n",
        "        \n",
        "        self.n_epochs = n_epochs\n",
        "        self.batch_size = batch_size\n",
        "        self.n_features = n_features\n",
        "        self.n_nodes1 = n_nodes1\n",
        "        self.n_nodes2 = n_nodes2\n",
        "        self.n_output = n_output\n",
        "        \n",
        "        self.FC1 = None\n",
        "        self.FC2 = None\n",
        "        self.FC3 = None\n",
        "        \n",
        "        self.initializer = initializer\n",
        "        self.optimizer = optimizer\n",
        "        self.lr = lr\n",
        "        \n",
        "        self.activator1 = activator1\n",
        "        self.activator2 = activator2   \n",
        "        \n",
        "        self.sigma = sigma\n",
        "        \n",
        "        self.loss = None\n",
        "        self.val_loss = None\n",
        "        \n",
        "        self.loss_hist = []\n",
        "        self.val_loss_hist = []\n",
        "        \n",
        "    def forward_and_backward(self, X, y):\n",
        "        \n",
        "        Y = np.identity(10)[y]\n",
        "        \n",
        "        A1 = self.FC1.forward(X)\n",
        "        Z1 = self.activation1.forward(A1)\n",
        "        \n",
        "        A2 = self.FC2.forward(Z1)\n",
        "        Z2 = self.activation2.forward(A2)\n",
        "        A3 = self.FC3.forward(Z2)\n",
        "        Z3 = self.activation3.forward(A3)\n",
        "\n",
        "        dA3, self.loss = self.activation3.backward(Z3, Y) \n",
        "        dZ2 = self.FC3.backward(dA3)\n",
        "        dA2 = self.activation2.backward(dZ2)\n",
        "        dZ1 = self.FC2.backward(dA2)\n",
        "        dA1 = self.activation1.backward(dZ1)\n",
        "        dZ0 = self.FC1.backward(dA1)\n",
        "\n",
        "    def forward_with_loss(self, X, y):\n",
        "        \n",
        "        Y = np.identity(10)[y]\n",
        "        \n",
        "        A1 = self.FC1.forward(X)\n",
        "        Z1 = self.activation1.forward(A1)\n",
        "        A2 = self.FC2.forward(Z1)\n",
        "        Z2 = self.activation2.forward(A2)\n",
        "        A3 = self.FC3.forward(Z2)\n",
        "        Z3 = self.activation3.forward(A3)\n",
        "        \n",
        "        dA3, self.val_loss = self.activation3.backward(Z3, Y) \n",
        "        \n",
        "    \n",
        "    def fit(self, X, y, X_val=None, y_val=None):\n",
        "        \n",
        "        \n",
        "        \n",
        "        # Generate all nodes first\n",
        "        self.FC1 = FC(self.n_features, self.n_nodes1, self.initializer(self.sigma), self.optimizer(self.lr))\n",
        "        self.activation1 = self.activator1\n",
        "    \n",
        "        self.FC2 = FC(self.n_nodes1, self.n_nodes2, self.initializer(self.sigma), self.optimizer(self.lr))\n",
        "        self.activation2 = self.activator2\n",
        "        \n",
        "        self.FC3 = FC(self.n_nodes2, self.n_output, self.initializer(self.sigma), self.optimizer(self.lr))\n",
        "        self.activation3 = Softmax()\n",
        "        # Generate a mini-batch of training data\n",
        "        get_mini_batch_train = GetMiniBatch(X, y, batch_size=self.batch_size)\n",
        "        \n",
        "        get_mini_batch_val = GetMiniBatch(X_val, y_val, batch_size=self.batch_size)\n",
        "        \n",
        "        for epoch in tqdm(range(self.n_epochs)):\n",
        "            \n",
        "            for mini_X_train, mini_y_train in get_mini_batch_train:\n",
        "                self.forward_and_backward(mini_X_train, mini_y_train)\n",
        "                \n",
        "            self.loss_hist.append(self.loss)\n",
        "            mini_X_val, mini_y_val = get_mini_batch_val[0]\n",
        "            self.forward_with_loss(mini_X_val, mini_y_val)\n",
        "            self.val_loss_hist.append(self.val_loss)\n",
        "        \n",
        "            \n",
        "            if self.verbose:\n",
        "\n",
        "                print('#'*25)\n",
        "                print('### Epoch %i'%(epoch+1))\n",
        "                print('#'*25)\n",
        "                \n",
        "                print(\"Perte de données de formation  : {}\".format(self.loss))\n",
        "                print(\"Perte des données de validation : {}\".format(self.val_loss))\n",
        "                \n",
        "                print()\n",
        "                \n",
        "                \n",
        "    \n",
        "    def predict(self, X):\n",
        "        \n",
        "        A1 = self.FC1.forward(X)\n",
        "        Z1 = self.activation1.forward(A1)\n",
        "        A2 = self.FC2.forward(Z1)\n",
        "        Z2 = self.activation2.forward(A2)\n",
        "        A3 = self.FC3.forward(Z2)\n",
        "        Z3 = self.activation3.forward(A3)\n",
        "        \n",
        "        pred = Z3.argmax(axis=1)\n",
        "        return pred"
      ],
      "metadata": {
        "id": "LUKi3hbV7cq7"
      },
      "execution_count": null,
      "outputs": []
    },
    {
      "cell_type": "markdown",
      "source": [
        "## [Problem 9] Learning and estimation\n"
      ],
      "metadata": {
        "id": "vQrOQEgb7riy"
      }
    },
    {
      "cell_type": "markdown",
      "source": [
        "#### Tanh() activation"
      ],
      "metadata": {
        "id": "4Uv1-Nei_565"
      }
    },
    {
      "cell_type": "code",
      "source": [
        "dnn = ScratchDeepNeuralNetrowkClassifier(initializer=SimpleInitializer, optimizer = SGD, lr=0.0001,  sigma=0.01, activator1=Tanh(),  activator2=Tanh(), n_epochs=20, verbose = False)\n",
        "dnn.fit(X_train, y_train, X_val, y_val)"
      ],
      "metadata": {
        "colab": {
          "base_uri": "https://localhost:8080/"
        },
        "id": "JwjDUvAd7rSg",
        "outputId": "238bffff-45f8-4137-9d2a-3605f8abdc9a"
      },
      "execution_count": null,
      "outputs": [
        {
          "output_type": "stream",
          "name": "stderr",
          "text": [
            "/usr/local/lib/python3.7/dist-packages/ipykernel_launcher.py:10: DeprecationWarning: `np.int` is a deprecated alias for the builtin `int`. To silence this warning, use `int` by itself. Doing this will not modify any behavior and is safe. When replacing `np.int`, you may wish to use e.g. `np.int64` or `np.int32` to specify the precision. If you wish to review your current use, check the release note link for additional information.\n",
            "Deprecated in NumPy 1.20; for more details and guidance: https://numpy.org/devdocs/release/1.20.0-notes.html#deprecations\n",
            "  # Remove the CWD from sys.path while we load stuff.\n",
            "100%|██████████| 20/20 [06:49<00:00, 20.49s/it]\n"
          ]
        }
      ]
    },
    {
      "cell_type": "markdown",
      "source": [
        "### lost plot"
      ],
      "metadata": {
        "id": "ohd_icTJ76gU"
      }
    },
    {
      "cell_type": "code",
      "source": [
        "plt.plot(np.arange(1, dnn.n_epochs+1), dnn.loss_hist)\n",
        "plt.plot(np.arange(1, dnn.n_epochs+1), dnn.val_loss_hist)\n",
        "\n",
        "plt.show()\n"
      ],
      "metadata": {
        "colab": {
          "base_uri": "https://localhost:8080/",
          "height": 265
        },
        "id": "ha8EfV8x71jv",
        "outputId": "976d8011-854a-4f90-b6d0-639ae476da65"
      },
      "execution_count": null,
      "outputs": [
        {
          "output_type": "display_data",
          "data": {
            "text/plain": [
              "<Figure size 432x288 with 1 Axes>"
            ],
            "image/png": "[encoded data removed]"
          },
          "metadata": {
            "needs_background": "light"
          }
        }
      ]
    },
    {
      "cell_type": "markdown",
      "source": [
        "#### prediction"
      ],
      "metadata": {
        "id": "wF-ovSKh8HJt"
      }
    },
    {
      "cell_type": "code",
      "source": [
        "y_pred = dnn.predict(X_test)\n",
        "y_pred"
      ],
      "metadata": {
        "colab": {
          "base_uri": "https://localhost:8080/"
        },
        "id": "Qg-yydgH8JB9",
        "outputId": "888ceb87-0bbb-42f4-b64c-5c1cea2dcf66"
      },
      "execution_count": null,
      "outputs": [
        {
          "output_type": "execute_result",
          "data": {
            "text/plain": [
              "array([1, 1, 1, ..., 1, 1, 6])"
            ]
          },
          "metadata": {},
          "execution_count": 139
        }
      ]
    },
    {
      "cell_type": "markdown",
      "source": [
        "### estimation"
      ],
      "metadata": {
        "id": "C7Mr1cy78LpS"
      }
    },
    {
      "cell_type": "code",
      "source": [
        "acc = accuracy_score(y_test, y_pred)\n",
        "print(acc)"
      ],
      "metadata": {
        "colab": {
          "base_uri": "https://localhost:8080/"
        },
        "id": "bukZxEtz8NQt",
        "outputId": "3ee57f91-47ae-4a8e-f772-5cde848cb8f5"
      },
      "execution_count": null,
      "outputs": [
        {
          "output_type": "stream",
          "name": "stdout",
          "text": [
            "0.2327\n"
          ]
        }
      ]
    },
    {
      "cell_type": "markdown",
      "source": [
        "## ReLU() activation"
      ],
      "metadata": {
        "id": "KoH3ShLk_xKo"
      }
    },
    {
      "cell_type": "code",
      "source": [
        "#fit\n",
        "dnnReLU = ScratchDeepNeuralNetrowkClassifier(initializer=HeInitializer,optimizer = SGD, lr=0.0001,  sigma=0.01, activator1=ReLU(), activator2=ReLU(), n_epochs=20, verbose = False)\n",
        "dnnReLU.fit(X_train, y_train, X_val, y_val)\n"
      ],
      "metadata": {
        "colab": {
          "base_uri": "https://localhost:8080/"
        },
        "id": "mKqtMkxN_qu0",
        "outputId": "7da8a6ce-f5ea-45d9-f19a-1d99f744d86e"
      },
      "execution_count": null,
      "outputs": [
        {
          "output_type": "stream",
          "name": "stderr",
          "text": [
            "/usr/local/lib/python3.7/dist-packages/ipykernel_launcher.py:10: DeprecationWarning: `np.int` is a deprecated alias for the builtin `int`. To silence this warning, use `int` by itself. Doing this will not modify any behavior and is safe. When replacing `np.int`, you may wish to use e.g. `np.int64` or `np.int32` to specify the precision. If you wish to review your current use, check the release note link for additional information.\n",
            "Deprecated in NumPy 1.20; for more details and guidance: https://numpy.org/devdocs/release/1.20.0-notes.html#deprecations\n",
            "  # Remove the CWD from sys.path while we load stuff.\n",
            "100%|██████████| 20/20 [05:34<00:00, 16.71s/it]\n"
          ]
        }
      ]
    },
    {
      "cell_type": "code",
      "source": [
        "#plot loss\n",
        "plt.plot(np.arange(1, dnnReLU.n_epochs+1), dnnReLU.loss_hist)\n",
        "plt.plot(np.arange(1, dnnReLU.n_epochs+1), dnnReLU.val_loss_hist)\n",
        "\n",
        "plt.show()"
      ],
      "metadata": {
        "colab": {
          "base_uri": "https://localhost:8080/",
          "height": 265
        },
        "id": "ehofeUzmAAiq",
        "outputId": "08d4c39a-7603-4f06-ebf5-dc7ec13cffb3"
      },
      "execution_count": null,
      "outputs": [
        {
          "output_type": "display_data",
          "data": {
            "text/plain": [
              "<Figure size 432x288 with 1 Axes>"
            ],
            "image/png": "[encoded data removed]"
          },
          "metadata": {
            "needs_background": "light"
          }
        }
      ]
    },
    {
      "cell_type": "code",
      "source": [
        "# prediction\n",
        "y_predReLU = dnnReLU.predict(X_test)\n",
        "y_predReLU"
      ],
      "metadata": {
        "colab": {
          "base_uri": "https://localhost:8080/"
        },
        "id": "Q8MkPrQjANaV",
        "outputId": "ad8b13d9-5f9e-471c-a9c5-58b33b2c9c19"
      },
      "execution_count": null,
      "outputs": [
        {
          "output_type": "execute_result",
          "data": {
            "text/plain": [
              "array([7, 2, 1, ..., 4, 5, 6])"
            ]
          },
          "metadata": {},
          "execution_count": 146
        }
      ]
    },
    {
      "cell_type": "code",
      "source": [
        "# accuracy\n",
        "accuracY = accuracy_score(y_test, y_predReLU)\n",
        "print(accuracY)"
      ],
      "metadata": {
        "colab": {
          "base_uri": "https://localhost:8080/"
        },
        "id": "bslyPutpAUk4",
        "outputId": "97d89c28-b7e3-48de-e8c4-7b355b6efc20"
      },
      "execution_count": null,
      "outputs": [
        {
          "output_type": "stream",
          "name": "stdout",
          "text": [
            "0.8812\n"
          ]
        }
      ]
    },
    {
      "cell_type": "code",
      "source": [
        "num = 36 \n",
        "\n",
        "true_false = y_pred==y_val\n",
        "false_list = np.where(true_false==False)[0].astype(np.int)\n",
        "\n",
        "if false_list.shape[0] < num:\n",
        "    num = false_list.shape[0]\n",
        "fig = plt.figure(figsize=(6, 6))\n",
        "fig.subplots_adjust(left=0, right=0.8,  bottom=0, top=0.8, hspace=1, wspace=0.5)\n",
        "for i in range(num):\n",
        "    ax = fig.add_subplot(6, 6, i + 1, xticks=[], yticks=[])\n",
        "    ax.set_title(\"{} / {}\".format(y_pred[false_list[i]],y_val[false_list[i]]))\n",
        "    ax.imshow(X_val.reshape(-1,28,28)[false_list[i]], cmap='gray')"
      ],
      "metadata": {
        "colab": {
          "base_uri": "https://localhost:8080/",
          "height": 189
        },
        "id": "eIPfJbQVbhGp",
        "outputId": "1f17181c-551c-4f7b-8fe2-7672b70784c6"
      },
      "execution_count": null,
      "outputs": [
        {
          "output_type": "stream",
          "name": "stderr",
          "text": [
            "/usr/local/lib/python3.7/dist-packages/ipykernel_launcher.py:3: DeprecationWarning: elementwise comparison failed; this will raise an error in the future.\n",
            "  This is separate from the ipykernel package so we can avoid doing imports until\n",
            "/usr/local/lib/python3.7/dist-packages/ipykernel_launcher.py:4: DeprecationWarning: `np.int` is a deprecated alias for the builtin `int`. To silence this warning, use `int` by itself. Doing this will not modify any behavior and is safe. When replacing `np.int`, you may wish to use e.g. `np.int64` or `np.int32` to specify the precision. If you wish to review your current use, check the release note link for additional information.\n",
            "Deprecated in NumPy 1.20; for more details and guidance: https://numpy.org/devdocs/release/1.20.0-notes.html#deprecations\n",
            "  after removing the cwd from sys.path.\n"
          ]
        },
        {
          "output_type": "display_data",
          "data": {
            "text/plain": [
              "<Figure size 432x432 with 1 Axes>"
            ],
            "image/png": "[encoded data removed]"
          },
          "metadata": {}
        }
      ]
    }
  ]
}
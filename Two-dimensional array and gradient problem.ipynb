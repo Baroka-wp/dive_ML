{
 "cells": [
  {
   "cell_type": "markdown",
   "id": "f029cb76",
   "metadata": {},
   "source": [
    "### [Problem 1] Linear function\n"
   ]
  },
  {
   "cell_type": "code",
   "execution_count": 47,
   "id": "f368acc3",
   "metadata": {},
   "outputs": [
    {
     "data": {
      "text/plain": [
       "(1001,)"
      ]
     },
     "execution_count": 47,
     "metadata": {},
     "output_type": "execute_result"
    }
   ],
   "source": [
    "import numpy as np\n",
    "\n",
    "x_ndarray = np.arange(-50,50.1,.1)\n",
    "\n",
    "y_ndarray = np.array([])\n",
    "\n",
    "for x in x_ndarray:\n",
    "    y_ndarray = np.append(y_ndarray,(.5*x + 1)) # y = 1/2 x + 1 \n",
    "    \n",
    "\n",
    "x_ndarray.shape"
   ]
  },
  {
   "cell_type": "markdown",
   "id": "c85312ab",
   "metadata": {},
   "source": [
    "### [Problem 2] Array combination"
   ]
  },
  {
   "cell_type": "code",
   "execution_count": 49,
   "id": "5002b977",
   "metadata": {},
   "outputs": [
    {
     "data": {
      "text/plain": [
       "(1001, 2)"
      ]
     },
     "execution_count": 49,
     "metadata": {},
     "output_type": "execute_result"
    }
   ],
   "source": [
    "z_ndarray = np.concatenate((x_ndarray,y_ndarray)).reshape(1001,2)\n",
    "\n",
    "z_ndarray.shape"
   ]
  },
  {
   "cell_type": "markdown",
   "id": "03a749ce",
   "metadata": {},
   "source": [
    "### [Problem 3] Find the gradient"
   ]
  },
  {
   "cell_type": "code",
   "execution_count": 52,
   "id": "63cd50e8",
   "metadata": {},
   "outputs": [
    {
     "data": {
      "text/plain": [
       "(1000,)"
      ]
     },
     "execution_count": 52,
     "metadata": {},
     "output_type": "execute_result"
    }
   ],
   "source": [
    "amount_change_in_x = x_ndarray[1:] - x_ndarray[:-1]\n",
    "amount_change_in_y = y_ndarray[1:] - y_ndarray[:-1]\n",
    "\n",
    "gradient = amount_change_in_y / amount_change_in_x\n",
    "\n",
    "gradient.shape"
   ]
  },
  {
   "cell_type": "markdown",
   "id": "aba1ceed",
   "metadata": {},
   "source": [
    "### [Problem 4] Draw a graph"
   ]
  },
  {
   "cell_type": "code",
   "execution_count": 51,
   "id": "1147a70a",
   "metadata": {},
   "outputs": [
    {
     "data": {
      "image/png": "[encoded data removed]",
      "text/plain": [
       "<Figure size 432x288 with 1 Axes>"
      ]
     },
     "metadata": {
      "needs_background": "light"
     },
     "output_type": "display_data"
    }
   ],
   "source": [
    "import matplotlib.pyplot as plt\n",
    "\n",
    "\n",
    "plt.title(\"y = 1/2 x + 1\")\n",
    "plt.xlabel(\"x\")\n",
    "plt.ylabel(\"y\")\n",
    "plt.plot(x_ndarray,y_ndarray)\n",
    "\n",
    "plt.show()"
   ]
  },
  {
   "cell_type": "markdown",
   "id": "8cf29abd",
   "metadata": {},
   "source": [
    "### [Problem 5] Python functionalization"
   ]
  },
  {
   "cell_type": "code",
   "execution_count": 71,
   "id": "fb91141c",
   "metadata": {},
   "outputs": [
    {
     "data": {
      "text/plain": [
       "array([[-50.  , -49.9 ],\n",
       "       [-49.8 , -49.7 ],\n",
       "       [-49.6 , -49.5 ],\n",
       "       ...,\n",
       "       [ 25.75,  25.8 ],\n",
       "       [ 25.85,  25.9 ],\n",
       "       [ 25.95,  26.  ]])"
      ]
     },
     "execution_count": 71,
     "metadata": {},
     "output_type": "execute_result"
    }
   ],
   "source": [
    "array_x = np.arange(-50,50.1,0.1)\n",
    "\n",
    "def compute_gradient(function,x_range=(-50,50.1,.1)):\n",
    "    \"\"\"\n",
    "    undefined\n",
    "    Parameters\n",
    "    ----------------\n",
    "    function : function\n",
    "      undefined\n",
    "    x_range : tuple\n",
    "      undefined\n",
    "    Returns\n",
    "    ----------------\n",
    "    array_xy : ndarray, shape(n, 2)\n",
    "      undefined\n",
    "    gradient : ndarray, shape(n-1,)\n",
    "      undefined\n",
    "    \"\"\"\n",
    "    array_x = np.arange(-50,50.1,0.1)\n",
    "    array_y = function\n",
    "    \n",
    "    array_xy = np.concatenate((array_x,array_y)).reshape(array_x.shape[0],2)\n",
    "    \n",
    "    gradient = (array_y[1:] - array_y[:-1]) / (array_x[1:] - array_x[:-1])\n",
    "    \n",
    "    \n",
    "    pass\n",
    "    return array_xy, gradient\n",
    "\n",
    "\n",
    "def function1(array_x):\n",
    "    \n",
    "    array_y = np.array([])\n",
    "    \n",
    "    for x in array_x:\n",
    "        array_y = np.append(array_y,(.5*x + 1)) # y = 1/2 x + 1 \n",
    "        \n",
    "    pass\n",
    "    return array_y\n",
    "\n",
    "\n",
    "array_xy, gradient = compute_gradient(function1(array_x))\n",
    "\n",
    "array_xy"
   ]
  },
  {
   "cell_type": "markdown",
   "id": "7388c74a",
   "metadata": {},
   "source": [
    "### [Problem 6] Find the minimum value\n"
   ]
  },
  {
   "cell_type": "code",
   "execution_count": 72,
   "id": "8cc2cc9d",
   "metadata": {},
   "outputs": [
    {
     "data": {
      "text/plain": [
       "-24.0"
      ]
     },
     "execution_count": 72,
     "metadata": {},
     "output_type": "execute_result"
    }
   ],
   "source": [
    "y = function1(array_x)\n",
    "# min method can get the minimum value\n",
    "y.min()"
   ]
  },
  {
   "cell_type": "code",
   "execution_count": 73,
   "id": "55c79921",
   "metadata": {},
   "outputs": [
    {
     "data": {
      "text/plain": [
       "0"
      ]
     },
     "execution_count": 73,
     "metadata": {},
     "output_type": "execute_result"
    }
   ],
   "source": [
    "#argmin method can get the index of the minimum value\n",
    "y.argmin()"
   ]
  }
 ],
 "metadata": {
  "kernelspec": {
   "display_name": "Python 3",
   "language": "python",
   "name": "python3"
  },
  "language_info": {
   "codemirror_mode": {
    "name": "ipython",
    "version": 3
   },
   "file_extension": ".py",
   "mimetype": "text/x-python",
   "name": "python",
   "nbconvert_exporter": "python",
   "pygments_lexer": "ipython3",
   "version": "3.8.8"
  }
 },
 "nbformat": 4,
 "nbformat_minor": 5
}

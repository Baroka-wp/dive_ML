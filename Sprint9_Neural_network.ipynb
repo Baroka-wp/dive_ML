{
  "nbformat": 4,
  "nbformat_minor": 0,
  "metadata": {
    "colab": {
      "name": "Sprint9 Neural network.ipynb",
      "provenance": [],
      "collapsed_sections": [],
      "authorship_tag": "ABX9TyORxqlrFMVJLwIFAcYZhUQc",
      "include_colab_link": true
    },
    "kernelspec": {
      "name": "python3",
      "display_name": "Python 3"
    },
    "language_info": {
      "name": "python"
    }
  },
  "cells": [
    {
      "cell_type": "markdown",
      "metadata": {
        "id": "view-in-github",
        "colab_type": "text"
      },
      "source": [
        "<a href=\"https://colab.research.google.com/github/Baroka-wp/dive_ML/blob/master/Sprint9_Neural_network.ipynb\" target=\"_parent\"><img src=\"https://colab.research.google.com/assets/colab-badge.svg\" alt=\"Open In Colab\"/></a>"
      ]
    },
    {
      "cell_type": "code",
      "source": [
        "#importer les bibliotheques\n",
        "import numpy as np\n",
        "from keras.datasets import mnist\n",
        "import matplotlib.pyplot as plt\n",
        "from keras.datasets import mnist\n",
        "from sklearn.preprocessing import OneHotEncoder\n",
        "from sklearn.model_selection import train_test_split\n",
        "from sklearn.metrics import accuracy_score\n",
        "from tqdm import tqdm"
      ],
      "metadata": {
        "id": "zCLm6YNIpX3o"
      },
      "execution_count": 130,
      "outputs": []
    },
    {
      "cell_type": "code",
      "execution_count": 131,
      "metadata": {
        "id": "SlrP-fl3mulP"
      },
      "outputs": [],
      "source": [
        "(X_train, y_train), (X_test, y_test) = mnist.load_data()"
      ]
    },
    {
      "cell_type": "code",
      "source": [
        "#verification des donnees\n",
        "print(X_train.shape) # (60000, 28, 28)\n",
        "print(X_test.shape) # (10000, 28, 28)\n",
        "print(X_train[0].dtype) # uint8\n"
      ],
      "metadata": {
        "colab": {
          "base_uri": "https://localhost:8080/"
        },
        "id": "IzcvfZhSoWPM",
        "outputId": "c3f2bf02-a454-41d7-c722-7662bacda0c6"
      },
      "execution_count": 132,
      "outputs": [
        {
          "output_type": "stream",
          "name": "stdout",
          "text": [
            "(60000, 28, 28)\n",
            "(10000, 28, 28)\n",
            "uint8\n"
          ]
        }
      ]
    },
    {
      "cell_type": "markdown",
      "source": [
        "### Lissage"
      ],
      "metadata": {
        "id": "_Bp7Epo-ogYJ"
      }
    },
    {
      "cell_type": "code",
      "source": [
        "X_train = X_train.reshape(-1, 784)\n",
        "X_test = X_test.reshape(-1, 784)\n",
        "\n",
        "X_train.shape"
      ],
      "metadata": {
        "id": "0FmW6IoBodhg",
        "colab": {
          "base_uri": "https://localhost:8080/"
        },
        "outputId": "c2395dae-425a-40d1-961c-278221d40ada"
      },
      "execution_count": 133,
      "outputs": [
        {
          "output_type": "execute_result",
          "data": {
            "text/plain": [
              "(60000, 784)"
            ]
          },
          "metadata": {},
          "execution_count": 133
        }
      ]
    },
    {
      "cell_type": "markdown",
      "source": [
        "### Visualisation des données d'image"
      ],
      "metadata": {
        "id": "1DHHFlomo05l"
      }
    },
    {
      "cell_type": "code",
      "source": [
        "import matplotlib.pyplot as plt\n",
        "%matplotlib inline\n",
        "index = 0\n",
        "image = X_train[index].reshape(28,28)\n",
        "# X_train[index]: (784,)\n",
        "# image: (28, 28)\n",
        "plt.imshow(image, 'gray')\n",
        "plt.title('label : {}'.format(y_train[index]))\n",
        "plt.show()"
      ],
      "metadata": {
        "colab": {
          "base_uri": "https://localhost:8080/",
          "height": 281
        },
        "id": "Q2jVq33Jo3YI",
        "outputId": "a6973264-69bc-4b59-bb7f-9d9468bec971"
      },
      "execution_count": 134,
      "outputs": [
        {
          "output_type": "display_data",
          "data": {
            "text/plain": [
              "<Figure size 432x288 with 1 Axes>"
            ],
            "image/png": "[encoded data removed]"
          },
          "metadata": {
            "needs_background": "light"
          }
        }
      ]
    },
    {
      "cell_type": "code",
      "source": [
        "index = 0\n",
        "image = X_train[index].reshape(28,28)\n",
        "image = image.astype(np.float) # undefined\n",
        "image -= 105.35 # undefined\n",
        "plt.imshow(image, 'gray')\n",
        "plt.title('label : {}'.format(y_train[index]))\n",
        "plt.show()"
      ],
      "metadata": {
        "colab": {
          "base_uri": "https://localhost:8080/",
          "height": 353
        },
        "id": "dUnood0fpTWQ",
        "outputId": "2494430e-069e-4df3-85e6-1bb67256da6a"
      },
      "execution_count": 135,
      "outputs": [
        {
          "output_type": "stream",
          "name": "stderr",
          "text": [
            "/usr/local/lib/python3.7/dist-packages/ipykernel_launcher.py:3: DeprecationWarning: `np.float` is a deprecated alias for the builtin `float`. To silence this warning, use `float` by itself. Doing this will not modify any behavior and is safe. If you specifically wanted the numpy scalar type, use `np.float64` here.\n",
            "Deprecated in NumPy 1.20; for more details and guidance: https://numpy.org/devdocs/release/1.20.0-notes.html#deprecations\n",
            "  This is separate from the ipykernel package so we can avoid doing imports until\n"
          ]
        },
        {
          "output_type": "display_data",
          "data": {
            "text/plain": [
              "<Figure size 432x288 with 1 Axes>"
            ],
            "image/png": "[encoded data removed]"
          },
          "metadata": {
            "needs_background": "light"
          }
        }
      ]
    },
    {
      "cell_type": "code",
      "source": [
        "plt.imshow(image, 'gray', vmin = 0, vmax = 250)"
      ],
      "metadata": {
        "colab": {
          "base_uri": "https://localhost:8080/",
          "height": 282
        },
        "id": "K6CkayM1puTw",
        "outputId": "6fbdb434-e8be-4780-be94-2aee5ce3b659"
      },
      "execution_count": 136,
      "outputs": [
        {
          "output_type": "execute_result",
          "data": {
            "text/plain": [
              "<matplotlib.image.AxesImage at 0x7efc571c9c90>"
            ]
          },
          "metadata": {},
          "execution_count": 136
        },
        {
          "output_type": "display_data",
          "data": {
            "text/plain": [
              "<Figure size 432x288 with 1 Axes>"
            ],
            "image/png": "[encoded data removed]"
          },
          "metadata": {
            "needs_background": "light"
          }
        }
      ]
    },
    {
      "cell_type": "markdown",
      "source": [
        "## Prétraitement\n"
      ],
      "metadata": {
        "id": "ZgNWu47LqKt4"
      }
    },
    {
      "cell_type": "code",
      "source": [
        "#normalisation Min Max\n",
        "X_train = X_train.astype(np.float)\n",
        "X_test = X_test.astype(np.float)\n",
        "X_train /= 255\n",
        "X_test /= 255"
      ],
      "metadata": {
        "colab": {
          "base_uri": "https://localhost:8080/"
        },
        "id": "iIJu7Bo6qJFJ",
        "outputId": "6c0eaf8c-9111-42a6-e1f9-0983bb932ce0"
      },
      "execution_count": 137,
      "outputs": [
        {
          "output_type": "stream",
          "name": "stderr",
          "text": [
            "/usr/local/lib/python3.7/dist-packages/ipykernel_launcher.py:2: DeprecationWarning: `np.float` is a deprecated alias for the builtin `float`. To silence this warning, use `float` by itself. Doing this will not modify any behavior and is safe. If you specifically wanted the numpy scalar type, use `np.float64` here.\n",
            "Deprecated in NumPy 1.20; for more details and guidance: https://numpy.org/devdocs/release/1.20.0-notes.html#deprecations\n",
            "  \n",
            "/usr/local/lib/python3.7/dist-packages/ipykernel_launcher.py:3: DeprecationWarning: `np.float` is a deprecated alias for the builtin `float`. To silence this warning, use `float` by itself. Doing this will not modify any behavior and is safe. If you specifically wanted the numpy scalar type, use `np.float64` here.\n",
            "Deprecated in NumPy 1.20; for more details and guidance: https://numpy.org/devdocs/release/1.20.0-notes.html#deprecations\n",
            "  This is separate from the ipykernel package so we can avoid doing imports until\n"
          ]
        }
      ]
    },
    {
      "cell_type": "code",
      "source": [
        "#spliting\n",
        "X_train, X_val, y_train, y_val = train_test_split(X_train, y_train, test_size=0.2)\n"
      ],
      "metadata": {
        "id": "AY7qG2FVJElI"
      },
      "execution_count": 138,
      "outputs": []
    },
    {
      "cell_type": "code",
      "source": [
        "enc = OneHotEncoder(handle_unknown='ignore', sparse=False)\n",
        "y_train_one_hot = enc.fit_transform(y_train[:, np.newaxis])\n",
        "y_test_one_hot = enc.transform(y_test[:, np.newaxis])\n",
        "print(y_train.shape) # (60000,)\n",
        "print(y_train_one_hot.shape) # (60000, 10)\n",
        "print(y_train_one_hot.dtype) # float64"
      ],
      "metadata": {
        "colab": {
          "base_uri": "https://localhost:8080/"
        },
        "id": "9uudk-XHqSVr",
        "outputId": "bcdc81c1-59c7-463b-ef71-00807e390d48"
      },
      "execution_count": 139,
      "outputs": [
        {
          "output_type": "stream",
          "name": "stdout",
          "text": [
            "(48000,)\n",
            "(48000, 10)\n",
            "float64\n"
          ]
        }
      ]
    },
    {
      "cell_type": "markdown",
      "source": [
        "## Scratch réseau de neurones"
      ],
      "metadata": {
        "id": "dpUTL0B2qg8M"
      }
    },
    {
      "cell_type": "markdown",
      "source": [
        "## Mini traitement par lots\n",
        "\n"
      ],
      "metadata": {
        "id": "R6xvAUh77USd"
      }
    },
    {
      "cell_type": "code",
      "source": [
        "class GetMiniBatch:\n",
        "    \"\"\"\n",
        "    Iterator pour récupérer le mini-batch.\n",
        "\n",
        "    Paramètres.\n",
        "    ----------\n",
        "    X : ndarray de la forme suivante, shape (n_samples, n_features)\n",
        "      Données de formation\n",
        "    y : ndarray de la forme suivante, shape (n_samples, 1)\n",
        "      Valeur de la réponse correcte\n",
        "    batch_size : int\n",
        "      Taille du lot\n",
        "    graine : int\n",
        "      Semence de nombres aléatoires dans NumPy\n",
        "    \"\"\"\n",
        "    def __init__(self, X, y, batch_size = 20, seed=0):\n",
        "        self.batch_size = batch_size\n",
        "        np.random.seed(seed)\n",
        "        shuffle_index = np.random.permutation(np.arange(X.shape[0]))\n",
        "        self._X = X[shuffle_index]\n",
        "        self._y = y[shuffle_index]\n",
        "        self._stop = np.ceil(X.shape[0]/self.batch_size).astype(np.int)\n",
        "\n",
        "    def __len__(self):\n",
        "        return self._stop\n",
        "\n",
        "    def __getitem__(self,item):\n",
        "        p0 = item*self.batch_size\n",
        "        p1 = item*self.batch_size + self.batch_size\n",
        "        return self._X[p0:p1], self._y[p0:p1]        \n",
        "\n",
        "    def __iter__(self):\n",
        "        self._counter = 0\n",
        "        return self\n",
        "\n",
        "    def __next__(self):\n",
        "        if self._counter >= self._stop:\n",
        "            raise StopIteration()\n",
        "        p0 = self._counter*self.batch_size\n",
        "        p1 = self._counter*self.batch_size + self.batch_size\n",
        "        self._counter += 1\n",
        "        return self._X[p0:p1], self._y[p0:p1]"
      ],
      "metadata": {
        "id": "DmKOFd6J7Oca"
      },
      "execution_count": 140,
      "outputs": []
    },
    {
      "cell_type": "code",
      "source": [
        "get_mini_batch = GetMiniBatch(X_train, y_train, batch_size=20)\n",
        "print(len(get_mini_batch))\n"
      ],
      "metadata": {
        "colab": {
          "base_uri": "https://localhost:8080/"
        },
        "id": "i_OG0lqW7iGV",
        "outputId": "b90bed5c-fc6e-4922-bddb-d34a1013abb0"
      },
      "execution_count": 141,
      "outputs": [
        {
          "output_type": "stream",
          "name": "stdout",
          "text": [
            "2400\n"
          ]
        },
        {
          "output_type": "stream",
          "name": "stderr",
          "text": [
            "/usr/local/lib/python3.7/dist-packages/ipykernel_launcher.py:22: DeprecationWarning: `np.int` is a deprecated alias for the builtin `int`. To silence this warning, use `int` by itself. Doing this will not modify any behavior and is safe. When replacing `np.int`, you may wish to use e.g. `np.int64` or `np.int32` to specify the precision. If you wish to review your current use, check the release note link for additional information.\n",
            "Deprecated in NumPy 1.20; for more details and guidance: https://numpy.org/devdocs/release/1.20.0-notes.html#deprecations\n"
          ]
        }
      ]
    },
    {
      "cell_type": "markdown",
      "source": [
        "## [Problème 1] Création d'un code pour déterminer la valeur de poids initiale\n"
      ],
      "metadata": {
        "id": "qVRh1fhD7cnm"
      }
    },
    {
      "cell_type": "code",
      "source": [
        "n_sample,n_features = X_train.shape\n",
        "n_nodes1 = 400\n",
        "n_nodes2 = 200\n",
        "n_output = 10\n",
        "sigma = 0.01 # Écart-type de la distribution gaussienne\n",
        "W1 = sigma * np.random.randn(n_features, n_nodes1)"
      ],
      "metadata": {
        "id": "55zX1KpW7dhR"
      },
      "execution_count": 142,
      "outputs": []
    },
    {
      "cell_type": "markdown",
      "source": [
        "## [Problème 2] Mise en œuvre de la propagation directe\n"
      ],
      "metadata": {
        "id": "inRnRgWB76Ye"
      }
    },
    {
      "cell_type": "code",
      "source": [
        "#initialisation des paramettres\n",
        "b1 = np.random.randn(1)\n",
        "b2 = sigma * np.random.randn(1, n_nodes2)\n",
        "W2 = sigma * np.random.randn(n_nodes1, n_nodes2)\n",
        "W3 = sigma * np.random.randn(n_nodes2, n_output)\n",
        "b3 = sigma * np.random.randn(1, n_output)\n",
        "\n",
        "\n",
        "#Calcul de A1 et Z1 de couche 1\n",
        "A1 = X_train.dot(W1) + b1\n",
        "Z1 = 1 / (1 + np.exp(-A1))\n",
        "\n",
        "#Calcule A2 et Z2 de la couche 2 \n",
        "A2 = Z1.dot(W2) + b2\n",
        "Z2 =  1 / (1 + np.exp(-A2))\n",
        "\n",
        "#Calcule A3 et Z3 de la couche 3 \n",
        "A3 = Z2.dot(W3) + b3\n",
        "Z3 =  np.exp(A3) / np.sum(np.exp(A3), axis=1).reshape(-1, 1)\n"
      ],
      "metadata": {
        "id": "r7qik7C9-XvT"
      },
      "execution_count": 143,
      "outputs": []
    },
    {
      "cell_type": "markdown",
      "source": [
        "## [Problème 3] Implémentation d'une erreur d'entropie croisée\n"
      ],
      "metadata": {
        "id": "uHjn8k9aB1xD"
      }
    },
    {
      "cell_type": "code",
      "source": [
        "L = -np.sum([y_train[i]*np.log2(Z3[i]) for i in range(len(y_train))])\n"
      ],
      "metadata": {
        "id": "PhzA-8b3B9N5"
      },
      "execution_count": 144,
      "outputs": []
    },
    {
      "cell_type": "markdown",
      "source": [
        "## [Problème 4] Mise en œuvre de la rétropropagation\n"
      ],
      "metadata": {
        "id": "SJ2WxcSNCx0W"
      }
    },
    {
      "cell_type": "markdown",
      "source": [
        "C'est la partie qui effectue la descente de gradient stochastique."
      ],
      "metadata": {
        "id": "UeisnNZeFdRm"
      }
    },
    {
      "cell_type": "markdown",
      "source": [
        "## [Problème 5] Estimation\n"
      ],
      "metadata": {
        "id": "VAC8WWT-FeyO"
      }
    },
    {
      "cell_type": "markdown",
      "source": [
        "## [Problème 6] Apprentissage et estimation\n"
      ],
      "metadata": {
        "id": "YaV2WqkZFm8m"
      }
    },
    {
      "cell_type": "code",
      "source": [
        "class ScratchSimpleNeuralNetrowkClassifier():\n",
        "\n",
        "    def __init__(self, verbose = True, n_features=784,n_nodes1=400,n_nodes2=200, batch_size=20,n_output=10, n_epoch=30, lr=0.01, sigma=0.02):\n",
        "        self.verbose = verbose\n",
        "        self.n_features = n_features\n",
        "        self.n_nodes1 = n_nodes1\n",
        "        self.n_nodes2 = n_nodes2\n",
        "        self.batch_size = batch_size\n",
        "        self.n_output = n_output\n",
        "        self.n_epoch = n_epoch\n",
        "        self.lr = lr\n",
        "        self.sigma = sigma\n",
        "        self.loss = []\n",
        "        self.val_loss = []\n",
        "\n",
        "        self.W1 = None\n",
        "        self.b1 = None\n",
        "        self.W2 = None\n",
        "        self.b2 = None\n",
        "        self.W3 = None\n",
        "        self.b3 = None\n",
        "        pass\n",
        "    \n",
        "    def fit(self, X, y, X_val=None, y_val=None):\n",
        "      self.create_init_w_b()\n",
        "      for epoch in tqdm(range(self.n_epoch)):\n",
        "          get_mini_batch = GetMiniBatch(X, y, self.batch_size)\n",
        "          for mini_X_train, mini_y_train in get_mini_batch: \n",
        "            # forward propagation\n",
        "            self.forward_propagation(mini_X_train)\n",
        "            self.back_propagation(mini_X_train, mini_y_train)\n",
        "          self.forward_propagation(X)\n",
        "          self.loss.append(self.cross_entropy_error(y, self.layer_3))\n",
        "          if X_val is not None:\n",
        "              self.forward_propagation(X_val)\n",
        "              self.val_loss.append(self.cross_entropy_error(y_val, self.layer_3))\n",
        "\n",
        "      if self.verbose:\n",
        "          # When verbose is set to True, the learning process etc. is output.\n",
        "          print(self.loss)\n",
        "      pass\n",
        "    \n",
        "    def create_init_w_b(self):\n",
        "      self.W1 = self.sigma * np.random.randn(self.n_features, self.n_nodes1)\n",
        "      self.b1 = self.sigma * np.random.randn(1, self.n_nodes1)\n",
        "      self.W2 = self.sigma * np.random.randn(self.n_nodes1, self.n_nodes2)\n",
        "      self.b2 = self.sigma * np.random.randn(1, self.n_nodes2)\n",
        "      self.W3 = self.sigma * np.random.randn(self.n_nodes2, self.n_output)\n",
        "      self.b3 = self.sigma * np.random.randn(1, self.n_output)\n",
        "    \n",
        "    def activation_function(self,X, layer):\n",
        "      if layer == \"hidden\" or layer == \"first\":\n",
        "        act_f = np.tanh(X)\n",
        "        return act_f\n",
        "      else: \n",
        "        act_f = np.exp(X) / np.sum(np.exp(X), axis=1).reshape(-1, 1)\n",
        "        return act_f\n",
        "\n",
        "    def cross_entropy_error(self, y, Z):\n",
        "      return -np.sum([y[i]*np.log2(Z[i]) for i in range(len(y))])\n",
        "\n",
        "    def forward_propagation(self,X):\n",
        "        self.layer_1_pre = np.matmul(X,self.W1) + self.b1\n",
        "        self.layer_1 = self.activation_function(self.layer_1_pre, \"first\")\n",
        "\n",
        "        self.layer_2_pre = np.matmul(self.layer_1,self.W2) + self.b2\n",
        "        self.layer_2 = self.activation_function(self.layer_2_pre, \"hidden\")\n",
        "\n",
        "        self.layer_3_pre = np.matmul(self.layer_2,self.W3) + self.b3\n",
        "        self.layer_3 = self.activation_function(self.layer_3_pre, \"output\")\n",
        "        \n",
        "    def back_propagation(self, X, y):\n",
        "      dA3 = self.layer_3 - y\n",
        "      dB3 = np.sum(dA3, axis=0)\n",
        "      dW3 = self.layer_2.T @ dA3\n",
        "      dZ2 = dA3 @ self.W3.T\n",
        "      dA2 = dZ2 * (1 - self.activation_function(self.layer_2_pre, \"hidden\")**2)\n",
        "      dB2 = np.sum(dA2, axis=0)\n",
        "      dW2 = self.layer_1.T @ dA2\n",
        "      dZ1 = dA2 @ self.W2.T\n",
        "      dA1 = dZ1 * (1 - self.activation_function(self.layer_1_pre, \"first\")**2)\n",
        "      dB1 = np.sum(dA1, axis=0)\n",
        "      dW1 = X.T @ dA1\n",
        "      self.W3 -= self.lr * dW3\n",
        "      self.b3 -= self.lr * dB3\n",
        "      self.W2 -= self.lr * dW2\n",
        "      self.b2 -= self.lr * dB2\n",
        "      self.W1 -= self.lr * dW1\n",
        "      self.b1 -= self.lr * dB1\n",
        "\n",
        "    def predict(self, X):\n",
        "      self.forward_propagation(X)\n",
        "      return np.argmax(self.layer_3, axis=1)\n"
      ],
      "metadata": {
        "id": "H9CYRR6bGg85"
      },
      "execution_count": 145,
      "outputs": []
    },
    {
      "cell_type": "code",
      "source": [
        "model = ScratchSimpleNeuralNetrowkClassifier()\n",
        "model.fit(X_train,y_train_one_hot,X_val,y_test_one_hot)\n"
      ],
      "metadata": {
        "colab": {
          "base_uri": "https://localhost:8080/"
        },
        "id": "XGXtZ3My98ac",
        "outputId": "a53cb06f-c1dd-4c0e-9def-5da55ff0630b"
      },
      "execution_count": 146,
      "outputs": [
        {
          "output_type": "stream",
          "name": "stderr",
          "text": [
            "\r  0%|          | 0/30 [00:00<?, ?it/s]/usr/local/lib/python3.7/dist-packages/ipykernel_launcher.py:22: DeprecationWarning: `np.int` is a deprecated alias for the builtin `int`. To silence this warning, use `int` by itself. Doing this will not modify any behavior and is safe. When replacing `np.int`, you may wish to use e.g. `np.int64` or `np.int32` to specify the precision. If you wish to review your current use, check the release note link for additional information.\n",
            "Deprecated in NumPy 1.20; for more details and guidance: https://numpy.org/devdocs/release/1.20.0-notes.html#deprecations\n",
            "100%|██████████| 30/30 [09:50<00:00, 19.68s/it]"
          ]
        },
        {
          "output_type": "stream",
          "name": "stdout",
          "text": [
            "[13891.174573223354, 7960.745942590765, 5886.272672135903, 4027.587971291292, 2931.6306374941396, 2398.0521551896386, 1774.884861081941, 1689.6747536400949, 787.7936976582803, 607.1236690606041, 304.54228274170555, 264.95255675488283, 134.39647427944712, 89.4038433269745, 65.98019584945924, 53.74362625781456, 46.1294714080664, 40.66013078497233, 36.45646013367024, 33.09430877811417, 30.327912769548405, 28.002689797807818, 26.01542391957615, 24.29408100690932, 22.786586145868693, 21.454182444123862, 20.26730868377037, 19.202940557616266, 18.24281986076328, 17.37224167738159]\n"
          ]
        },
        {
          "output_type": "stream",
          "name": "stderr",
          "text": [
            "\n"
          ]
        }
      ]
    },
    {
      "cell_type": "markdown",
      "source": [
        "#### Estimation"
      ],
      "metadata": {
        "id": "lV73RBotL2q4"
      }
    },
    {
      "cell_type": "code",
      "source": [
        "y_pred = model.predict(X_val)\n",
        "print(accuracy_score(y_val, y_pred))\n"
      ],
      "metadata": {
        "colab": {
          "base_uri": "https://localhost:8080/"
        },
        "id": "rnfeekSzF1E6",
        "outputId": "33135c0c-7943-43fd-8e52-dc5641c8b2f3"
      },
      "execution_count": 147,
      "outputs": [
        {
          "output_type": "stream",
          "name": "stdout",
          "text": [
            "0.9801666666666666\n"
          ]
        }
      ]
    },
    {
      "cell_type": "code",
      "source": [
        ""
      ],
      "metadata": {
        "id": "5wBLRkhsMFrm"
      },
      "execution_count": 147,
      "outputs": []
    },
    {
      "cell_type": "markdown",
      "source": [
        "### [Problème 7] Tracé de la courbe d'apprentissage\n"
      ],
      "metadata": {
        "id": "R2DgB2IlL6Zs"
      }
    },
    {
      "cell_type": "code",
      "source": [
        "fig = plt.subplots(figsize=(12,8))\n",
        "plt.rcParams[\"font.size\"] = 20\n",
        "\n",
        "plt.plot(model.loss,'r', label=\"train\")\n",
        "plt.plot(model.val_loss,'b', label= \"val\")\n",
        "plt.legend()"
      ],
      "metadata": {
        "colab": {
          "base_uri": "https://localhost:8080/",
          "height": 499
        },
        "id": "Vyt6rA9nL7o5",
        "outputId": "7699b5af-2f4c-4f28-cdc9-0710af1f3d5a"
      },
      "execution_count": 148,
      "outputs": [
        {
          "output_type": "execute_result",
          "data": {
            "text/plain": [
              "<matplotlib.legend.Legend at 0x7efc53346310>"
            ]
          },
          "metadata": {},
          "execution_count": 148
        },
        {
          "output_type": "display_data",
          "data": {
            "text/plain": [
              "<Figure size 864x576 with 1 Axes>"
            ],
            "image/png": "[encoded data removed]"
          },
          "metadata": {
            "needs_background": "light"
          }
        }
      ]
    },
    {
      "cell_type": "markdown",
      "source": [
        "##[Problème 8] ( exercices avancée) Confirmation d'une classification erronée\n"
      ],
      "metadata": {
        "id": "HQ1WbzZAMePl"
      }
    },
    {
      "cell_type": "code",
      "source": [
        "\"\"\"\n",
        "Les résultats de la classification des mots sont affichés côte à côte. L'affichage au-dessus de l'image est \"Résultat de l'estimation/réponse correcte\".\n",
        "\n",
        "Paramètres :\n",
        "----------\n",
        "y_pred : ndarray d'estimations (n_samples,)\n",
        "y_val : étiquettes correctes pour les données de validation (n_échantillons,)\n",
        "X_val : caractéristiques des données de validation (n_samples, n_features)\n",
        "\"\"\"\n",
        "num = 36 # Combien en afficher.\n",
        "\n",
        "true_false = y_pred==y_val\n",
        "false_list = np.where(true_false==False)[0].astype(np.int)\n",
        "\n",
        "if false_list.shape[0] < num:\n",
        "    num = false_list.shape[0]\n",
        "fig = plt.figure(figsize=(6, 6))\n",
        "fig.subplots_adjust(left=0, right=0.8,  bottom=0, top=0.8, hspace=1, wspace=0.5)\n",
        "for i in range(num):\n",
        "    ax = fig.add_subplot(6, 6, i + 1, xticks=[], yticks=[])\n",
        "    ax.set_title(\"{} / {}\".format(y_pred[false_list[i]],y_val[false_list[i]]))\n",
        "    ax.imshow(X_val.reshape(-1,28,28)[false_list[i]], cmap='gray')"
      ],
      "metadata": {
        "colab": {
          "base_uri": "https://localhost:8080/",
          "height": 477
        },
        "id": "-4cE77JsMffh",
        "outputId": "c897ceaa-063e-46e0-d817-11dbdaf5e7cf"
      },
      "execution_count": 149,
      "outputs": [
        {
          "output_type": "stream",
          "name": "stderr",
          "text": [
            "/usr/local/lib/python3.7/dist-packages/ipykernel_launcher.py:13: DeprecationWarning: `np.int` is a deprecated alias for the builtin `int`. To silence this warning, use `int` by itself. Doing this will not modify any behavior and is safe. When replacing `np.int`, you may wish to use e.g. `np.int64` or `np.int32` to specify the precision. If you wish to review your current use, check the release note link for additional information.\n",
            "Deprecated in NumPy 1.20; for more details and guidance: https://numpy.org/devdocs/release/1.20.0-notes.html#deprecations\n",
            "  del sys.path[0]\n"
          ]
        },
        {
          "output_type": "display_data",
          "data": {
            "text/plain": [
              "<Figure size 432x432 with 36 Axes>"
            ],
            "image/png": "[encoded data removed]"
          },
          "metadata": {}
        }
      ]
    }
  ]
}
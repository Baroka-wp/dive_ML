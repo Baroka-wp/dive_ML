{
  "nbformat": 4,
  "nbformat_minor": 0,
  "metadata": {
    "colab": {
      "name": "Sprint8 apprentissage d'ensemble.ipynb",
      "provenance": [],
      "mount_file_id": "1jrkSQnMqzPAeJMTJYPYCuvHKifjSN-Hz",
      "authorship_tag": "ABX9TyMxcDf5tj+pTsQ/qgbKq3iS",
      "include_colab_link": true
    },
    "kernelspec": {
      "name": "python3",
      "display_name": "Python 3"
    },
    "language_info": {
      "name": "python"
    }
  },
  "cells": [
    {
      "cell_type": "markdown",
      "metadata": {
        "id": "view-in-github",
        "colab_type": "text"
      },
      "source": [
        "<a href=\"https://colab.research.google.com/github/Baroka-wp/dive_ML/blob/master/Sprint8_apprentissage_d'ensemble.ipynb\" target=\"_parent\"><img src=\"https://colab.research.google.com/assets/colab-badge.svg\" alt=\"Open In Colab\"/></a>"
      ]
    },
    {
      "cell_type": "code",
      "source": [
        "import numpy as np\n",
        "import pandas as pd\n",
        "from sklearn.decomposition import PCA\n",
        "from sklearn.linear_model import LinearRegression\n",
        "from sklearn.preprocessing import StandardScaler\n",
        "from sklearn.svm import SVR\n",
        "from sklearn.pipeline import make_pipeline\n",
        "from sklearn.tree import DecisionTreeRegressor\n",
        "from sklearn.model_selection import train_test_split\n",
        "from sklearn.metrics import mean_squared_error\n",
        "from sklearn.metrics import accuracy_score\n",
        "from sklearn.linear_model import LogisticRegression\n",
        "from sklearn.naive_bayes import GaussianNB\n",
        "from sklearn.ensemble import RandomForestClassifier\n",
        "from sklearn.ensemble import VotingClassifier\n",
        "from sklearn.neighbors import KNeighborsClassifier\n",
        "from sklearn.naive_bayes import GaussianNB\n",
        "from sklearn.metrics import accuracy_score\n",
        "from sklearn import datasets"
      ],
      "metadata": {
        "id": "NFbwvpDHZ_Y3"
      },
      "execution_count": 7,
      "outputs": []
    },
    {
      "cell_type": "markdown",
      "source": [
        "### Préparation d'un petit ensemble de données\n"
      ],
      "metadata": {
        "id": "CQeE0oQgZJph"
      }
    },
    {
      "cell_type": "code",
      "execution_count": 8,
      "metadata": {
        "id": "fvqSyXBSY-zx"
      },
      "outputs": [],
      "source": [
        "# importer les donnees\n",
        "data=pd.read_csv('/content/train.csv').select_dtypes(include='number')"
      ]
    },
    {
      "cell_type": "code",
      "source": [
        "# supprimer les donnees null\n",
        "data.isnull().sum()\n",
        "data = data.fillna(data.mean())\n",
        "\n",
        "# definir les variables X,y\n",
        "X = data[['GrLivArea','SalePrice']].values\n",
        "y = data['SalePrice'].values\n",
        "\n",
        "X = np.log1p(X)\n",
        "y = np.log1p(y)\n",
        "\n",
        "print('X :{}, y :{}'.format(X.shape,y.shape))"
      ],
      "metadata": {
        "colab": {
          "base_uri": "https://localhost:8080/"
        },
        "id": "59gfE_1-aBKQ",
        "outputId": "9ce617b0-52fc-4e5b-955f-13f9179089d5"
      },
      "execution_count": 9,
      "outputs": [
        {
          "output_type": "stream",
          "name": "stdout",
          "text": [
            "X :(1460, 2), y :(1460,)\n"
          ]
        }
      ]
    },
    {
      "cell_type": "markdown",
      "source": [
        "####Veuillez diviser train.csv en 80% pour la formation (train) et 20% pour la vérification (val).\n",
        "\n",
        "\n"
      ],
      "metadata": {
        "id": "50wkF8RXdYuq"
      }
    },
    {
      "cell_type": "code",
      "source": [
        "\n",
        "X_train, X_test, y_train, y_test = train_test_split(X,y,test_size=0.2,random_state=1)\n",
        "print('X_train :{}, y_test:{}'.format(X_train.shape,y_test.shape))"
      ],
      "metadata": {
        "colab": {
          "base_uri": "https://localhost:8080/"
        },
        "id": "sEjbIXpZazI9",
        "outputId": "ea06a15f-0970-4448-9a95-aa5becdd2948"
      },
      "execution_count": 10,
      "outputs": [
        {
          "output_type": "stream",
          "name": "stdout",
          "text": [
            "X_train :(1168, 2), y_test:(292,)\n"
          ]
        }
      ]
    },
    {
      "cell_type": "markdown",
      "source": [
        "## [Problem 1] Blending scratch mounting"
      ],
      "metadata": {
        "id": "y3jgwUMRam6j"
      }
    },
    {
      "cell_type": "markdown",
      "source": [
        "#### Méthode (par exemple, régression linéaire, SVM, arbre de décision, réseau de neurones, etc.)\n"
      ],
      "metadata": {
        "id": "2xxc_idwde3K"
      }
    },
    {
      "cell_type": "code",
      "source": [
        "models = [LinearRegression(),SVR(),DecisionTreeRegressor()]\n",
        "predict = list()\n",
        "\n",
        "for model in models:\n",
        "    model.fit(X_train,y_train)\n",
        "    predict.append(model.predict(X_test))\n",
        "    \n",
        "predict_array = np.array(predict)\n",
        "blending = np.mean(predict_array,axis=0)\n",
        "\n",
        "print('MSE blend:{:.5f}'.format(mean_squared_error(y_test,blending)))"
      ],
      "metadata": {
        "colab": {
          "base_uri": "https://localhost:8080/"
        },
        "id": "N_zJFgulaQpE",
        "outputId": "01822f7f-eb7d-4084-e3c3-ff1aee9be0ab"
      },
      "execution_count": 17,
      "outputs": [
        {
          "output_type": "stream",
          "name": "stdout",
          "text": [
            "MSE blend:0.00022\n"
          ]
        }
      ]
    },
    {
      "cell_type": "markdown",
      "source": [
        "#### Hyper paramètres (par exemple type de noyau SVM, valeurs de poids initiales, etc.)"
      ],
      "metadata": {
        "id": "YlTOejnJdhr6"
      }
    },
    {
      "cell_type": "code",
      "source": [
        "poids = [1,5,10]\n",
        "SVR_predicts = list()\n",
        "for c in poids:\n",
        "  svr = SVR(C=c)\n",
        "  svr.fit(X_train,y_train)\n",
        "  svr_predict = svr.predict(X_test)\n",
        "  SVR_predicts.append(svr_predict)\n",
        "\n",
        "\n",
        "SVR_predicts_array = np.array(SVR_predicts)\n",
        "SVR_blend = np.mean(SVR_predicts_array, axis=0)\n",
        "\n",
        "print('MSE blend:{:.5f}'.format(mean_squared_error(y_test,SVR_blend)))\n",
        "\n"
      ],
      "metadata": {
        "colab": {
          "base_uri": "https://localhost:8080/"
        },
        "id": "YTwSqWzocIwx",
        "outputId": "2b85655d-37e9-4f03-803b-de2aa9095372"
      },
      "execution_count": 12,
      "outputs": [
        {
          "output_type": "stream",
          "name": "stdout",
          "text": [
            "MSE blend:0.00220\n"
          ]
        }
      ]
    },
    {
      "cell_type": "markdown",
      "source": [
        "#### prétraiter les données d'entrée (par exemple, normalisation, conversion logarithmique, PCA, etc.)\n"
      ],
      "metadata": {
        "id": "EltFrrPadmYT"
      }
    },
    {
      "cell_type": "code",
      "source": [
        "#pretraitement\n",
        "pca = PCA(n_components = 2)\n",
        "pca.fit(X_train)\n",
        "X_train_trans = pca.transform(X_train)\n",
        "X_test_trans = pca.transform(X_test)"
      ],
      "metadata": {
        "id": "13hoTH_9dQ7g"
      },
      "execution_count": 18,
      "outputs": []
    },
    {
      "cell_type": "code",
      "source": [
        "models_2 = [LinearRegression(),SVR(),DecisionTreeRegressor()]\n",
        "predict_2 = list()\n",
        "\n",
        "for model in models_2:\n",
        "    model.fit(X_train_trans,y_train)\n",
        "    predict_2.append(model.predict(X_test_trans))\n",
        "    \n",
        "predict_array_2 = np.array(predict_2)\n",
        "blending_2 = np.mean(predict_array_2,axis=0)\n",
        "\n",
        "print('MSE blend:{:.5f}'.format(mean_squared_error(y_test,blending_2)))"
      ],
      "metadata": {
        "colab": {
          "base_uri": "https://localhost:8080/"
        },
        "id": "1VPXJ6sVSzbp",
        "outputId": "45102d3b-c4d1-4dae-bb21-5d48af241ef6"
      },
      "execution_count": 21,
      "outputs": [
        {
          "output_type": "stream",
          "name": "stdout",
          "text": [
            "MSE blend:0.00067\n"
          ]
        }
      ]
    },
    {
      "cell_type": "markdown",
      "source": [
        "## [Problem 2] Scratch mounting of bagging\n"
      ],
      "metadata": {
        "id": "KLK1VdhATRnN"
      }
    },
    {
      "cell_type": "code",
      "source": [
        "X_train_bagging, X_test_bagging, y_train_bagging, y_test_bagging = train_test_split(X,y,test_size=0.2,shuffle=True)\n"
      ],
      "metadata": {
        "id": "v3s3rTGCTSyf"
      },
      "execution_count": 20,
      "outputs": []
    },
    {
      "cell_type": "code",
      "source": [
        "models_bagging = [LinearRegression(),SVR(),DecisionTreeRegressor()]\n",
        "predict_bagging = list()\n",
        "\n",
        "for model in models_bagging:\n",
        "    model.fit(X_train_bagging,y_train_bagging)\n",
        "    predict_bagging.append(model.predict(X_test_bagging))\n",
        "    \n",
        "predict_array_bagging = np.array(predict_bagging)\n",
        "bagging = np.mean(predict_array_bagging,axis=0)\n",
        "\n",
        "print('MSE blend:{:.5f}'.format(mean_squared_error(y_test_bagging,bagging)))"
      ],
      "metadata": {
        "colab": {
          "base_uri": "https://localhost:8080/"
        },
        "id": "RYOVClcBUhTQ",
        "outputId": "542bd6bb-f7fe-42bc-b91d-dac335a73cd5"
      },
      "execution_count": 22,
      "outputs": [
        {
          "output_type": "stream",
          "name": "stdout",
          "text": [
            "MSE blend:0.00020\n"
          ]
        }
      ]
    },
    {
      "cell_type": "markdown",
      "source": [
        "## [Problem 3] Stacking scratch mounting\n"
      ],
      "metadata": {
        "id": "wolgS9F7VE9S"
      }
    },
    {
      "cell_type": "code",
      "source": [
        "# sample data\n",
        "X, y = datasets.make_classification(n_samples=10000, n_features=20, n_informative=15, n_redundant=5, random_state=7)\n"
      ],
      "metadata": {
        "id": "qeqEqDKEVF79"
      },
      "execution_count": 23,
      "outputs": []
    },
    {
      "cell_type": "code",
      "source": [
        "# split data\n",
        "X_train, X_test, y_train, y_test = train_test_split(X,y,test_size=0.5,random_state=1)"
      ],
      "metadata": {
        "id": "rLwZu4CZh8ew"
      },
      "execution_count": 24,
      "outputs": []
    },
    {
      "cell_type": "code",
      "source": [
        "# diviser les donnee pour la validations \n",
        "X_train_1, X_val, y_train_1, y_val = train_test_split(X_train,y_train,test_size=0.2,random_state=1)\n"
      ],
      "metadata": {
        "id": "IekeIm8JiZJx"
      },
      "execution_count": 32,
      "outputs": []
    },
    {
      "cell_type": "code",
      "source": [
        "# selectionner l'ensemble de models\n",
        "models_stacking = [LinearRegression(), KNeighborsClassifier(), DecisionTreeRegressor()]\n",
        "predictions = list()\n",
        "\n",
        "for model in models_stacking:\n",
        "   model.fit(X_train_1, y_train_1)\n",
        "   y_pred = model.predict(X_val)\n",
        "   predictions.append(y_pred)\n",
        "\n",
        "predictions = np.array(predictions)\n",
        "new_X = np.mean(predictions,axis=0).reshape(-1,1)\n",
        "\n",
        "#choisir le model de reference\n",
        "blender = LinearRegression()\n",
        "blender.fit(new_X, y_val)\n",
        "\n",
        "blender_pred = blender.predict(new_X) \n",
        "print(\"Blender mse:{:.5f}\".format(mean_squared_error(blender_pred,y_val)))\n"
      ],
      "metadata": {
        "colab": {
          "base_uri": "https://localhost:8080/"
        },
        "id": "TxVUlASJivGK",
        "outputId": "38a9cfa7-3efa-4ff6-e7ff-883b983767bf"
      },
      "execution_count": 31,
      "outputs": [
        {
          "output_type": "stream",
          "name": "stdout",
          "text": [
            "Blender mse:0.04423\n"
          ]
        }
      ]
    },
    {
      "cell_type": "code",
      "source": [
        "# comparaison avec le model \n",
        "model_lr = LinearRegression()\n",
        "model_lr.fit(X_train, y_train)\n",
        "y_pred_lr= model_lr.predict(X_test)\n",
        "print(\"Logistic regression:{:.3f}\".format(mean_squared_error(y_test,y_pred_lr)))"
      ],
      "metadata": {
        "colab": {
          "base_uri": "https://localhost:8080/"
        },
        "id": "dnQXWinsnddx",
        "outputId": "f7aa78de-e72d-4cd1-dc77-8a5572f5d23a"
      },
      "execution_count": 33,
      "outputs": [
        {
          "output_type": "stream",
          "name": "stdout",
          "text": [
            "Logistic regression:0.110\n"
          ]
        }
      ]
    }
  ]
}
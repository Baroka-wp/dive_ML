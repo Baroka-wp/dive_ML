{
 "cells": [
  {
   "cell_type": "markdown",
   "id": "66829282",
   "metadata": {},
   "source": [
    "### Darts throwing problem"
   ]
  },
  {
   "cell_type": "markdown",
   "id": "bd0865b4",
   "metadata": {},
   "source": [
    "> mathrm{probabilité} = \\frac{1}{\\mathrm{nombre d'événements possibles}}\n",
    "\n",
    "- Une distribution avec le même (uniforme) probabilité pour tous les événements est appelé une distribution uniforme.\n",
    "\n",
    "- tous les événements dans le monde ont une relation d'échelle et de fréquence (âge et nombre de personnes dans le cas de la population) propre à l'événement. Et ce qui visualise la relation entre l'échelle et la fréquence s'appelle généralement la distribution de probabilité\n",
    "\n",
    "- La distribution de probabilité pour les données discrètes (événements), telles que les tremblements de terre et les cours des actions, est appelée distribution de probabilité discrète tandis que la distribution de probabilité pour les données continues (événements) est appelée distribution de probabilité continue ."
   ]
  },
  {
   "cell_type": "markdown",
   "id": "437a961e",
   "metadata": {},
   "source": [
    "### Les dictionnaire\n",
    "C'est une liste qui comporte des clés.\n",
    "#Suposons une liste :\n",
    "\n",
    "test = [\"8 millions\", \"4 personnes\", \"40 ans\", \"Masculin\"]\n",
    "\n",
    "*dans ce cas, nous ne savons pas a quoi se refere chaque valeurs.Voila pourquoi il faut un disctionnaire pour attribuer un cle a chaque valeur*\n",
    "\n",
    "test_dic = {\"revenu annuel\":\"8 millions\", \"taille de la famille\":\"4 personnes\", \"age\": \"40 ans\", \"sexe\":\"Masculin\"}"
   ]
  },
  {
   "cell_type": "markdown",
   "id": "61c78e61",
   "metadata": {},
   "source": [
    "### Les methods de dictionnaire"
   ]
  },
  {
   "cell_type": "code",
   "execution_count": 3,
   "id": "96cbd220",
   "metadata": {},
   "outputs": [
    {
     "name": "stdout",
     "output_type": "stream",
     "text": [
      "dict_keys(['Brésil', 'Allemagne', 'Italie', 'Argentine', 'France', 'Angleterre'])\n",
      "dict_values([5, 4, 4, 2, 2, 2])\n",
      "5\n"
     ]
    }
   ],
   "source": [
    "hist_worldcup = {\"Brésil\":5,\"Allemagne\":4,\"Italie\":4,\"Argentine\":2,\"France\":2,\"Angleterre\":2}\n",
    "# recuperer les cles\n",
    "print(hist_worldcup.keys())\n",
    "\n",
    "# recuperer les valeurs\n",
    "print(hist_worldcup.values())\n",
    "\n",
    "# recuperer avec une cle \n",
    "print(hist_worldcup.get(\"Brésil\"))\n"
   ]
  },
  {
   "cell_type": "code",
   "execution_count": 7,
   "id": "c7aad7b9",
   "metadata": {},
   "outputs": [
    {
     "name": "stdout",
     "output_type": "stream",
     "text": [
      "Brésil 5\n",
      "Allemagne 4\n",
      "Italie 4\n",
      "Argentine 2\n",
      "France 2\n",
      "Angleterre 2\n"
     ]
    }
   ],
   "source": [
    "for key, value in hist_worldcup.items():\n",
    "    print(key, value)\n"
   ]
  },
  {
   "cell_type": "markdown",
   "id": "ed5befd2",
   "metadata": {},
   "source": [
    "### [Problème 1] Choisir un tapis de fléchettes"
   ]
  },
  {
   "cell_type": "code",
   "execution_count": 38,
   "id": "ebd92564",
   "metadata": {},
   "outputs": [
    {
     "name": "stdout",
     "output_type": "stream",
     "text": [
      "1\n"
     ]
    }
   ],
   "source": [
    "import numpy as np\n",
    "\n",
    "#launch of dee\n",
    "launch_of_dee = np.random.choice(6)\n",
    "np.random.seed(0)\n",
    "\n",
    "print(launch_of_dee)"
   ]
  },
  {
   "cell_type": "markdown",
   "id": "2723c3d7",
   "metadata": {},
   "source": [
    "### [Problème 2] Lancer des fléchettes et enregistrer l'endroit\n"
   ]
  },
  {
   "cell_type": "code",
   "execution_count": 33,
   "id": "9a91b3ed",
   "metadata": {},
   "outputs": [
    {
     "name": "stdout",
     "output_type": "stream",
     "text": [
      "[-3.50939642 -0.01810929]\n"
     ]
    }
   ],
   "source": [
    "#Throwing darts \n",
    "\n",
    "mean = [-2.5,.9]\n",
    "cov = [[2., .8], [.8, 2.]]\n",
    "\n",
    "throwing_darts_distributions = np.random.multivariate_normal(mean, cov) \n",
    "print(throwing_darts_distributions)"
   ]
  },
  {
   "cell_type": "markdown",
   "id": "41709468",
   "metadata": {},
   "source": [
    "### [Problème 3] Lancez beaucoup de fléchettes et enregistrez-les dans un état lié au nombre\n"
   ]
  },
  {
   "cell_type": "code",
   "execution_count": 95,
   "id": "00c40d7b",
   "metadata": {},
   "outputs": [
    {
     "name": "stdout",
     "output_type": "stream",
     "text": [
      "{1: array([-2.98246186,  0.80486456]), 0: array([-4.26855233,  0.74949041]), 4: array([-3.91971848,  1.55824217]), 5: array([-4.4751337 , -0.10169814]), 2: array([-2.68624554, -0.03692734]), 3: array([-3.77904784,  1.95653401])}\n"
     ]
    }
   ],
   "source": [
    "darts_dic = {}\n",
    "mean = [-2.5,.9]\n",
    "cov = [[2., .8], [.8, 2.]]\n",
    "np.random.seed(1)\n",
    "\n",
    "for _ in range(100):\n",
    "    throwing_darts = np.random.multivariate_normal(mean, cov)\n",
    "    launch_of_dee = np.random.choice(6)\n",
    "    \n",
    "    darts_dic.update({launch_of_dee : throwing_darts})\n",
    "\n",
    "print(darts_dic)"
   ]
  },
  {
   "cell_type": "markdown",
   "id": "4eaf27c1",
   "metadata": {},
   "source": [
    "### [Problème 4] Dessiner la position des fléchettes"
   ]
  },
  {
   "cell_type": "code",
   "execution_count": 90,
   "id": "769a52e4",
   "metadata": {},
   "outputs": [
    {
     "data": {
      "image/png": "[encoded data removed]",
      "text/plain": [
       "<Figure size 432x288 with 1 Axes>"
      ]
     },
     "metadata": {
      "needs_background": "light"
     },
     "output_type": "display_data"
    }
   ],
   "source": [
    "#diagram circle\n",
    "\n",
    "import matplotlib.pyplot as plt\n",
    "import matplotlib.path as mpath\n",
    "import matplotlib.patches as mpatches\n",
    "import matplotlib.pyplot as plt\n",
    "plt.title(\"Circle\")\n",
    "plt.xlabel(\"x\")\n",
    "plt.ylabel(\"y\")\n",
    "\n",
    "\n",
    "for key, value in darts_dic.items():\n",
    "  mpatches.Circle((value[0],value[1]),key)\n",
    "\n",
    "plt.show()"
   ]
  },
  {
   "cell_type": "code",
   "execution_count": null,
   "id": "f110ce26",
   "metadata": {},
   "outputs": [],
   "source": []
  }
 ],
 "metadata": {
  "kernelspec": {
   "display_name": "Python 3",
   "language": "python",
   "name": "python3"
  },
  "language_info": {
   "codemirror_mode": {
    "name": "ipython",
    "version": 3
   },
   "file_extension": ".py",
   "mimetype": "text/x-python",
   "name": "python",
   "nbconvert_exporter": "python",
   "pygments_lexer": "ipython3",
   "version": "3.8.8"
  }
 },
 "nbformat": 4,
 "nbformat_minor": 5
}

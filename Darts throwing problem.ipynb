{
 "cells": [
  {
   "cell_type": "markdown",
   "id": "bd5c7770",
   "metadata": {},
   "source": [
    "### Darts throwing problem"
   ]
  },
  {
   "cell_type": "markdown",
   "id": "12a14620",
   "metadata": {},
   "source": [
    "> mathrm{probabilité} = \\frac{1}{\\mathrm{nombre d'événements possibles}}\n",
    "\n",
    "- Une distribution avec le même (uniforme) probabilité pour tous les événements est appelé une distribution uniforme.\n",
    "\n",
    "- tous les événements dans le monde ont une relation d'échelle et de fréquence (âge et nombre de personnes dans le cas de la population) propre à l'événement. Et ce qui visualise la relation entre l'échelle et la fréquence s'appelle généralement la distribution de probabilité\n",
    "\n",
    "- La distribution de probabilité pour les données discrètes (événements), telles que les tremblements de terre et les cours des actions, est appelée distribution de probabilité discrète tandis que la distribution de probabilité pour les données continues (événements) est appelée distribution de probabilité continue ."
   ]
  },
  {
   "cell_type": "markdown",
   "id": "a3fc36db",
   "metadata": {},
   "source": [
    "### Les dictionnaire\n",
    "C'est une liste qui comporte des clés.\n",
    "#Suposons une liste :\n",
    "\n",
    "test = [\"8 millions\", \"4 personnes\", \"40 ans\", \"Masculin\"]\n",
    "\n",
    "*dans ce cas, nous ne savons pas a quoi se refere chaque valeurs.Voila pourquoi il faut un disctionnaire pour attribuer un cle a chaque valeur*\n",
    "\n",
    "test_dic = {\"revenu annuel\":\"8 millions\", \"taille de la famille\":\"4 personnes\", \"age\": \"40 ans\", \"sexe\":\"Masculin\"}"
   ]
  },
  {
   "cell_type": "markdown",
   "id": "c71a84bb",
   "metadata": {},
   "source": [
    "### Les methods de dictionnaire"
   ]
  },
  {
   "cell_type": "code",
   "execution_count": 3,
   "id": "a7068fcc",
   "metadata": {},
   "outputs": [
    {
     "name": "stdout",
     "output_type": "stream",
     "text": [
      "dict_keys(['Brésil', 'Allemagne', 'Italie', 'Argentine', 'France', 'Angleterre'])\n",
      "dict_values([5, 4, 4, 2, 2, 2])\n",
      "5\n"
     ]
    }
   ],
   "source": [
    "hist_worldcup = {\"Brésil\":5,\"Allemagne\":4,\"Italie\":4,\"Argentine\":2,\"France\":2,\"Angleterre\":2}\n",
    "# recuperer les cles\n",
    "print(hist_worldcup.keys())\n",
    "\n",
    "# recuperer les valeurs\n",
    "print(hist_worldcup.values())\n",
    "\n",
    "# recuperer avec une cle \n",
    "print(hist_worldcup.get(\"Brésil\"))\n"
   ]
  },
  {
   "cell_type": "code",
   "execution_count": 7,
   "id": "272107e7",
   "metadata": {},
   "outputs": [
    {
     "name": "stdout",
     "output_type": "stream",
     "text": [
      "Brésil 5\n",
      "Allemagne 4\n",
      "Italie 4\n",
      "Argentine 2\n",
      "France 2\n",
      "Angleterre 2\n"
     ]
    }
   ],
   "source": [
    "for key, value in hist_worldcup.items():\n",
    "    print(key, value)\n"
   ]
  },
  {
   "cell_type": "markdown",
   "id": "e726bd75",
   "metadata": {},
   "source": [
    "### [Problème 1] Choisir un tapis de fléchettes"
   ]
  },
  {
   "cell_type": "code",
   "execution_count": 135,
   "id": "62957040",
   "metadata": {},
   "outputs": [
    {
     "data": {
      "text/plain": [
       "6"
      ]
     },
     "execution_count": 135,
     "metadata": {},
     "output_type": "execute_result"
    }
   ],
   "source": [
    "import numpy as np\n",
    "\n",
    "#launch of dee\n",
    "launch_of_dee = np.random.choice([1,2,3,4,5,6])\n",
    "#np.random.seed(0)\n",
    "\n",
    "launch_of_dee"
   ]
  },
  {
   "cell_type": "markdown",
   "id": "cd1a23f0",
   "metadata": {},
   "source": [
    "### [Problème 2] Lancer des fléchettes et enregistrer l'endroit\n"
   ]
  },
  {
   "cell_type": "code",
   "execution_count": 136,
   "id": "70adaa77",
   "metadata": {},
   "outputs": [
    {
     "data": {
      "text/plain": [
       "array([ 6.20598035, -0.03295652])"
      ]
     },
     "execution_count": 136,
     "metadata": {},
     "output_type": "execute_result"
    }
   ],
   "source": [
    "#Throwing darts \n",
    "\n",
    "def throwing_darts():\n",
    "    x = np.random.normal(launch_of_dee, scale=0.1)\n",
    "    y = np.random.normal(loc=0, scale=0.1)\n",
    "\n",
    "    throwing_darts_distributions = np.array([x, y])\n",
    "    return throwing_darts_distributions\n",
    "\n",
    "throwing_darts()"
   ]
  },
  {
   "cell_type": "markdown",
   "id": "d67726ad",
   "metadata": {},
   "source": [
    "### [Problème 3] Lancez beaucoup de fléchettes et enregistrez-les dans un état lié au nombre\n"
   ]
  },
  {
   "cell_type": "code",
   "execution_count": 139,
   "id": "0abcc87e",
   "metadata": {},
   "outputs": [
    {
     "data": {
      "text/plain": [
       "{4: array([ 4.12622831, -0.17877019]),\n",
       " 1: array([ 4.12622831, -0.17877019]),\n",
       " 6: array([ 4.12622831, -0.17877019]),\n",
       " 5: array([ 4.12622831, -0.17877019]),\n",
       " 2: array([ 4.12622831, -0.17877019]),\n",
       " 3: array([ 4.12622831, -0.17877019])}"
      ]
     },
     "execution_count": 139,
     "metadata": {},
     "output_type": "execute_result"
    }
   ],
   "source": [
    "n_darts = 1000   #Ca doit etre 1000fois\n",
    "\n",
    "darts_locs_dic = {} #Créer un dictionnaire ici\n",
    "dice_indexes = [1,2,3,4,5,6]\n",
    "\n",
    "for i in np.arange(1000): #Une boucle pour les 1000fois\n",
    "    \n",
    "    dice_choice = np.random.choice(dice_indexes)\n",
    "    \n",
    "    x_loc = np.random.normal(loc=dice_choice, scale=0.1)\n",
    "    \n",
    "    y_loc = np.random.normal(loc=0, scale=0.1)\n",
    "    \n",
    "    if dice_choice not in darts_locs_dic.keys(): #On verifie si notre choix est dans le dictionnaire\n",
    "        \n",
    "        darts_locs_dic.update({dice_choice:np.array([x, y])})\n",
    "\n",
    "    \n",
    "darts_locs_dic"
   ]
  },
  {
   "cell_type": "markdown",
   "id": "000ff639",
   "metadata": {},
   "source": [
    "### [Problème 4] Dessiner la position des fléchettes"
   ]
  },
  {
   "cell_type": "code",
   "execution_count": 107,
   "id": "bcc30d21",
   "metadata": {},
   "outputs": [
    {
     "data": {
      "image/png": "[encoded data removed]",
      "text/plain": [
       "<Figure size 432x288 with 1 Axes>"
      ]
     },
     "metadata": {
      "needs_background": "light"
     },
     "output_type": "display_data"
    },
    {
     "data": {
      "image/png": "[encoded data removed]",
      "text/plain": [
       "<Figure size 432x288 with 1 Axes>"
      ]
     },
     "metadata": {
      "needs_background": "light"
     },
     "output_type": "display_data"
    }
   ],
   "source": [
    "#diagram circle\n",
    "\n",
    "import matplotlib.pyplot as plt\n",
    "import matplotlib.path as mpath\n",
    "import matplotlib.patches as mpatches\n",
    "import matplotlib.pyplot as plt\n",
    "\n",
    "\n",
    "plt.title(\"Circle\")\n",
    "plt.xlabel(\"x\")\n",
    "plt.ylabel(\"y\")\n",
    "\n",
    "figure, axes = plt.subplots()\n",
    "\n",
    "\n",
    "\n",
    "for key, value in darts_dic.items():\n",
    "    \n",
    "    draw_circle = plt.Circle((value[0],value[1]),key)\n",
    "    axes.set_aspect(1)\n",
    "    axes.add_artist(draw_circle)\n",
    "    \n",
    "plt.show()"
   ]
  },
  {
   "cell_type": "code",
   "execution_count": null,
   "id": "31463a58",
   "metadata": {},
   "outputs": [],
   "source": []
  }
 ],
 "metadata": {
  "kernelspec": {
   "display_name": "Python 3",
   "language": "python",
   "name": "python3"
  },
  "language_info": {
   "codemirror_mode": {
    "name": "ipython",
    "version": 3
   },
   "file_extension": ".py",
   "mimetype": "text/x-python",
   "name": "python",
   "nbconvert_exporter": "python",
   "pygments_lexer": "ipython3",
   "version": "3.8.8"
  }
 },
 "nbformat": 4,
 "nbformat_minor": 5
}

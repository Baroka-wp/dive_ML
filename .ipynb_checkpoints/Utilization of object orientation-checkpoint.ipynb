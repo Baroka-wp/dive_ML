{
 "cells": [
  {
   "cell_type": "markdown",
   "id": "5fb2bde2",
   "metadata": {},
   "source": [
    "### SAMPLE CODE"
   ]
  },
  {
   "cell_type": "code",
   "execution_count": 3,
   "id": "2cacf334",
   "metadata": {},
   "outputs": [
    {
     "name": "stdout",
     "output_type": "stream",
     "text": [
      "average : [4.86 3.31 1.45 0.22]\n",
      "Var : [0.0764 0.0849 0.0105 0.0056]\n"
     ]
    }
   ],
   "source": [
    "import numpy as np\n",
    "from sklearn.preprocessing import StandardScaler\n",
    "from sklearn.datasets import load_iris\n",
    "data = load_iris()\n",
    "X = data.data[:10]\n",
    "scaler = StandardScaler()\n",
    "scaler.fit(X)\n",
    "print(\"average :\", scaler.mean_)\n",
    "print(\"Var :\", scaler.var_)\n",
    "X_std = scaler.transform(X)"
   ]
  },
  {
   "cell_type": "markdown",
   "id": "1a48b0e2",
   "metadata": {},
   "source": [
    "## [Problem 1] Enumeration of classes used so far\n"
   ]
  },
  {
   "cell_type": "markdown",
   "id": "25e2f476",
   "metadata": {},
   "source": [
    "1- sklearn.model_selection\n",
    "\n",
    "2- pandas.DataFrame()\n",
    "\n",
    "3- matplotlib.pyplot\n"
   ]
  },
  {
   "cell_type": "markdown",
   "id": "b0cbcdfc",
   "metadata": {},
   "source": [
    "## [Problem 2] Enumeration of methods and instance variables used so far\n"
   ]
  },
  {
   "cell_type": "markdown",
   "id": "0f20a417",
   "metadata": {},
   "source": [
    "### method\n",
    "\n",
    "1- numpy.sum() : calculer la somme des colonnes d'un Ndarray\n",
    "\n",
    "2- numpy.mean() : calculer la moyennes des colonne d'un Ndarray\n",
    "\n",
    "3- numpy.append() : ajouter des elements a un array\n",
    "\n",
    "4- pandas.DataFrame.loc() : selection par indexation basee sur le lables de la colonne\n",
    "\n",
    "5- pandas.DataFrame.head() : returne n premieres ligne d'un DataFrame\n",
    "\n",
    "\n",
    "### Instance variable \n",
    "\n",
    "1- ndarray.shape : retourn les dimension d'un ndarry (nombre de ligne et nombre de colonnes)\n",
    "\n",
    "2- ndarray.size : retourn la taille d'un ndarry \n",
    "\n",
    "3- ndarray.dtype : retourne le type des element d'un ndarry\n",
    "\n",
    "3- pandas.DataFrame.columns : return les noms de colonnes d'un dataframe\n",
    "\n",
    "4- pandas.DataFrame.index : return les indexs d'un dataframe\n",
    "\n",
    "\n",
    "\n"
   ]
  },
  {
   "cell_type": "markdown",
   "id": "4a4bc98c",
   "metadata": {},
   "source": [
    "## [Problem 3] Creating a standardized class by scratch"
   ]
  },
  {
   "cell_type": "code",
   "execution_count": 79,
   "id": "31a294ea",
   "metadata": {},
   "outputs": [],
   "source": [
    "class ScratchStandardScaler():\n",
    "    \"\"\"\n",
    "    Classes for standardization\n",
    "    Attributes\n",
    "    ----------\n",
    "    mean_ : ndarray of the following form, shape(n_features,)\n",
    "        average\n",
    "    var_ : ndarray of the following form, shape(n_features,)\n",
    "        distribution\n",
    "    \"\"\"\n",
    "    def fit(self, X):\n",
    "        \"\"\"\n",
    "        Calculate the AVERAGE and standard deviation for standardization.。\n",
    "        Parameters\n",
    "        ----------\n",
    "        X : ndarray of the following form, shape (n_samples, n_features)\n",
    "            Training data\n",
    "        \"\"\"\n",
    "        self.mean_ = np.mean(X, axis=0)\n",
    "        self.var_ = np.var(X, axis=0)\n",
    "        pass\n",
    "    def transform(self, X):\n",
    "        \"\"\"\n",
    "        Standardize using the values obtained by fit.。\n",
    "        Parameters\n",
    "        ----------\n",
    "        X : ndarray of the following form, shape (n_samples, n_features)\n",
    "            Feature value\n",
    "        Returns\n",
    "        ----------\n",
    "        X_scaled : ndarray of the following form, shape (n_samples, n_features)\n",
    "            Standardized feature values\n",
    "        \"\"\"\n",
    "        X_scaled = (X - self.mean_)/self.var_\n",
    "        pass\n",
    "        return X_scaled"
   ]
  },
  {
   "cell_type": "markdown",
   "id": "dc6e6304",
   "metadata": {},
   "source": [
    "**A noter :  Comment standardiser une matrix?**\n",
    "\n",
    "https://stackoverflow.com/questions/4544292/how-do-i-standardize-a-matrix/4544459\n",
    "Ce qui suit soustrait la moyenne de A de chaque élément (la nouvelle moyenne est 0), puis normalise le résultat par l'écart type.\n",
    "\n",
    "`import numpy as np\n",
    "A = (A - np.mean(A)) / np.std(A)`\n",
    "\n",
    "Ce qui précède sert à normaliser l'ensemble de la matrice dans son ensemble, si A a plusieurs dimensions et que vous souhaitez normaliser chaque colonne individuellement, spécifiez l' axe :\n",
    "\n",
    "`import numpy as np\n",
    "A = (A - np.mean(A, axis=0)) / np.std(A, axis=0)`\n",
    "Vérifiez toujours à la main ce que font ces one-liners avant de les intégrer dans votre code. Un simple changement d'orientation ou de dimension peut changer radicalement (silencieusement) les opérations que numpy effectue sur eux."
   ]
  },
  {
   "cell_type": "markdown",
   "id": "80a477c1",
   "metadata": {},
   "source": [
    "- ### Let's make the following code executable."
   ]
  },
  {
   "cell_type": "code",
   "execution_count": 80,
   "id": "a91dc9fe",
   "metadata": {},
   "outputs": [
    {
     "name": "stdout",
     "output_type": "stream",
     "text": [
      "average : [4.86 3.31 1.45 0.22]\n",
      "distribution : [0.0764 0.0849 0.0105 0.0056]\n",
      "X_std : [[  3.14136126   2.23792697  -4.76190476  -3.57142857]\n",
      " [  0.52356021  -3.65135453  -4.76190476  -3.57142857]\n",
      " [ -2.09424084  -1.29564193 -14.28571429  -3.57142857]\n",
      " [ -3.40314136  -2.47349823   4.76190476  -3.57142857]\n",
      " [  1.83246073   3.41578327  -4.76190476  -3.57142857]\n",
      " [  7.06806283   6.94935218  23.80952381  32.14285714]\n",
      " [ -3.40314136   1.06007067  -4.76190476  14.28571429]\n",
      " [  1.83246073   1.06007067   4.76190476  -3.57142857]\n",
      " [ -6.02094241  -4.82921084  -4.76190476  -3.57142857]\n",
      " [  0.52356021  -2.47349823   4.76190476 -21.42857143]]\n"
     ]
    }
   ],
   "source": [
    "import numpy as np\n",
    "from sklearn.datasets import load_iris\n",
    "data = load_iris()\n",
    "X = data.data[:10]\n",
    "scratch_scaler = ScratchStandardScaler()\n",
    "scratch_scaler.fit(X)\n",
    "print(\"average : {}\".format(scratch_scaler.mean_))\n",
    "print(\"distribution : {}\".format(scratch_scaler.var_))\n",
    "X_std = scratch_scaler.transform(X)\n",
    "print(\"X_std : {}\".format(X_std))"
   ]
  },
  {
   "cell_type": "markdown",
   "id": "978a86a4",
   "metadata": {},
   "source": [
    "# [Problem 4] Creating a class that performs 4 arithmetic operations"
   ]
  },
  {
   "cell_type": "code",
   "execution_count": 75,
   "id": "7f49b468",
   "metadata": {},
   "outputs": [],
   "source": [
    "def CatchValueError(value):\n",
    "    try:\n",
    "        int(value)\n",
    "        return False\n",
    "    except ValueError:\n",
    "        return True\n",
    "\n",
    " \n",
    "    \n",
    "class Perform():\n",
    "    \"\"\"\n",
    "    A simple class for illustration\n",
    "    Parameters\n",
    "    ----------\n",
    "    value : float or int\n",
    "        Initial value\n",
    "    Attributes\n",
    "    ----------\n",
    "    value : float or int\n",
    "        Initial calculation results\n",
    "    \"\"\"\n",
    "    def __init__(self, value):\n",
    "        if CatchValueError(value):\n",
    "            print(\"Oops! The initial value is no valid number.  Try again...\")\n",
    "        else:\n",
    "            self.value = value\n",
    "            print(\"The initial value {} has been set.\".format(self.value))\n",
    "    \n",
    "    \n",
    "    def add(self, value2):\n",
    "        \"\"\"\n",
    "        Add the received arguments to self.value\n",
    "        \"\"\"\n",
    "        if CatchValueError(value2):\n",
    "            print(\"Oops! the second value is no valid number.  Try again...\")\n",
    "        else:\n",
    "            self.value += value2\n",
    "            \n",
    "    \n",
    "    def multiply(self, value3):\n",
    "        \"\"\"\n",
    "        multiply the received arguments to self.value\n",
    "        \"\"\"\n",
    "        if CatchValueError(value3):\n",
    "            print(\"Oops! the second value is no valid number.  Try again...\")\n",
    "        else:\n",
    "            self.value = self.value * value3\n",
    "    \n",
    "    def soustract(self, value4):\n",
    "        \"\"\"\n",
    "        soustrct the received arguments to self.value\n",
    "        \"\"\"\n",
    "        if CatchValueError(value4):\n",
    "            print(\"Oops! the second value is no valid number.  Try again...\")\n",
    "        else:\n",
    "            self.value -= value4\n",
    "        \n",
    "    def divise(self, value4):\n",
    "        \"\"\"\n",
    "        soustrct the received arguments to self.value\n",
    "        \"\"\"\n",
    "        if CatchValueError(value4):\n",
    "            print(\"Oops! the second value is no valid number.  Try again...\")\n",
    "        else:\n",
    "            try:\n",
    "                self.value = self.value / value4\n",
    "                return self.value\n",
    "            except ZeroDivisionError:\n",
    "                print(\"Oops! you can divise by 0. Try agrain ... \")\n",
    "                \n",
    "\n"
   ]
  },
  {
   "cell_type": "code",
   "execution_count": 63,
   "id": "ad510260",
   "metadata": {},
   "outputs": [
    {
     "name": "stdout",
     "output_type": "stream",
     "text": [
      "expected error\n",
      "Oops! The initial value is no valid number.  Try again...\n"
     ]
    }
   ],
   "source": [
    "print(\"expected error\")\n",
    "example = Perform(\"K\")"
   ]
  },
  {
   "cell_type": "code",
   "execution_count": 64,
   "id": "46e5a791",
   "metadata": {},
   "outputs": [
    {
     "name": "stdout",
     "output_type": "stream",
     "text": [
      "expected error\n",
      "The initial value 5 has been set.\n",
      "Oops! the second value is no valid number.  Try again...\n"
     ]
    }
   ],
   "source": [
    "print(\"expected error\")\n",
    "example = Perform(5)\n",
    "example.multiply(\"n\")"
   ]
  },
  {
   "cell_type": "code",
   "execution_count": 78,
   "id": "50e10310",
   "metadata": {},
   "outputs": [
    {
     "name": "stdout",
     "output_type": "stream",
     "text": [
      "Multiplication\n",
      "The initial value 5 has been set.\n",
      "value : 15\n"
     ]
    }
   ],
   "source": [
    "print(\"Multiplication\")  \n",
    "example = Perform(5)\n",
    "example.multiply(3)\n",
    "print(\"value : {}\".format(example.value))"
   ]
  },
  {
   "cell_type": "code",
   "execution_count": 70,
   "id": "2b9d8489",
   "metadata": {},
   "outputs": [
    {
     "name": "stdout",
     "output_type": "stream",
     "text": [
      "soustraction\n",
      "The initial value 8 has been set.\n",
      "value : 5\n"
     ]
    }
   ],
   "source": [
    "print(\"soustraction\")\n",
    "example = Perform(8)\n",
    "example.soustract(3)\n",
    "print(\"value : {}\".format(example.value))\n"
   ]
  },
  {
   "cell_type": "code",
   "execution_count": 72,
   "id": "cd8c3992",
   "metadata": {},
   "outputs": [
    {
     "name": "stdout",
     "output_type": "stream",
     "text": [
      "addition\n",
      "The initial value 5 has been set.\n",
      "value : 8\n"
     ]
    }
   ],
   "source": [
    "print(\"addition\")  \n",
    "example = Perform(5)\n",
    "example.add(3)\n",
    "print(\"value : {}\".format(example.value))\n"
   ]
  },
  {
   "cell_type": "code",
   "execution_count": 76,
   "id": "b001dddb",
   "metadata": {},
   "outputs": [
    {
     "name": "stdout",
     "output_type": "stream",
     "text": [
      "division error\n",
      "The initial value 5 has been set.\n",
      "Oops! you can divise by o \n"
     ]
    }
   ],
   "source": [
    "print(\"division error\")  \n",
    "example = Perform(5)\n",
    "example.divise(0)"
   ]
  },
  {
   "cell_type": "code",
   "execution_count": 77,
   "id": "56c3b69f",
   "metadata": {},
   "outputs": [
    {
     "name": "stdout",
     "output_type": "stream",
     "text": [
      "division\n",
      "The initial value 10 has been set.\n",
      "value : 5.0\n"
     ]
    }
   ],
   "source": [
    "print(\"division\")  \n",
    "example = Perform(10)\n",
    "example.divise(2)\n",
    "print(\"value : {}\".format(example.value))"
   ]
  },
  {
   "cell_type": "code",
   "execution_count": null,
   "id": "a2dad6c4",
   "metadata": {},
   "outputs": [],
   "source": []
  }
 ],
 "metadata": {
  "kernelspec": {
   "display_name": "Python 3",
   "language": "python",
   "name": "python3"
  },
  "language_info": {
   "codemirror_mode": {
    "name": "ipython",
    "version": 3
   },
   "file_extension": ".py",
   "mimetype": "text/x-python",
   "name": "python",
   "nbconvert_exporter": "python",
   "pygments_lexer": "ipython3",
   "version": "3.8.8"
  }
 },
 "nbformat": 4,
 "nbformat_minor": 5
}

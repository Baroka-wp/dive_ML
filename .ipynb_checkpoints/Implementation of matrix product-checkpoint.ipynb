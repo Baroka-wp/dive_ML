{
 "cells": [
  {
   "cell_type": "markdown",
   "id": "519cc739",
   "metadata": {},
   "source": [
    "### Matrix product"
   ]
  },
  {
   "cell_type": "markdown",
   "id": "063e9de3",
   "metadata": {},
   "source": [
    "### [Problem 1] Matrix product is calculated manually\n",
    "\n",
    "> eg. \n",
    "[[1,2],\n",
    "[3,4]] x [[5,6],[7,8]] = \n",
    "\n",
    "[[(1*5 + 2*7), (1*6 + 2*8)],\n",
    "[[(3*5 + 4*7), (3*6 + 4*8)]] = [[19,22], [43,50]]\n",
    "\n",
    "> general principe\n",
    "c_ndarray[:,0] = (a_ndarray[:,0]* b_ndarray[0,0] + a_ndarray[:,1]* b_ndarray[1,0] )\n",
    "\n",
    "c_ndarray[:,1] = (a_ndarray[:,0]* b_ndarray[0,1] + a_ndarray[:,1]* b_ndarray[1,1])"
   ]
  },
  {
   "cell_type": "code",
   "execution_count": 24,
   "id": "b393ef13",
   "metadata": {},
   "outputs": [
    {
     "name": "stdout",
     "output_type": "stream",
     "text": [
      "[[  6  29 -20]\n",
      " [ 12  52  38]\n",
      " [-18 -51 -48]]\n"
     ]
    }
   ],
   "source": [
    "import numpy as np\n",
    "a = np.array([[-1, 2, 3], [4, -5, 6], [7, 8, -9]])\n",
    "b = np.array([[0, 2, 1], [0, 2, -8], [2, 9, -1]])\n",
    "\n",
    "#c[0,0] = (a[0] * b[:,0]).sum()\n",
    "#c[0,1] = (a[0] * b[:,1]).sum()\n",
    "#c[0,2] = (a[0] * b[:,2]).sum()\n",
    "#c[1,0] = (a[1] * b[:,0]).sum()\n",
    "#c[1,1] = (a[1] * b[:,1]).sum()\n",
    "#c[1,2] = (a[1] * b[:,2]).sum()\n",
    "#c[2,0] = (a[1] * b[:,0]).sum()\n",
    "#c[2,1] = (a[1] * b[:,1]).sum()\n",
    "#c[2,2] = (a[1] * b[:,2]).sum()\n",
    "\n",
    "c = [[(a[0] * b[:,0]).sum(),(a[0] * b[:,1]).sum(), (a[0] * b[:,2]).sum()],\n",
    "     [(a[1] * b[:,0]).sum(),(a[1] * b[:,1]).sum(), (a[1] * b[:,2]).sum()],\n",
    "     [(a[2] * b[:,0]).sum(),(a[2] * b[:,1]).sum(), (a[2] * b[:,2]).sum()]]   \n",
    "\n",
    "print(np.array(c))"
   ]
  },
  {
   "cell_type": "markdown",
   "id": "297ec646",
   "metadata": {},
   "source": [
    "###  [Problème 2】Calcul with NumPy function"
   ]
  },
  {
   "cell_type": "code",
   "execution_count": 29,
   "id": "fdac0edb",
   "metadata": {},
   "outputs": [
    {
     "name": "stdout",
     "output_type": "stream",
     "text": [
      "[[  6  29 -20]\n",
      " [ 12  52  38]\n",
      " [-18 -51 -48]]\n",
      "CPU times: user 667 µs, sys: 1.16 ms, total: 1.83 ms\n",
      "Wall time: 2.39 ms\n"
     ]
    }
   ],
   "source": [
    "#using matmul\n",
    "import numpy as np\n",
    "#import numpy.matlib\n",
    "a = np.array([[-1, 2, 3], [4, -5, 6], [7, 8, -9]])\n",
    "b = np.array([[0, 2, 1], [0, 2, -8], [2, 9, -1]])\n",
    "%time print(np.matmul(a,b))"
   ]
  },
  {
   "cell_type": "code",
   "execution_count": 28,
   "id": "2b5cebd9",
   "metadata": {},
   "outputs": [
    {
     "name": "stdout",
     "output_type": "stream",
     "text": [
      "[[  6  29 -20]\n",
      " [ 12  52  38]\n",
      " [-18 -51 -48]]\n",
      "CPU times: user 957 µs, sys: 1.29 ms, total: 2.24 ms\n",
      "Wall time: 24.5 ms\n"
     ]
    }
   ],
   "source": [
    "#using dot()\n",
    "%time print(np.dot(a,b))"
   ]
  },
  {
   "cell_type": "code",
   "execution_count": 5,
   "id": "e89a35bf",
   "metadata": {},
   "outputs": [
    {
     "name": "stdout",
     "output_type": "stream",
     "text": [
      "[[  6  29 -20]\n",
      " [ 12  52  38]\n",
      " [-18 -51 -48]]\n",
      "CPU times: user 587 µs, sys: 185 µs, total: 772 µs\n",
      "Wall time: 784 µs\n",
      "0\n"
     ]
    }
   ],
   "source": [
    "#using @ operator\n",
    "%time print(a@b)\n",
    "\n",
    "c = a@b\n",
    "print(c.sum())\n"
   ]
  },
  {
   "cell_type": "markdown",
   "id": "ce01c861",
   "metadata": {},
   "source": [
    "\n",
    "### [Problem 3] Implementation of calculation of a certain element\n",
    "\n",
    "Scratch implementation of matrix product\n",
    "k=0 -> 2 # 2 is the ndarray lenght\n",
    "∑a(0,k) * b(k,0)"
   ]
  },
  {
   "cell_type": "code",
   "execution_count": 45,
   "id": "58c04094",
   "metadata": {
    "scrolled": true
   },
   "outputs": [
    {
     "name": "stdout",
     "output_type": "stream",
     "text": [
      "6\n"
     ]
    }
   ],
   "source": [
    "import numpy as np\n",
    "a = np.array([[-1, 2, 3], [4, -5, 6], [7, 8, -9]])\n",
    "b = np.array([[0, 2, 1], [0, 2, -8], [2, 9, -1]])\n",
    "elt = 0\n",
    "for k in range(len(a)):\n",
    "    elt += a[0,k] * b[k,0]\n",
    "\n",
    "print(elt)"
   ]
  },
  {
   "cell_type": "markdown",
   "id": "2bc17da2",
   "metadata": {},
   "source": [
    "### [Problem 4] Creating a function that performs matrix multiplication"
   ]
  },
  {
   "cell_type": "code",
   "execution_count": 106,
   "id": "cb75f097",
   "metadata": {},
   "outputs": [
    {
     "name": "stdout",
     "output_type": "stream",
     "text": [
      "[[  6  29 -20]\n",
      " [ 12  52  38]\n",
      " [-18 -51 -48]]\n"
     ]
    }
   ],
   "source": [
    "import numpy as np\n",
    "a = np.array([[-1, 2, 3], [4, -5, 6], [7, 8, -9]])\n",
    "b = np.array([[0, 2, 1], [0, 2, -8], [2, 9, -1]])\n",
    "\n",
    "\n",
    "\n",
    "def matrixProduct(matrix_a,matrix_b):\n",
    "    \n",
    "    if len(matrix_a[0])== len(matrix_b[:,0]):\n",
    "        matrix_len = len(matrix_a) #matrix len\n",
    "    else:\n",
    "        return print(\"the matrix must have same lenght to be mutipliable\")\n",
    "\n",
    "    \n",
    "    # if the matrix have the same size the ...\n",
    "    elt = 0 #matrix elt\n",
    "    elt_list = [] # list to stock each line mutiliplication\n",
    "    \n",
    "    for k in range(matrix_len):  \n",
    "        for i in range(matrix_len):\n",
    "            elt = 0\n",
    "            for j in range(matrix_len):\n",
    "                elt += (matrix_a[k,j] * matrix_b[j,i])  \n",
    "            elt_list.append(elt)\n",
    "    new_matrix = np.array(elt_list).reshape(3,3)\n",
    "    return new_matrix\n",
    "\n",
    "print(matrixProduct(a,b))"
   ]
  },
  {
   "cell_type": "code",
   "execution_count": 107,
   "id": "871fc5cd",
   "metadata": {},
   "outputs": [
    {
     "name": "stdout",
     "output_type": "stream",
     "text": [
      "the matrix must have same lenght to be mutipliable\n",
      "False\n"
     ]
    }
   ],
   "source": [
    "d_ndarray = np.array([[-1, 2, 3], [4, -5, 6]])\n",
    "e_ndarray = np.array([[-9, 8, 7], [6, -5, 4]])\n",
    "\n",
    "print(matrixProduct(d_ndarray,e_ndarray))\n"
   ]
  },
  {
   "cell_type": "code",
   "execution_count": null,
   "id": "c1ac1af2",
   "metadata": {},
   "outputs": [],
   "source": []
  }
 ],
 "metadata": {
  "kernelspec": {
   "display_name": "Python 3",
   "language": "python",
   "name": "python3"
  },
  "language_info": {
   "codemirror_mode": {
    "name": "ipython",
    "version": 3
   },
   "file_extension": ".py",
   "mimetype": "text/x-python",
   "name": "python",
   "nbconvert_exporter": "python",
   "pygments_lexer": "ipython3",
   "version": "3.8.8"
  }
 },
 "nbformat": 4,
 "nbformat_minor": 5
}

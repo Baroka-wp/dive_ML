{
 "cells": [
  {
   "cell_type": "markdown",
   "id": "0899a9df",
   "metadata": {},
   "source": [
    "### Problème de blé et d'échiquier\n",
    "\n"
   ]
  },
  {
   "cell_type": "markdown",
   "id": "4ba243d0",
   "metadata": {},
   "source": [
    "### [Problem 1] Number of wheat on a square chessboard 2 x 2"
   ]
  },
  {
   "cell_type": "code",
   "execution_count": 89,
   "id": "08cfcf69",
   "metadata": {},
   "outputs": [
    {
     "name": "stdout",
     "output_type": "stream",
     "text": [
      "Arrange the wheat on a board of 2*2 squares (list)：[1 2 4 8]\n"
     ]
    }
   ],
   "source": [
    "import numpy as np\n",
    "n_squares = 4\n",
    "small_board_list = [1]\n",
    "for _ in range(n_squares - 1):\n",
    "    small_board_list.append(2*small_board_list[-1])\n",
    "\n",
    "small_board_ndarray = np.array(small_board_list)\n",
    "print(\"Arrange the wheat on a board of 2*2 squares (list)：{}\".format(small_board_ndarray))\n"
   ]
  },
  {
   "cell_type": "markdown",
   "id": "8b1f5bc8",
   "metadata": {},
   "source": [
    "### [Problem 2] Expansion to a mass n × m"
   ]
  },
  {
   "cell_type": "code",
   "execution_count": 90,
   "id": "17e68895",
   "metadata": {},
   "outputs": [
    {
     "name": "stdout",
     "output_type": "stream",
     "text": [
      "the number of wheat on the 8x8 square chessboard is 9.223372036854776e+18\n",
      "CPU times: user 952 µs, sys: 2.06 ms, total: 3.01 ms\n",
      "Wall time: 15 ms\n"
     ]
    }
   ],
   "source": [
    "def expention_on_chessbord(n,m):\n",
    "    n_squares = n * m\n",
    "    board_list = [1]\n",
    "    for _ in range(n_squares - 1):\n",
    "        board_list.append(2*board_list[-1])\n",
    "\n",
    "    board_ndarray = np.array(board_list)\n",
    "    return board_ndarray\n",
    "    \n",
    "#8x8 squares\n",
    "\n",
    "%time print(\"the number of wheat on the 8x8 square chessboard is {}\".format(expention_on_chessbord(8,8)[-1]))    "
   ]
  },
  {
   "cell_type": "markdown",
   "id": "d06cfb65",
   "metadata": {},
   "source": [
    "### [Problem 3] Total number of wheat\n"
   ]
  },
  {
   "cell_type": "code",
   "execution_count": 91,
   "id": "6c1d982a",
   "metadata": {},
   "outputs": [
    {
     "name": "stdout",
     "output_type": "stream",
     "text": [
      "[9.04252160e+15 1.80850432e+16 3.61700864e+16 7.23401728e+16\n",
      " 1.44680346e+17 2.89360691e+17 5.78721383e+17 1.15744277e+18]\n"
     ]
    },
    {
     "data": {
      "image/png": "[encoded data removed]",
      "text/plain": [
       "<Figure size 432x288 with 1 Axes>"
      ]
     },
     "metadata": {
      "needs_background": "light"
     },
     "output_type": "display_data"
    }
   ],
   "source": [
    "import matplotlib.pyplot as plt\n",
    "%matplotlib inline\n",
    "\n",
    "board_ndarray = expention_on_chessbord(8,8)\n",
    "chessboard = board_ndarray.reshape(8,8) \n",
    "\n",
    "column_avarage = chessboard.mean(axis=0)\n",
    "\n",
    "print(column_avarage)# visualise the chessboard\n",
    "\n",
    "plt.ylabel(\"number of wheat\")\n",
    "plt.xlabel(\"number of squares\")\n",
    "plt.title(\"bars diagram\")\n",
    "plt.bar(np.arange(8),column_avarage)\n",
    "plt.show()"
   ]
  },
  {
   "cell_type": "markdown",
   "id": "a7e0b650",
   "metadata": {},
   "source": [
    "### [Problem 4] Heat map of the number of wheat"
   ]
  },
  {
   "cell_type": "code",
   "execution_count": 92,
   "id": "c32f6559",
   "metadata": {},
   "outputs": [
    {
     "data": {
      "image/png": "[encoded data removed]",
      "text/plain": [
       "<Figure size 432x288 with 1 Axes>"
      ]
     },
     "metadata": {
      "needs_background": "light"
     },
     "output_type": "display_data"
    }
   ],
   "source": [
    "plt.xlabel(\"column\")\n",
    "plt.ylabel(\"row\")\n",
    "plt.title(\"heatmap\")\n",
    "plt.pcolor(chessboard)\n",
    "plt.show()"
   ]
  },
  {
   "cell_type": "markdown",
   "id": "bd88b09e",
   "metadata": {},
   "source": [
    "### [Problem 5] How many times is the second half as long as the first half?"
   ]
  },
  {
   "cell_type": "code",
   "execution_count": 69,
   "id": "f63baead",
   "metadata": {},
   "outputs": [
    {
     "name": "stdout",
     "output_type": "stream",
     "text": [
      "the second half has longer than first half 4294967296.0 time\n"
     ]
    }
   ],
   "source": [
    "chessboard_ndarray = expention_on_chessbord(8,8).reshape(2,32)\n",
    "\n",
    "each_half_sum = chessboard_ndarray.sum(axis=1) # sum the lign of each half\n",
    "\n",
    "nb_second_half_as_long_as_first_half = each_half_sum[1]//each_half_sum[0]\n",
    "\n",
    "print(\"the second half has longer than first half {} time\".format(nb_second_half_as_long_as_first_half))"
   ]
  },
  {
   "cell_type": "markdown",
   "id": "b810df77",
   "metadata": {},
   "source": [
    "### [Problème 6] Other calculation methods"
   ]
  },
  {
   "cell_type": "code",
   "execution_count": 87,
   "id": "129d04ef",
   "metadata": {},
   "outputs": [
    {
     "name": "stdout",
     "output_type": "stream",
     "text": [
      "Arrange the wheat on a board：9223372036854775808\n",
      "CPU times: user 3.01 ms, sys: 2.64 ms, total: 5.65 ms\n",
      "Wall time: 5.01 ms\n"
     ]
    }
   ],
   "source": [
    "# use np.append()\n",
    "def expention_on_chessbord(n,m):\n",
    "    n_squares = n * m\n",
    "    board_ndarray = np.array([1])\n",
    "    for _ in range(n_squares - 1):\n",
    "        board_ndarray = np.append(board_ndarray, 2*board_ndarray[-1]).astype(np.uint64)\n",
    "        \n",
    "    return board_ndarray\n",
    "\n",
    "%time print(\"Arrange the wheat on a board：{}\".format(expention_on_chessbord(8,8)[-1]))"
   ]
  },
  {
   "cell_type": "code",
   "execution_count": 86,
   "id": "61ad4ecd",
   "metadata": {},
   "outputs": [
    {
     "name": "stdout",
     "output_type": "stream",
     "text": [
      "Arrange the wheat on a board：9223372036854775808\n",
      "CPU times: user 616 µs, sys: 202 µs, total: 818 µs\n",
      "Wall time: 950 µs\n"
     ]
    }
   ],
   "source": [
    "#use broadcast\n",
    "\n",
    "def expention_on_chessbord(n,m):\n",
    "    n_squares = n * m\n",
    "    indices_of_squares = np.arange(n_squares).astype(np.uint64)\n",
    "    board_ndarray = 2**indices_of_squares\n",
    "    return board_ndarray\n",
    "\n",
    "%time print(\"Arrange the wheat on a board：{}\".format(expention_on_chessbord(8,8)[-1]))"
   ]
  },
  {
   "cell_type": "markdown",
   "id": "b6461ede",
   "metadata": {},
   "source": [
    "### [Problem 7] Comparing calculation times"
   ]
  },
  {
   "cell_type": "markdown",
   "id": "7121072a",
   "metadata": {},
   "source": [
    "- ### use first calculation methode\n",
    "\n",
    "CPU times: user 577 µs, sys: 1.02 ms, total: 1.6 ms &nbsp\n",
    "\n",
    "Wall time: 3.49 ms\n",
    "\n",
    "- ### use np.append()\n",
    "\n",
    "CPU times: user 3.01 ms, sys: 2.64 ms, total: 5.65 ms \n",
    "\n",
    "Wall time: 5.01 ms\n",
    "    \n",
    "- ### use broadcast\n",
    "\n",
    "CPU times: user 616 µs, sys: 202 µs, total: 818 µs \n",
    "\n",
    "Wall time: 950 µs"
   ]
  },
  {
   "cell_type": "code",
   "execution_count": null,
   "id": "b71d19db",
   "metadata": {},
   "outputs": [],
   "source": []
  }
 ],
 "metadata": {
  "kernelspec": {
   "display_name": "Python 3",
   "language": "python",
   "name": "python3"
  },
  "language_info": {
   "codemirror_mode": {
    "name": "ipython",
    "version": 3
   },
   "file_extension": ".py",
   "mimetype": "text/x-python",
   "name": "python",
   "nbconvert_exporter": "python",
   "pygments_lexer": "ipython3",
   "version": "3.8.8"
  }
 },
 "nbformat": 4,
 "nbformat_minor": 5
}

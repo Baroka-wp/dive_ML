{
 "cells": [
  {
   "cell_type": "markdown",
   "id": "e4cdf93a",
   "metadata": {},
   "source": [
    "### Darts throwing problem"
   ]
  },
  {
   "cell_type": "markdown",
   "id": "9ad99fc5",
   "metadata": {},
   "source": [
    "> mathrm{probabilité} = \\frac{1}{\\mathrm{nombre d'événements possibles}}\n",
    "\n",
    "- Une distribution avec le même (uniforme) probabilité pour tous les événements est appelé une distribution uniforme.\n",
    "\n",
    "- tous les événements dans le monde ont une relation d'échelle et de fréquence (âge et nombre de personnes dans le cas de la population) propre à l'événement. Et ce qui visualise la relation entre l'échelle et la fréquence s'appelle généralement la distribution de probabilité\n",
    "\n",
    "- La distribution de probabilité pour les données discrètes (événements), telles que les tremblements de terre et les cours des actions, est appelée distribution de probabilité discrète tandis que la distribution de probabilité pour les données continues (événements) est appelée distribution de probabilité continue ."
   ]
  },
  {
   "cell_type": "markdown",
   "id": "8ce09bf4",
   "metadata": {},
   "source": [
    "### Les dictionnaire\n",
    "C'est une liste qui comporte des clés.\n",
    "#Suposons une liste :\n",
    "\n",
    "test = [\"8 millions\", \"4 personnes\", \"40 ans\", \"Masculin\"]\n",
    "\n",
    "*dans ce cas, nous ne savons pas a quoi se refere chaque valeurs.Voila pourquoi il faut un disctionnaire pour attribuer un cle a chaque valeur*\n",
    "\n",
    "test_dic = {\"revenu annuel\":\"8 millions\", \"taille de la famille\":\"4 personnes\", \"age\": \"40 ans\", \"sexe\":\"Masculin\"}"
   ]
  },
  {
   "cell_type": "markdown",
   "id": "780848f2",
   "metadata": {},
   "source": [
    "### Les methods de dictionnaire"
   ]
  },
  {
   "cell_type": "code",
   "execution_count": 3,
   "id": "1f9cc472",
   "metadata": {},
   "outputs": [
    {
     "name": "stdout",
     "output_type": "stream",
     "text": [
      "dict_keys(['Brésil', 'Allemagne', 'Italie', 'Argentine', 'France', 'Angleterre'])\n",
      "dict_values([5, 4, 4, 2, 2, 2])\n",
      "5\n"
     ]
    }
   ],
   "source": [
    "hist_worldcup = {\"Brésil\":5,\"Allemagne\":4,\"Italie\":4,\"Argentine\":2,\"France\":2,\"Angleterre\":2}\n",
    "# recuperer les cles\n",
    "print(hist_worldcup.keys())\n",
    "\n",
    "# recuperer les valeurs\n",
    "print(hist_worldcup.values())\n",
    "\n",
    "# recuperer avec une cle \n",
    "print(hist_worldcup.get(\"Brésil\"))\n"
   ]
  },
  {
   "cell_type": "code",
   "execution_count": 7,
   "id": "1e378f24",
   "metadata": {},
   "outputs": [
    {
     "name": "stdout",
     "output_type": "stream",
     "text": [
      "Brésil 5\n",
      "Allemagne 4\n",
      "Italie 4\n",
      "Argentine 2\n",
      "France 2\n",
      "Angleterre 2\n"
     ]
    }
   ],
   "source": [
    "for key, value in hist_worldcup.items():\n",
    "    print(key, value)\n"
   ]
  },
  {
   "cell_type": "markdown",
   "id": "ba68a801",
   "metadata": {},
   "source": [
    "### [Problème 1] Choisir un tapis de fléchettes"
   ]
  },
  {
   "cell_type": "code",
   "execution_count": 15,
   "id": "f24bce5f",
   "metadata": {},
   "outputs": [
    {
     "name": "stdout",
     "output_type": "stream",
     "text": [
      "[4 5 0 3 3 3]\n"
     ]
    }
   ],
   "source": [
    "import numpy as np\n",
    "\n",
    "#launch of dee\n",
    "launch_of_dee = np.random.choice(6,6)\n",
    "np.random.seed(0)\n",
    "\n",
    "print(launch_of_dee)"
   ]
  },
  {
   "cell_type": "markdown",
   "id": "4eefde12",
   "metadata": {},
   "source": [
    "### [Problème 2] Lancer des fléchettes et enregistrer l'endroit\n"
   ]
  },
  {
   "cell_type": "code",
   "execution_count": 30,
   "id": "d6333469",
   "metadata": {},
   "outputs": [
    {
     "name": "stdout",
     "output_type": "stream",
     "text": [
      "[[[-1.96856663  0.81973514]\n",
      "  [-1.30945959  0.34303277]]\n",
      "\n",
      " [[-2.06255286 -0.20109334]\n",
      "  [-3.30260176 -0.28906133]]\n",
      "\n",
      " [[-2.94108757  1.22396107]\n",
      "  [-2.04458028 -1.0777796 ]]\n",
      "\n",
      " [[-2.93697192  1.82659538]\n",
      "  [-0.79076026  3.20921207]]\n",
      "\n",
      " [[ 0.96084998  2.77678919]\n",
      "  [-1.26242229 -0.42899429]]\n",
      "\n",
      " [[-0.19384948  0.92599354]\n",
      "  [-4.57730982 -0.92288928]]]\n"
     ]
    }
   ],
   "source": [
    "#Throwing darts \n",
    "\n",
    "mean = [-2.5,.9]\n",
    "cov = [[2., .8], [.8, 2.]]\n",
    "\n",
    "throwing_darts_distributions = np.random.multivariate_normal(mean, cov,(6,2)) \n",
    "print(throwing_darts_distributions)"
   ]
  },
  {
   "cell_type": "code",
   "execution_count": null,
   "id": "328825e1",
   "metadata": {},
   "outputs": [],
   "source": []
  }
 ],
 "metadata": {
  "kernelspec": {
   "display_name": "Python 3",
   "language": "python",
   "name": "python3"
  },
  "language_info": {
   "codemirror_mode": {
    "name": "ipython",
    "version": 3
   },
   "file_extension": ".py",
   "mimetype": "text/x-python",
   "name": "python",
   "nbconvert_exporter": "python",
   "pygments_lexer": "ipython3",
   "version": "3.8.8"
  }
 },
 "nbformat": 4,
 "nbformat_minor": 5
}

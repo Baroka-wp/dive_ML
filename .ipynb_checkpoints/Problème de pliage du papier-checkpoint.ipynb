{
 "cells": [
  {
   "cell_type": "markdown",
   "id": "d5851a52",
   "metadata": {},
   "source": [
    "### 【Problem 1】Implementation using the arithmetic operator for powers\n"
   ]
  },
  {
   "cell_type": "code",
   "execution_count": 62,
   "id": "a094a761",
   "metadata": {},
   "outputs": [
    {
     "name": "stdout",
     "output_type": "stream",
     "text": [
      "Thickness is 703687441.77664\n"
     ]
    }
   ],
   "source": [
    "# calculate Thikness \n",
    "TICKNESS = 0.00008\n",
    "folded_thickness = TICKNESS * 2**43\n",
    "print(\"Thickness is {}\".format(folded_thickness))"
   ]
  },
  {
   "cell_type": "markdown",
   "id": "770d63bc",
   "metadata": {},
   "source": [
    "###  [Problem 2] Unit conversion"
   ]
  },
  {
   "cell_type": "code",
   "execution_count": 63,
   "id": "5ab4872f",
   "metadata": {},
   "outputs": [
    {
     "name": "stdout",
     "output_type": "stream",
     "text": [
      "The thickness is : 703687.44 km\n",
      "the thikness of paper folded 43 times is greater than the distance between earth and moon : True\n"
     ]
    }
   ],
   "source": [
    "# convert thickness to kilometre\n",
    "print(\"The thickness is : {:.2f} km\".format(folded_thickness/1000))\n",
    "\n",
    "# la disatance de la lune = 384 400 km\n",
    "print(\"the thikness of paper folded 43 times is greater than the distance between earth and moon : {}\".format((folded_thickness/1000) > 384400))"
   ]
  },
  {
   "cell_type": "markdown",
   "id": "4a6defc5",
   "metadata": {},
   "source": [
    "### [Problem 3] Created program using a for statement\n",
    "\n"
   ]
  },
  {
   "cell_type": "code",
   "execution_count": 65,
   "id": "d5762c08",
   "metadata": {},
   "outputs": [
    {
     "name": "stdout",
     "output_type": "stream",
     "text": [
      "Thikness is 703687441.77664\n"
     ]
    }
   ],
   "source": [
    "TICKNESS = 0.00008\n",
    "for i in range(43):\n",
    "    TICKNESS *= 2\n",
    "    if i== 42:\n",
    "        print(\"Thikness is {}\".format(TICKNESS))"
   ]
  },
  {
   "cell_type": "markdown",
   "id": "272e5296",
   "metadata": {},
   "source": [
    "### [Problem 4] Comparison of computing times\n"
   ]
  },
  {
   "cell_type": "markdown",
   "id": "2e06605e",
   "metadata": {},
   "source": [
    "> *using for*"
   ]
  },
  {
   "cell_type": "code",
   "execution_count": 66,
   "id": "672889b3",
   "metadata": {},
   "outputs": [
    {
     "name": "stdout",
     "output_type": "stream",
     "text": [
      "computing time...> for \n",
      "Thikness is 703687441.77664\n",
      "time : 1639912203.673504[s]\n"
     ]
    }
   ],
   "source": [
    "TICKNESS = 0.00008\n",
    "folded_time = 43\n",
    "import time\n",
    "# computing time of the for loop\n",
    "print(\"computing time...> for \")\n",
    "start = time.time()\n",
    "for i in range(folded_time):\n",
    "    TICKNESS *= 2\n",
    "    if i== (folded_time - 1):\n",
    "        print(\"Thikness is {}\".format(TICKNESS))\n",
    "elapsed_time = time.time()\n",
    "print(\"time : {}[s]\".format(elapsed_time))"
   ]
  },
  {
   "cell_type": "markdown",
   "id": "9309cd55",
   "metadata": {},
   "source": [
    "> *using exponensiel*"
   ]
  },
  {
   "cell_type": "code",
   "execution_count": 67,
   "id": "94f93ee0",
   "metadata": {},
   "outputs": [
    {
     "name": "stdout",
     "output_type": "stream",
     "text": [
      "computing time...> exponensielle \n",
      "Thikness is 703687441.77664\n",
      "time : 1639912213.73207[s]\n"
     ]
    }
   ],
   "source": [
    "TICKNESS = 0.00008\n",
    "print(\"computing time...> exponensielle \")\n",
    "start = time.time()\n",
    "folded_thickness = TICKNESS * 2**folded_time\n",
    "print(\"Thikness is {}\".format(folded_thickness))\n",
    "elapsed_time = time.time()\n",
    "print(\"time : {}[s]\".format(elapsed_time))"
   ]
  },
  {
   "cell_type": "code",
   "execution_count": 68,
   "id": "30d390f7",
   "metadata": {},
   "outputs": [
    {
     "name": "stdout",
     "output_type": "stream",
     "text": [
      "631 ns ± 61.2 ns per loop (mean ± std. dev. of 7 runs, 1000000 loops each)\n",
      "Thikness is 703687441.77664\n"
     ]
    }
   ],
   "source": [
    "TICKNESS = 0.00008\n",
    "%timeit folded_thickness = TICKNESS * 2**folded_time\n",
    "print(\"Thikness is {}\".format(folded_thickness))"
   ]
  },
  {
   "cell_type": "markdown",
   "id": "1d2c46b3",
   "metadata": {},
   "source": [
    "###  [Problem 5] Save to list"
   ]
  },
  {
   "cell_type": "code",
   "execution_count": 70,
   "id": "52868d44",
   "metadata": {},
   "outputs": [
    {
     "name": "stdout",
     "output_type": "stream",
     "text": [
      "[8e-05, 0.00016, 0.00032, 0.00064, 0.00128, 0.00256, 0.00512, 0.01024, 0.02048, 0.04096, 0.08192, 0.16384, 0.32768, 0.65536, 1.31072, 2.62144, 5.24288, 10.48576, 20.97152, 41.94304, 83.88608, 167.77216, 335.54432, 671.08864, 1342.17728, 2684.35456, 5368.70912, 10737.41824, 21474.83648, 42949.67296, 85899.34592, 171798.69184, 343597.38368, 687194.76736, 1374389.53472, 2748779.06944, 5497558.13888, 10995116.27776, 21990232.55552, 43980465.11104, 87960930.22208, 175921860.44416, 351843720.88832, 703687441.77664]\n"
     ]
    }
   ],
   "source": [
    "# creer une liste vide \n",
    "\n",
    "a_list = []\n",
    "THICKNESS = 0.00008\n",
    "a_list.append(THICKNESS)\n",
    "for i in range(43):\n",
    "    THICKNESS *= 2\n",
    "    a_list.append(THICKNESS)\n",
    "print(a_list)"
   ]
  },
  {
   "cell_type": "markdown",
   "id": "8ff6c80f",
   "metadata": {},
   "source": [
    "### [Problem 6] Line graph display"
   ]
  },
  {
   "cell_type": "code",
   "execution_count": 71,
   "id": "ca1b0daa",
   "metadata": {},
   "outputs": [
    {
     "data": {
      "image/png": "[encoded data removed]",
      "text/plain": [
       "<Figure size 432x288 with 1 Axes>"
      ]
     },
     "metadata": {
      "needs_background": "light"
     },
     "output_type": "display_data"
    }
   ],
   "source": [
    "import matplotlib.pyplot as plt\n",
    "%matplotlib inline\n",
    "\n",
    "# Display a graph. With title and axis label names.\n",
    "plt.title(\"thickness of folded paper\")\n",
    "plt.xlabel(\"number of folds\")\n",
    "plt.ylabel(\"thickness [m]\")\n",
    "plt.plot(a_list) # Put the variable name of the list in the \"List name\" field.\n",
    "plt.show()"
   ]
  },
  {
   "cell_type": "markdown",
   "id": "c18826d3",
   "metadata": {},
   "source": [
    "### [Problem 7] Customize the graphic\n"
   ]
  },
  {
   "cell_type": "code",
   "execution_count": 72,
   "id": "ddf31d6e",
   "metadata": {},
   "outputs": [
    {
     "name": "stdout",
     "output_type": "stream",
     "text": [
      "line colr red\n"
     ]
    },
    {
     "data": {
      "image/png": "[encoded data removed]",
      "text/plain": [
       "<Figure size 432x288 with 1 Axes>"
      ]
     },
     "metadata": {
      "needs_background": "light"
     },
     "output_type": "display_data"
    },
    {
     "name": "stdout",
     "output_type": "stream",
     "text": [
      "line color green\n"
     ]
    },
    {
     "data": {
      "image/png": "[encoded data removed]",
      "text/plain": [
       "<Figure size 432x288 with 1 Axes>"
      ]
     },
     "metadata": {
      "needs_background": "light"
     },
     "output_type": "display_data"
    },
    {
     "name": "stdout",
     "output_type": "stream",
     "text": [
      "label fontsize = 20\n"
     ]
    },
    {
     "data": {
      "image/png": "[encoded data removed]",
      "text/plain": [
       "<Figure size 432x288 with 1 Axes>"
      ]
     },
     "metadata": {
      "needs_background": "light"
     },
     "output_type": "display_data"
    },
    {
     "name": "stdout",
     "output_type": "stream",
     "text": [
      "pointilla curve\n"
     ]
    },
    {
     "data": {
      "image/png": "[encoded data removed]",
      "text/plain": [
       "<Figure size 432x288 with 1 Axes>"
      ]
     },
     "metadata": {
      "needs_background": "light"
     },
     "output_type": "display_data"
    }
   ],
   "source": [
    "# Display a red line graph.\n",
    "plt.title(\"thickness of folded paper\")\n",
    "plt.xlabel(\"number of folds\")\n",
    "plt.ylabel(\"thickness [m]\")\n",
    "# line colr red\n",
    "print(\"line colr red\")\n",
    "plt.plot(a_list, color='red')\n",
    "plt.show()\n",
    "\n",
    "#line color green\n",
    "print(\"line color green\")\n",
    "plt.plot(a_list, color= '#8c564b')\n",
    "plt.show()\n",
    "\n",
    "# label fontsize\n",
    "print(\"label fontsize = 20\")\n",
    "plt.tick_params(labelsize=20)\n",
    "plt.plot(a_list)\n",
    "plt.show()\n",
    "\n",
    "\n",
    "#pointilla curve\n",
    "print(\"pointilla curve\")\n",
    "plt.plot(a_list, \"b--\", label=\"cos(x)\")\n",
    "plt.show()"
   ]
  },
  {
   "cell_type": "code",
   "execution_count": null,
   "id": "ce32d22e",
   "metadata": {},
   "outputs": [],
   "source": []
  }
 ],
 "metadata": {
  "kernelspec": {
   "display_name": "Python 3",
   "language": "python",
   "name": "python3"
  },
  "language_info": {
   "codemirror_mode": {
    "name": "ipython",
    "version": 3
   },
   "file_extension": ".py",
   "mimetype": "text/x-python",
   "name": "python",
   "nbconvert_exporter": "python",
   "pygments_lexer": "ipython3",
   "version": "3.8.8"
  }
 },
 "nbformat": 4,
 "nbformat_minor": 5
}

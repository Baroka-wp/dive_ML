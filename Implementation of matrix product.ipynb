{
 "cells": [
  {
   "cell_type": "markdown",
   "id": "519cc739",
   "metadata": {},
   "source": [
    "### Matrix product"
   ]
  },
  {
   "cell_type": "markdown",
   "id": "063e9de3",
   "metadata": {},
   "source": [
    "### [Problem 1] Matrix product is calculated manually\n",
    "\n",
    "> ref : https://membres-ljk.imag.fr/Bernard.Ycart/mel/cm/node3.html "
   ]
  },
  {
   "cell_type": "code",
   "execution_count": 24,
   "id": "b393ef13",
   "metadata": {},
   "outputs": [
    {
     "name": "stdout",
     "output_type": "stream",
     "text": [
      "[[  6  29 -20]\n",
      " [ 12  52  38]\n",
      " [-18 -51 -48]]\n"
     ]
    }
   ],
   "source": [
    "import numpy as np\n",
    "a = np.array([[-1, 2, 3], [4, -5, 6], [7, 8, -9]])\n",
    "b = np.array([[0, 2, 1], [0, 2, -8], [2, 9, -1]])\n",
    "\n",
    "#c[0,0] = (a[0] * b[:,0]).sum()\n",
    "#c[0,1] = (a[0] * b[:,1]).sum()\n",
    "#c[0,2] = (a[0] * b[:,2]).sum()\n",
    "#c[1,0] = (a[1] * b[:,0]).sum()\n",
    "#c[1,1] = (a[1] * b[:,1]).sum()\n",
    "#c[1,2] = (a[1] * b[:,2]).sum()\n",
    "#c[2,0] = (a[1] * b[:,0]).sum()\n",
    "#c[2,1] = (a[1] * b[:,1]).sum()\n",
    "#c[2,2] = (a[1] * b[:,2]).sum()\n",
    "\n",
    "c = [[(a[0] * b[:,0]).sum(),(a[0] * b[:,1]).sum(), (a[0] * b[:,2]).sum()],\n",
    "     [(a[1] * b[:,0]).sum(),(a[1] * b[:,1]).sum(), (a[1] * b[:,2]).sum()],\n",
    "     [(a[2] * b[:,0]).sum(),(a[2] * b[:,1]).sum(), (a[2] * b[:,2]).sum()]]   \n",
    "\n",
    "print(np.array(c))"
   ]
  },
  {
   "cell_type": "markdown",
   "id": "297ec646",
   "metadata": {},
   "source": [
    "###  [Problème 2】Calcul with NumPy function"
   ]
  },
  {
   "cell_type": "code",
   "execution_count": 166,
   "id": "fdac0edb",
   "metadata": {},
   "outputs": [
    {
     "name": "stdout",
     "output_type": "stream",
     "text": [
      "[[  6  29 -20]\n",
      " [ 12  52  38]\n",
      " [-18 -51 -48]]\n",
      "CPU times: user 657 µs, sys: 2.09 ms, total: 2.75 ms\n",
      "Wall time: 4.79 ms\n"
     ]
    }
   ],
   "source": [
    "import numpy as np\n",
    "#import numpy.matlib\n",
    "a = np.array([[-1, 2, 3], [4, -5, 6], [7, 8, -9]])\n",
    "b = np.array([[0, 2, 1], [0, 2, -8], [2, 9, -1]])\n",
    "#using matmul\n",
    "%time print(np.matmul(a,b))"
   ]
  },
  {
   "cell_type": "code",
   "execution_count": 28,
   "id": "2b5cebd9",
   "metadata": {},
   "outputs": [
    {
     "name": "stdout",
     "output_type": "stream",
     "text": [
      "[[  6  29 -20]\n",
      " [ 12  52  38]\n",
      " [-18 -51 -48]]\n",
      "CPU times: user 957 µs, sys: 1.29 ms, total: 2.24 ms\n",
      "Wall time: 24.5 ms\n"
     ]
    }
   ],
   "source": [
    "#using dot()\n",
    "%time print(np.dot(a,b))"
   ]
  },
  {
   "cell_type": "code",
   "execution_count": 5,
   "id": "e89a35bf",
   "metadata": {},
   "outputs": [
    {
     "name": "stdout",
     "output_type": "stream",
     "text": [
      "[[  6  29 -20]\n",
      " [ 12  52  38]\n",
      " [-18 -51 -48]]\n",
      "CPU times: user 587 µs, sys: 185 µs, total: 772 µs\n",
      "Wall time: 784 µs\n",
      "0\n"
     ]
    }
   ],
   "source": [
    "#using @ operator\n",
    "%time print(a@b)\n",
    "\n",
    "c = a@b\n",
    "print(c.sum())\n"
   ]
  },
  {
   "cell_type": "markdown",
   "id": "8c7275d1",
   "metadata": {},
   "source": [
    "\n",
    "### [Problem 3] Implementation of calculation of a certain element\n",
    "\n",
    "Scratch implementation of matrix product\n",
    "k=0 -> 2 # 2 is the ndarray lenght\n",
    "∑a(0,k) * b(k,0)"
   ]
  },
  {
   "cell_type": "code",
   "execution_count": 224,
   "id": "11bfca8b",
   "metadata": {
    "scrolled": true
   },
   "outputs": [
    {
     "name": "stdout",
     "output_type": "stream",
     "text": [
      "6\n"
     ]
    }
   ],
   "source": [
    "import numpy as np\n",
    "a = np.array([[-1, 2, 3], [4, -5, 6], [7, 8, -9]])\n",
    "b = np.array([[0, 2, 1], [0, 2, -8], [2, 9, -1]])\n",
    "elt = 0\n",
    "for k in range(len(a)):\n",
    "    elt += a[0,k] * b[k,0]\n",
    "\n",
    "print(elt)"
   ]
  },
  {
   "cell_type": "markdown",
   "id": "8e64eeef",
   "metadata": {},
   "source": [
    "### [Problem 4] Creating a function that performs matrix multiplication"
   ]
  },
  {
   "cell_type": "code",
   "execution_count": 223,
   "id": "7e04da99",
   "metadata": {},
   "outputs": [
    {
     "name": "stdout",
     "output_type": "stream",
     "text": [
      "[[6, 29, -20], [12, 52, 38], [-18, -51, -48]]\n"
     ]
    }
   ],
   "source": [
    "import numpy as np\n",
    "\n",
    "a = np.array([[-1, 2, 3], [4, -5, 6], [7, 8, -9]])\n",
    "\n",
    "b = np.array([[0, 2, 1], [0, 2, -8], [2, 9, -1]])\n",
    "\n",
    "\n",
    "def ndarrayProduct(a_ndarray,b_ndarray):\n",
    "    \n",
    "    \n",
    "    elt = 0    \n",
    "    new_matrix = []\n",
    "   #Please create an empty matrix with the zeros method of numpy (np.zeros()). In addition, double check the len you have been using. The shape method is more appropriate in here.\n",
    "\n",
    "    for k in range(a_ndarray.shape[0]):  \n",
    "        \n",
    "        elt_list = [] # list to stock each line mutiliplication\n",
    "        \n",
    "        for i in range(a_ndarray.shape[0]):\n",
    "\n",
    "            elt = 0 #matrix elt\n",
    "\n",
    "            for j in range(a_ndarray.shape[1]):\n",
    "\n",
    "                elt += (a_ndarray[k,j] * b_ndarray[j,i]) \n",
    "            \n",
    "            elt_list.append(elt)\n",
    "            \n",
    "        new_matrix.append(elt_list)\n",
    "\n",
    "\n",
    "    return new_matrix\n",
    "\n",
    "\n",
    "print(ndarrayProduct(a,b))"
   ]
  },
  {
   "cell_type": "markdown",
   "id": "f3bf1664",
   "metadata": {},
   "source": [
    "### [Problem 5] Judge the input whose calculation is not defined"
   ]
  },
  {
   "cell_type": "code",
   "execution_count": 222,
   "id": "721c4389",
   "metadata": {},
   "outputs": [
    {
     "name": "stdout",
     "output_type": "stream",
     "text": [
      "your two matrix must have same lenght to be mutipliable\n"
     ]
    }
   ],
   "source": [
    "import numpy as np\n",
    "\n",
    "d_ndarray = np.array([[-1, 2, 3], [4, -5, 6]])\n",
    "\n",
    "e_ndarray = np.array([[-9, 8, 7], [6, -5, 4]])\n",
    "\n",
    "\n",
    "def ndarrayProduct(a_ndarray,b_ndarray):\n",
    "    \n",
    "\n",
    "    if a_ndarray.shape[1]!= b_ndarray.shape[0]: \n",
    "        #You should compare the number of columns (with .shape[1]) of the first matrix with the number of rows (with .shape[0] of the second matrix)\n",
    "\n",
    "        err_msg = \"your two matrix must have same lenght to be mutipliable\"\n",
    "\n",
    "        return err_msg\n",
    "\n",
    "    elt = 0    \n",
    "    new_matrix = []\n",
    "   #Please create an empty matrix with the zeros method of numpy (np.zeros()). In addition, double check the len you have been using. The shape method is more appropriate in here.\n",
    "\n",
    "    for k in range(a_ndarray.shape[0]):  \n",
    "        \n",
    "        elt_list = [] # list to stock each line mutiliplication\n",
    "        \n",
    "        for i in range(a_ndarray.shape[0]):\n",
    "\n",
    "            elt = 0 #matrix elt\n",
    "\n",
    "            for j in range(a_ndarray.shape[1]):\n",
    "\n",
    "                elt += (a_ndarray[k,j] * b_ndarray[j,i]) \n",
    "            \n",
    "            elt_list.append(elt)\n",
    "            \n",
    "        new_matrix.append(elt_list)\n",
    "\n",
    "\n",
    "    return new_matrix\n",
    "\n",
    "\n",
    "print(ndarrayProduct(d_ndarray,e_ndarray))\n"
   ]
  },
  {
   "cell_type": "markdown",
   "id": "a0fb9eb7",
   "metadata": {},
   "source": [
    "### [Problem 6] Transposition"
   ]
  },
  {
   "cell_type": "code",
   "execution_count": 221,
   "id": "d5f029cc",
   "metadata": {},
   "outputs": [
    {
     "name": "stdout",
     "output_type": "stream",
     "text": [
      "using np.transpose()\n",
      "[[46, -4], [-34, 73]]\n",
      "\n",
      "\n",
      "verification using .T\n",
      "[[ 46  -4]\n",
      " [-34  73]]\n"
     ]
    }
   ],
   "source": [
    "import numpy as np\n",
    "d_ndarray = np.array([[-1, 2, 3], [4, -5, 6]])\n",
    "e_ndarray = np.array([[-9, 8, 7], [6, -5, 4]])\n",
    "\n",
    "print(\"using np.transpose()\") \n",
    "print(ndarrayProduct(d_ndarray,e_ndarray.T))\n",
    "\n",
    "\n",
    "print(\"\\n\")\n",
    "print(\"verification using .T\") \n",
    "print(d_ndarray@e_ndarray.T)\n"
   ]
  },
  {
   "cell_type": "code",
   "execution_count": null,
   "id": "5ee3c858",
   "metadata": {},
   "outputs": [],
   "source": []
  }
 ],
 "metadata": {
  "kernelspec": {
   "display_name": "Python 3",
   "language": "python",
   "name": "python3"
  },
  "language_info": {
   "codemirror_mode": {
    "name": "ipython",
    "version": 3
   },
   "file_extension": ".py",
   "mimetype": "text/x-python",
   "name": "python",
   "nbconvert_exporter": "python",
   "pygments_lexer": "ipython3",
   "version": "3.8.8"
  }
 },
 "nbformat": 4,
 "nbformat_minor": 5
}

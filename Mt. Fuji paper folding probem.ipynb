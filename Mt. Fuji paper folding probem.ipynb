{
 "cells": [
  {
   "cell_type": "markdown",
   "id": "2d6b0ab2",
   "metadata": {},
   "source": [
    "### [Problem 1] How many times to fold paper to exceed the height of Mt.Fuji?"
   ]
  },
  {
   "cell_type": "code",
   "execution_count": 49,
   "id": "1caa1a19",
   "metadata": {},
   "outputs": [
    {
     "name": "stdout",
     "output_type": "stream",
     "text": [
      "Minimum time to fold request for the thickness to excedd the height of Mt. Fudji is : 26 time\n"
     ]
    }
   ],
   "source": [
    "import math as math\n",
    "def how_many_time_to_fold_to_exceed_mt_fudji():\n",
    "    \"\"\"\n",
    "    Funtion to calculate the minimum time to fold request \n",
    "    for the thickness to exceed the height of Mt. Fudji (3776m)\n",
    "    \n",
    "    nb_of_fold : number of fold request \n",
    "    \n",
    "    tn = t0 * 2**nb_of_fold\n",
    "    -> tn/t0 = 2**nb_of_fold\n",
    "    -> log(tn/t0) = nb_of_fold*log(2)\n",
    "    -> nb_of_fold = log(tn/t0) / log(2)\n",
    "    \n",
    "    t0 = 0.00008\n",
    "    tn = 3776 \n",
    "    \n",
    "    -> nb_of_fold = log(3776 / 0.00008) / log(2)\n",
    "    \n",
    "    \"\"\"\n",
    "    nb_of_fold = math.log(3776 / 0.00008) / math.log(2)\n",
    "    print(\"Minimum time to fold request for the thickness to excedd the height of Mt. Fudji is : {} time\".format(int(nb_of_fold) + 1))\n",
    "    return int(nb_of_fold) + 1\n",
    "\n",
    "nb_of_fold = how_many_time_to_fold_to_exceed_mt_fudji()"
   ]
  },
  {
   "cell_type": "markdown",
   "id": "f3821a8f",
   "metadata": {},
   "source": [
    "### [Problem 2] Function corresponding to arbitrary thickness\n"
   ]
  },
  {
   "cell_type": "code",
   "execution_count": 67,
   "id": "e8696f57",
   "metadata": {},
   "outputs": [
    {
     "name": "stdout",
     "output_type": "stream",
     "text": [
      "Minimum time to fold request for the thickness to excedd 4.0175e+16m  is : 69 time\n",
      "\n",
      "\n",
      "Minimum time to fold request for the thickness to excedd 3776m  is : 26 time\n",
      "\n",
      "\n"
     ]
    }
   ],
   "source": [
    "import math as math\n",
    "proxima_centauri_star = 4.0175*10**16 #The nearest non-sun star is Proxima Centaur\n",
    "THICKNESS = 0.00008 # tickness zero\n",
    "def how_many_time_to_fold_to_exeed(height,THICKNESS):\n",
    "    \"\"\"\n",
    "    function to calculate how many time to fold request to exeed a certain height\n",
    "    \n",
    "    height : height to give\n",
    "    nb_of_fold : number of fold request \n",
    "    \n",
    "    -> nb_of_fold = log(height / thicknessZero) / log(2)\n",
    "    \n",
    "    \"\"\"\n",
    "    \n",
    "    nb_of_fold = math.log(height / THICKNESS) / math.log(2)\n",
    "    print(\"Minimum time to fold request for the thickness to excedd {}m  is : {} time\".format(height, int(nb_of_fold) + 1))\n",
    "    print(\"\\n\")\n",
    "    return int(nb_of_fold) + 1\n",
    "\n",
    "nb_of_fold = how_many_time_to_fold_to_exeed(proxima_centauri_star, THICKNESS)\n",
    "nb_of_fold = how_many_time_to_fold_to_exeed(3776, THICKNESS)\n"
   ]
  },
  {
   "cell_type": "markdown",
   "id": "63863ae2",
   "metadata": {},
   "source": [
    "### [Problem 3] Required paper length"
   ]
  },
  {
   "cell_type": "code",
   "execution_count": 63,
   "id": "304b7992",
   "metadata": {},
   "outputs": [
    {
     "name": "stdout",
     "output_type": "stream",
     "text": [
      "Minimum time to fold request for the thickness to excedd 3776m  is : 26 time\n",
      "Length of paper needed is : 188646348487.24017\n",
      "\n",
      "\n",
      "Minimum time to fold request for the thickness to excedd 384400000m  is : 43 time\n",
      "Length of paper needed is : 3.240919444170781e+21\n",
      "\n",
      "\n",
      "Minimum time to fold request for the thickness to excedd 4.0175e+16m  is : 69 time\n",
      "Length of paper needed is : 1.4595803601100348e+37\n",
      "\n",
      "\n"
     ]
    }
   ],
   "source": [
    "import math as math\n",
    "THICKNESS = 0.00008 # tickness zero\n",
    "\n",
    "def length_of_paper_to_reach(the_distance_to_reach):\n",
    "    \"\"\"\n",
    "    function to find lenght_of_paper needed to actually \n",
    "    fold the paper and reach any thickness.\n",
    "    \n",
    "    any_thickness = 1000 # default thickness we want to get\n",
    "    lenght_of_paper : lenght of paper we need\n",
    "    \"\"\"\n",
    "    nb_of_folding = how_many_time_to_fold_to_exeed(the_distance_to_reach, THICKNESS)\n",
    "    \n",
    "    a = (math.pi*THICKNESS) / 6\n",
    "    b = 2**nb_of_folding + 4\n",
    "    c = 2**nb_of_folding - 1\n",
    "    \n",
    "    lenght_of_paper = a * b * c\n",
    "    \n",
    "    print(\"Length of paper needed is : {}\".format(lenght_of_paper))\n",
    "    print(\"\\n\")\n",
    "\n",
    "moon_distance = 384400*1000\n",
    "mont_fudji_distance = 3776\n",
    "proxima_centauri_star_distance = 4.0175*10**16\n",
    "\n",
    "lenght_of_paper = length_of_paper_to_reach(mont_fudji_distance)\n",
    "lenght_of_paper = length_of_paper_to_reach(moon_distance)\n",
    "lenght_of_paper = length_of_paper_to_reach(proxima_centauri_star_distance)\n"
   ]
  },
  {
   "cell_type": "markdown",
   "id": "819cd854",
   "metadata": {},
   "source": [
    "### bonus (another way for problem 1 and 2)"
   ]
  },
  {
   "cell_type": "markdown",
   "id": "8b49e920",
   "metadata": {},
   "source": [
    "#### [Problem 1] How many times to fold paper to exceed the height of Mt.Fuji?"
   ]
  },
  {
   "cell_type": "code",
   "execution_count": 71,
   "id": "5fbe10d0",
   "metadata": {},
   "outputs": [
    {
     "name": "stdout",
     "output_type": "stream",
     "text": [
      "Minimum folding to exeed mont fufji is : 26 \n"
     ]
    }
   ],
   "source": [
    "def how_many_time_to_fold(THICKNESS = 0.00008):\n",
    "    nb_folding = 0\n",
    "    while True:\n",
    "        nb_folding += 1 #add one each time\n",
    "        THICKNESS *= 2 \n",
    "        if 3776 - THICKNESS <= 0:\n",
    "            break\n",
    "\n",
    "    print(\"Minimum folding to exeed mont fufji is : {} \".format(nb_folding))\n",
    "    return nb_folding\n",
    "\n",
    "nb_folding = how_many_time_to_fold()"
   ]
  },
  {
   "cell_type": "markdown",
   "id": "9cd1d61a",
   "metadata": {},
   "source": [
    "#### [Problem 2] Function corresponding to arbitrary thickness"
   ]
  },
  {
   "cell_type": "code",
   "execution_count": 73,
   "id": "3f02da9d",
   "metadata": {},
   "outputs": [
    {
     "name": "stdout",
     "output_type": "stream",
     "text": [
      "Minimum folding to exeed proxima centauri star is : 69\n"
     ]
    }
   ],
   "source": [
    "proxima_centauri_star = 4.0175*10**16\n",
    "\n",
    "def folding_request_to_exeed(height,THICKNESS=0.00008 ):  \n",
    "    nb_folding = 0\n",
    "    while True:\n",
    "        nb_folding += 1 #add one each time\n",
    "        THICKNESS *= 2 \n",
    "        if height - THICKNESS <= 0:\n",
    "            break\n",
    "    \n",
    "    print(\"Minimum folding to exeed proxima centauri star is : {}\".format(nb_folding))    \n",
    "    return nb_folding\n",
    "\n",
    "nb_folding = folding_request_to_exeed(proxima_centauri_star, thicknessZero)"
   ]
  }
 ],
 "metadata": {
  "kernelspec": {
   "display_name": "Python 3",
   "language": "python",
   "name": "python3"
  },
  "language_info": {
   "codemirror_mode": {
    "name": "ipython",
    "version": 3
   },
   "file_extension": ".py",
   "mimetype": "text/x-python",
   "name": "python",
   "nbconvert_exporter": "python",
   "pygments_lexer": "ipython3",
   "version": "3.8.8"
  }
 },
 "nbformat": 4,
 "nbformat_minor": 5
}

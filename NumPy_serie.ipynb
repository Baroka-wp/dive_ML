{
 "cells": [
  {
   "cell_type": "markdown",
   "id": "cf0fb956",
   "metadata": {},
   "source": [
    "## Problem 1] Number of grains of rice on the 100th day"
   ]
  },
  {
   "cell_type": "code",
   "execution_count": 1,
   "id": "28f0bbe1",
   "metadata": {},
   "outputs": [
    {
     "name": "stdout",
     "output_type": "stream",
     "text": [
      "[1 2 3]\n"
     ]
    }
   ],
   "source": [
    "#importer NumPy\n",
    "import numpy as np\n",
    "\n",
    "#creer un tableau simple avec NumPy\n",
    "\n",
    "sample_ndarray = np.array([1, 2, 3])\n",
    "print(sample_ndarray)"
   ]
  },
  {
   "cell_type": "code",
   "execution_count": 2,
   "id": "14a44cd9",
   "metadata": {},
   "outputs": [
    {
     "name": "stdout",
     "output_type": "stream",
     "text": [
      "[[1 2 3]\n",
      " [4 5 6]]\n"
     ]
    }
   ],
   "source": [
    "# creer un tableau multidimensionnel\n",
    "sample_ndarray2 = np.array([[1, 2, 3], [4, 5, 6]])\n",
    "print(sample_ndarray2)"
   ]
  },
  {
   "cell_type": "markdown",
   "id": "a7ae7672",
   "metadata": {},
   "source": [
    "## Faire des operation arthmetique sur les tableaux Numpy\n"
   ]
  },
  {
   "cell_type": "code",
   "execution_count": 3,
   "id": "271855e5",
   "metadata": {},
   "outputs": [
    {
     "name": "stdout",
     "output_type": "stream",
     "text": [
      "[3, 4, 5]\n"
     ]
    }
   ],
   "source": [
    "#pour ajouter 2 a chaque valeur du tableau\n",
    "a = 2 \n",
    "b_list = [1, 2, 3]\n",
    "c_list = []\n",
    "\n",
    "for b in b_list:\n",
    "    c_list.append(a + b)\n",
    "    \n",
    "print(c_list)\n",
    "\n",
    "# les boucles sont tres couteux avec python. Il prennent du temps. Voici pourquoi il faut utiliser Numpy autant que possible"
   ]
  },
  {
   "cell_type": "code",
   "execution_count": 4,
   "id": "fd91a6d6",
   "metadata": {},
   "outputs": [
    {
     "name": "stdout",
     "output_type": "stream",
     "text": [
      "[3 4 5]\n"
     ]
    }
   ],
   "source": [
    "#pour ajouter 2 a chaque valeur du tableau en utilisant Numpy\n",
    "print(2 + np.array([1, 2, 3]))"
   ]
  },
  {
   "cell_type": "code",
   "execution_count": 5,
   "id": "0243825e",
   "metadata": {},
   "outputs": [
    {
     "name": "stdout",
     "output_type": "stream",
     "text": [
      "[3 4 5]\n",
      "[2 4 6]\n",
      "[ True False False]\n"
     ]
    }
   ],
   "source": [
    "# on peut aussi sommer les valeurs d'un tableau de donnee numpy\n",
    "print(np.array([2, 2, 2]) + np.array([1, 2, 3]))\n",
    "\n",
    "#on peut aussi faire d'autre operation de la meme maniere\n",
    "print(np.array([2, 2, 2]) * np.array([1, 2, 3]))\n",
    "\n",
    "# on peut faire des comparaison entre les valeurs du ndarray\n",
    "print(np.array([2, 2, 2]) > np.array([1, 2, 3]))\n"
   ]
  },
  {
   "cell_type": "code",
   "execution_count": 6,
   "id": "b7b395e8",
   "metadata": {},
   "outputs": [
    {
     "name": "stdout",
     "output_type": "stream",
     "text": [
      "[3 4 5]\n",
      "[3 4 5]\n",
      "[3 4 5]\n"
     ]
    }
   ],
   "source": [
    "# Nous avons donc trois maniere d'ecrire la diffusion de valeurs\n",
    "print(np.array([2, 2, 2]) + np.array([1, 2, 3]))\n",
    "print(2 + np.array([1, 2, 3]))\n",
    "print(np.array([2]) + np.array([1, 2, 3]))"
   ]
  },
  {
   "cell_type": "markdown",
   "id": "2a522059",
   "metadata": {},
   "source": [
    "### Les methodes de creation de tableaux"
   ]
  },
  {
   "cell_type": "code",
   "execution_count": 7,
   "id": "ede216bf",
   "metadata": {},
   "outputs": [
    {
     "name": "stdout",
     "output_type": "stream",
     "text": [
      "creer un tableau np avec la liste\n",
      "[1 2 3]\n",
      "creer un tableau avec un serie de 0 a n\n",
      "[ 0  1  2  3  4  5  6  7  8  9 10 11 12 13 14 15 16 17 18 19 20 21 22 23\n",
      " 24 25 26 27 28 29 30 31 32 33 34 35 36 37 38 39 40 41 42 43 44 45 46 47\n",
      " 48 49 50 51 52 53 54 55 56 57 58 59 60 61 62 63 64 65 66 67 68 69 70 71\n",
      " 72 73 74 75 76 77 78 79 80 81 82 83 84 85 86 87 88 89 90 91 92 93 94 95\n",
      " 96 97 98 99]\n",
      "(100,)\n",
      "peut aussi s'ecrire \n",
      "[ 0  1  2  3  4  5  6  7  8  9 10 11 12 13 14 15 16 17 18 19 20 21 22 23\n",
      " 24 25 26 27 28 29 30 31 32 33 34 35 36 37 38 39 40 41 42 43 44 45 46 47\n",
      " 48 49 50 51 52 53 54 55 56 57 58 59 60 61 62 63 64 65 66 67 68 69 70 71\n",
      " 72 73 74 75 76 77 78 79 80 81 82 83 84 85 86 87 88 89 90 91 92 93 94 95\n",
      " 96 97 98 99]\n"
     ]
    }
   ],
   "source": [
    "print(\"creer un tableau np avec la liste\") \n",
    "sample_ndarray1 = np.array([1, 2, 3])\n",
    "print(sample_ndarray1)\n",
    "\n",
    "print(\"creer un tableau avec un serie de 0 a n\") \n",
    "# sample_ndarray2 = np.arrange(n)\n",
    "\n",
    "sample_ndarray2 = np.arange(100)\n",
    "print(sample_ndarray2)\n",
    "print(sample_ndarray2.shape)\n",
    "\n",
    "print(\"peut aussi s'ecrire \") \n",
    "sample_ndarray3 = np.array(range(100))\n",
    "print(sample_ndarray3)"
   ]
  },
  {
   "cell_type": "code",
   "execution_count": 8,
   "id": "e83ad153",
   "metadata": {},
   "outputs": [
    {
     "name": "stdout",
     "output_type": "stream",
     "text": [
      "[0. 0. 0. 0. 0. 0. 0. 0. 0. 0. 0. 0. 0. 0. 0. 0. 0. 0. 0. 0. 0. 0. 0. 0.\n",
      " 0. 0. 0. 0. 0. 0. 0. 0. 0. 0. 0. 0. 0. 0. 0. 0. 0. 0. 0. 0. 0. 0. 0. 0.\n",
      " 0. 0. 0. 0. 0. 0. 0. 0. 0. 0. 0. 0. 0. 0. 0. 0. 0. 0. 0. 0. 0. 0. 0. 0.\n",
      " 0. 0. 0. 0. 0. 0. 0. 0. 0. 0. 0. 0. 0. 0. 0. 0. 0. 0. 0. 0. 0. 0. 0. 0.\n",
      " 0. 0. 0. 0.]\n",
      "(100,)\n"
     ]
    }
   ],
   "source": [
    "#un tableau ne contenant que des 0 100 fois\n",
    "sample_array = np.zeros(100)\n",
    "print(sample_array)\n",
    "print(sample_array.shape)"
   ]
  },
  {
   "cell_type": "code",
   "execution_count": 9,
   "id": "25d21841",
   "metadata": {},
   "outputs": [
    {
     "name": "stdout",
     "output_type": "stream",
     "text": [
      "[1. 1. 1. 1. 1. 1. 1. 1. 1. 1. 1. 1. 1. 1. 1. 1. 1. 1. 1. 1. 1. 1. 1. 1.\n",
      " 1. 1. 1. 1. 1. 1. 1. 1. 1. 1. 1. 1. 1. 1. 1. 1. 1. 1. 1. 1. 1. 1. 1. 1.\n",
      " 1. 1. 1. 1. 1. 1. 1. 1. 1. 1. 1. 1. 1. 1. 1. 1. 1. 1. 1. 1. 1. 1. 1. 1.\n",
      " 1. 1. 1. 1. 1. 1. 1. 1. 1. 1. 1. 1. 1. 1. 1. 1. 1. 1. 1. 1. 1. 1. 1. 1.\n",
      " 1. 1. 1. 1.]\n"
     ]
    }
   ],
   "source": [
    "#un tableau ne contenant que des 1 100 fois\n",
    "sample_array = np.ones(100)\n",
    "print(sample_array)"
   ]
  },
  {
   "cell_type": "code",
   "execution_count": 10,
   "id": "d7b8b488",
   "metadata": {},
   "outputs": [
    {
     "name": "stdout",
     "output_type": "stream",
     "text": [
      "[7 7 7 7 7 7 7 7 7 7 7 7 7 7 7 7 7 7 7 7 7 7 7 7 7 7 7 7 7 7 7 7 7 7 7 7 7\n",
      " 7 7 7 7 7 7 7 7 7 7 7 7 7 7 7 7 7 7 7 7 7 7 7 7 7 7 7 7 7 7 7 7 7 7 7 7 7\n",
      " 7 7 7 7 7 7 7 7 7 7 7 7 7 7 7 7 7 7 7 7 7 7 7 7 7 7]\n"
     ]
    }
   ],
   "source": [
    "#creer un tableau de 100 valeur ne contenant que des 7 \n",
    "sample_array = np.full(100, 7)\n",
    "print(sample_array)"
   ]
  },
  {
   "cell_type": "code",
   "execution_count": 11,
   "id": "947acc73",
   "metadata": {},
   "outputs": [
    {
     "name": "stdout",
     "output_type": "stream",
     "text": [
      "[0 1 2 3 4 5 6 7 8 9]\n",
      "3\n",
      "[0 1 2]\n",
      "9\n",
      "[0 2 4 6 8]\n",
      "[9 8 7 6 5 4 3 2 1 0]\n"
     ]
    }
   ],
   "source": [
    "sample_ndarray = np.arange(10)\n",
    "print(sample_ndarray)\n",
    "print(sample_ndarray[3]) # extraire le troisieme element du tableau\n",
    "print(sample_ndarray[:3]) # recuperer les 3 premiers valeur\n",
    "print(sample_ndarray[-1]) # Recuperer le dernier element\n",
    "print(sample_ndarray[::2]) # recuperer les valeurs du tableau en partant du debut en sautant de deux pas\n",
    "print(sample_ndarray[::-1]) # renverser le tableau"
   ]
  },
  {
   "cell_type": "code",
   "execution_count": 12,
   "id": "14875a83",
   "metadata": {},
   "outputs": [
    {
     "name": "stdout",
     "output_type": "stream",
     "text": [
      "[0 1 2 3]\n",
      "(4,)\n",
      "<class 'tuple'>\n",
      "[[0 1]\n",
      " [2 3]]\n",
      "(2, 2)\n"
     ]
    }
   ],
   "source": [
    "a_ndarray = np.arange(4)\n",
    "print(a_ndarray) # un tableau de 0 a 3\n",
    "\n",
    "\n",
    "print(a_ndarray.shape)#(4,)\n",
    "print(type(a_ndarray.shape)) #tulpe\n",
    "b_ndarray = a_ndarray.reshape(2, 2) # disiser le tableau en deux de deux element chacun\n",
    "print(b_ndarray)\n",
    "print(b_ndarray.shape) # (2, 2)"
   ]
  },
  {
   "cell_type": "code",
   "execution_count": 18,
   "id": "44fca4c5",
   "metadata": {},
   "outputs": [
    {
     "name": "stdout",
     "output_type": "stream",
     "text": [
      "[[0 1 2]\n",
      " [3 4 5]]\n",
      "[0 3]\n"
     ]
    }
   ],
   "source": [
    "sample_ndarray = np.arange(6).reshape(2, 3)\n",
    "sample_ndarray[0, 2] # Extraire les éléments de la ligne 0, colonne 2\n",
    "sample_ndarray[:, 1:] # Extraire toutes les lignes et colonnes après la première ligne comme un tableau (Sly)\n",
    "\n",
    "print(sample_ndarray)\n",
    "print(sample_ndarray[:,0])\n",
    "#print(sample_ndarray[:, 1:])\n"
   ]
  },
  {
   "cell_type": "code",
   "execution_count": 14,
   "id": "dae716ad",
   "metadata": {},
   "outputs": [
    {
     "name": "stdout",
     "output_type": "stream",
     "text": [
      "[0 1 2 3 4 5]\n",
      "[[0 1 2]\n",
      " [3 4 5]]\n",
      "Le shape est (2, 3)\n",
      "La somme est 15\n",
      "La somme de l'axe 0 est [3 5 7]\n",
      "La somme de l'axe 1 est [ 3 12]\n",
      "la moyenne de l'axe 1 est [1. 4.]\n"
     ]
    }
   ],
   "source": [
    "a_ndarray = np.arange(6)\n",
    "b_ndarray = a_ndarray.reshape(2, 3)\n",
    "print(a_ndarray)\n",
    "print(b_ndarray)\n",
    "print(\"Le shape est {}\".format(b_ndarray.shape)) # (2, 3)\n",
    "print(\"La somme est {}\".format(b_ndarray.sum())) # 15\n",
    "print(\"La somme de l'axe 0 est {}\".format(b_ndarray.sum(axis=0))) # [3 5 7]\n",
    "print(\"La somme de l'axe 1 est {}\".format(b_ndarray.sum(axis=1))) # [3 5 7]\n",
    "print(\"la moyenne de l'axe 1 est {}\".format(b_ndarray.mean(axis=1))) # [1. 4.]"
   ]
  },
  {
   "cell_type": "code",
   "execution_count": null,
   "id": "f876e701",
   "metadata": {},
   "outputs": [],
   "source": []
  }
 ],
 "metadata": {
  "kernelspec": {
   "display_name": "Python 3",
   "language": "python",
   "name": "python3"
  },
  "language_info": {
   "codemirror_mode": {
    "name": "ipython",
    "version": 3
   },
   "file_extension": ".py",
   "mimetype": "text/x-python",
   "name": "python",
   "nbconvert_exporter": "python",
   "pygments_lexer": "ipython3",
   "version": "3.8.8"
  }
 },
 "nbformat": 4,
 "nbformat_minor": 5
}

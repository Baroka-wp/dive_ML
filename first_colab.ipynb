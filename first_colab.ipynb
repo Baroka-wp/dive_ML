{
  "nbformat": 4,
  "nbformat_minor": 0,
  "metadata": {
    "colab": {
      "name": "first_colab.ipynb",
      "provenance": [],
      "authorship_tag": "ABX9TyN9dK2RMMqs20WiMtUL2c/L",
      "include_colab_link": true
    },
    "kernelspec": {
      "name": "python3",
      "display_name": "Python 3"
    },
    "language_info": {
      "name": "python"
    }
  },
  "cells": [
    {
      "cell_type": "markdown",
      "metadata": {
        "id": "view-in-github",
        "colab_type": "text"
      },
      "source": [
        "<a href=\"https://colab.research.google.com/github/Baroka-wp/dive_ML/blob/master/first_colab.ipynb\" target=\"_parent\"><img src=\"https://colab.research.google.com/assets/colab-badge.svg\" alt=\"Open In Colab\"/></a>"
      ]
    },
    {
      "cell_type": "code",
      "execution_count": 1,
      "metadata": {
        "colab": {
          "base_uri": "https://localhost:8080/"
        },
        "id": "JB0V0Kwx9Ed9",
        "outputId": "c3c95601-7c92-41dd-cbea-3cc938638e99"
      },
      "outputs": [
        {
          "output_type": "stream",
          "name": "stdout",
          "text": [
            "Hello,worls\n"
          ]
        }
      ],
      "source": [
        "print(\"Hello,worls\")"
      ]
    },
    {
      "cell_type": "code",
      "source": [
        "num=2+3\n",
        "print(num)"
      ],
      "metadata": {
        "colab": {
          "base_uri": "https://localhost:8080/"
        },
        "id": "oY2VjbAE9XUz",
        "outputId": "74df230b-9f8e-4e08-a331-931684282d43"
      },
      "execution_count": 2,
      "outputs": [
        {
          "output_type": "stream",
          "name": "stdout",
          "text": [
            "5\n"
          ]
        }
      ]
    },
    {
      "cell_type": "markdown",
      "source": [
        "#Noter du code Python sur colab.\n",
        "$\n",
        "Y=x+2\n",
        "$\n",
        "\n",
        "##Ceci est du code python\n",
        "```py\n",
        "#je veux afficher le text hello,world\n",
        "print(\"hello,World\")\n",
        "```\n",
        "\n",
        "###je peux aussi faire des listes \n",
        "- list 1\n",
        "- list 2\n",
        "  - sous-list \n",
        "\n",
        "> ceci est une citation"
      ],
      "metadata": {
        "id": "1mN-tQk-9hIe"
      }
    },
    {
      "cell_type": "code",
      "source": [
        ""
      ],
      "metadata": {
        "id": "4khzN1C5-O1-"
      },
      "execution_count": null,
      "outputs": []
    }
  ]
}
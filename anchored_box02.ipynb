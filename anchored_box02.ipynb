{
 "cells": [
  {
   "cell_type": "code",
   "execution_count": null,
   "metadata": {},
   "outputs": [],
   "source": [
    "%matplotlib inline"
   ]
  },
  {
   "cell_type": "markdown",
   "metadata": {},
   "source": [
    "\n",
    "# Anchored Box02\n",
    "\n",
    "\n",
    "\n"
   ]
  },
  {
   "cell_type": "code",
   "execution_count": null,
   "metadata": {},
   "outputs": [],
   "source": [
    "from matplotlib.patches import Circle\n",
    "import matplotlib.pyplot as plt\n",
    "from mpl_toolkits.axes_grid1.anchored_artists import AnchoredDrawingArea\n",
    "\n",
    "\n",
    "fig, ax = plt.subplots(figsize=(3, 3))\n",
    "\n",
    "ada = AnchoredDrawingArea(40, 20, 0, 0,\n",
    "                          loc='upper right', pad=0., frameon=False)\n",
    "p1 = Circle((10, 10), 10)\n",
    "ada.drawing_area.add_artist(p1)\n",
    "p2 = Circle((30, 10), 5, fc=\"r\")\n",
    "ada.drawing_area.add_artist(p2)\n",
    "\n",
    "ax.add_artist(ada)\n",
    "\n",
    "plt.show()"
   ]
  }
 ],
 "metadata": {
  "kernelspec": {
   "display_name": "Python 3",
   "language": "python",
   "name": "python3"
  },
  "language_info": {
   "codemirror_mode": {
    "name": "ipython",
    "version": 3
   },
   "file_extension": ".py",
   "mimetype": "text/x-python",
   "name": "python",
   "nbconvert_exporter": "python",
   "pygments_lexer": "ipython3",
   "version": "3.8.8"
  }
 },
 "nbformat": 4,
 "nbformat_minor": 1
}
